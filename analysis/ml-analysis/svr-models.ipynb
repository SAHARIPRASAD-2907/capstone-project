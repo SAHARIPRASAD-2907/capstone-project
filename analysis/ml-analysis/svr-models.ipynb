{
 "cells": [
  {
   "cell_type": "code",
   "execution_count": 49,
   "metadata": {},
   "outputs": [],
   "source": [
    "import pandas as pd\n",
    "from svrregression import svrRegression,visualisingResults"
   ]
  },
  {
   "cell_type": "code",
   "execution_count": 50,
   "metadata": {},
   "outputs": [],
   "source": [
    "def visTrainAndTest(X_train,y_train,X_test, y_test,regression,labels_1,labels_2):\n",
    "    visualisingResults(X_train,y_train,regression,labels_1,labels_2,\"Testing\")\n",
    "    visualisingResults(X_test, y_test,regression,labels_1,labels_2,\"Training\")"
   ]
  },
  {
   "cell_type": "markdown",
   "metadata": {},
   "source": [
    "# INITIAL PHASE"
   ]
  },
  {
   "cell_type": "code",
   "execution_count": 51,
   "metadata": {},
   "outputs": [],
   "source": [
    "# Importing dataset and parameters\n",
    "data = pd.read_csv('../datasets/day1_8.csv')\n",
    "ph_value = data.iloc[:,2].values.reshape(-1, 1)\n",
    "luminous_intensity = data.iloc[:,3].values.reshape(-1, 1)\n",
    "humidity = data.iloc[:,4].values.reshape(-1, 1)\n",
    "temperature= data.iloc[:,5].values.reshape(-1, 1)\n",
    "soil_moisture = data.iloc[:,6].values.reshape(-1, 1)\n",
    "water_level = data.iloc[:,7].values.reshape(-1, 1)\n",
    "labels = [\"PH\",\"SUNLIGHT\",\"HUMIDITY\",\"TEMPERATURE\",\"SOIL MOISTURE\",\"WATER LEVEL\"]\n",
    "parameter = [ph_value,luminous_intensity,humidity,temperature,soil_moisture,water_level]"
   ]
  },
  {
   "cell_type": "markdown",
   "metadata": {},
   "source": [
    "### PH VS PARAMETERS"
   ]
  },
  {
   "cell_type": "code",
   "execution_count": 52,
   "metadata": {},
   "outputs": [
    {
     "name": "stdout",
     "output_type": "stream",
     "text": [
      "PH  VS  SUNLIGHT\n",
      "Mean Absolute Error: 21.430599665913377\n",
      "Root Mean Squared Error: 2443.250058749663\n",
      "Root Mean Squared Log Error: 49.429242951411496\n",
      "R Squared: -0.08118603700118232\n",
      "PH  VS  HUMIDITY\n",
      "Mean Absolute Error: 3.1029428085472586\n",
      "Root Mean Squared Error: 17.30508764395343\n",
      "Root Mean Squared Log Error: 4.159938418288597\n",
      "R Squared: 0.2446151837839904\n",
      "PH  VS  TEMPERATURE\n",
      "Mean Absolute Error: 0.9665345973089015\n",
      "Root Mean Squared Error: 2.0272179133458543\n",
      "Root Mean Squared Log Error: 1.4238040291226368\n",
      "R Squared: -0.0004924035413236272\n",
      "PH  VS  SOIL MOISTURE\n",
      "Mean Absolute Error: 0.8665564969938653\n",
      "Root Mean Squared Error: 1.3664756003505663\n",
      "Root Mean Squared Log Error: 1.1689634726331555\n",
      "R Squared: -0.196052694196712\n",
      "PH  VS  WATER LEVEL\n",
      "Mean Absolute Error: 10.26038806755021\n",
      "Root Mean Squared Error: 210.51909845221877\n",
      "Root Mean Squared Log Error: 14.509276289747149\n",
      "R Squared: 0.062279930450405585\n"
     ]
    }
   ],
   "source": [
    "print(labels[0],\" VS \",labels[1])\n",
    "X_train, X_test, y_train, y_test, regression, y_pred = svrRegression(parameter[0],parameter[1].ravel())\n",
    "print(labels[0],\" VS \",labels[2])\n",
    "X_train, X_test, y_train, y_test, regression, y_pred = svrRegression(parameter[0],parameter[2].ravel())\n",
    "print(labels[0],\" VS \",labels[3])\n",
    "X_train, X_test, y_train, y_test, regression, y_pred = svrRegression(parameter[0],parameter[3].ravel())\n",
    "print(labels[0],\" VS \",labels[4])\n",
    "X_train, X_test, y_train, y_test, regression, y_pred = svrRegression(parameter[0],parameter[4].ravel())\n",
    "print(labels[0],\" VS \",labels[5])\n",
    "X_train, X_test, y_train, y_test, regression, y_pred = svrRegression(parameter[0],parameter[5].ravel())"
   ]
  },
  {
   "cell_type": "markdown",
   "metadata": {},
   "source": [
    "### SUNLIGHT VS PARAMETERS"
   ]
  },
  {
   "cell_type": "code",
   "execution_count": 53,
   "metadata": {},
   "outputs": [
    {
     "name": "stdout",
     "output_type": "stream",
     "text": [
      "SUNLIGHT  VS  PH\n",
      "Mean Absolute Error: 0.3290792760626902\n",
      "Root Mean Squared Error: 0.22001661234219186\n",
      "Root Mean Squared Log Error: 0.46905928446433276\n",
      "R Squared: -0.014194670580683022\n",
      "SUNLIGHT  VS  HUMIDITY\n",
      "Mean Absolute Error: 2.7149089539322793\n",
      "Root Mean Squared Error: 13.189119057817656\n",
      "Root Mean Squared Log Error: 3.6316826758153935\n",
      "R Squared: 0.22681294586573852\n",
      "SUNLIGHT  VS  TEMPERATURE\n",
      "Mean Absolute Error: 0.6010208503348482\n",
      "Root Mean Squared Error: 1.1401495299444637\n",
      "Root Mean Squared Log Error: 1.0677778467192807\n",
      "R Squared: 0.441737789169251\n",
      "SUNLIGHT  VS  SOIL MOISTURE\n",
      "Mean Absolute Error: 0.8841012864003704\n",
      "Root Mean Squared Error: 1.4262775332026243\n",
      "Root Mean Squared Log Error: 1.1942686185287732\n",
      "R Squared: -0.09860532014788581\n",
      "SUNLIGHT  VS  WATER LEVEL\n",
      "Mean Absolute Error: 0.9956911317008119\n",
      "Root Mean Squared Error: 1.580880810629949\n",
      "Root Mean Squared Log Error: 1.2573308278372677\n",
      "R Squared: -0.16980307207373202\n"
     ]
    }
   ],
   "source": [
    "print(labels[1],\" VS \",labels[0])\n",
    "X_train, X_test, y_train, y_test, regression, y_pred = svrRegression(parameter[1],parameter[0].ravel())\n",
    "print(labels[1],\" VS \",labels[2])\n",
    "X_train, X_test, y_train, y_test, regression, y_pred = svrRegression(parameter[1],parameter[2].ravel())\n",
    "print(labels[1],\" VS \",labels[3])\n",
    "X_train, X_test, y_train, y_test, regression, y_pred = svrRegression(parameter[1],parameter[3].ravel())\n",
    "print(labels[1],\" VS \",labels[4])\n",
    "X_train, X_test, y_train, y_test, regression, y_pred = svrRegression(parameter[1],parameter[4].ravel())\n",
    "print(labels[1],\" VS \",labels[5])\n",
    "X_train, X_test, y_train, y_test, regression, y_pred = svrRegression(parameter[1],parameter[4].ravel())"
   ]
  },
  {
   "cell_type": "markdown",
   "metadata": {},
   "source": [
    "### HUMIDITY VS PARAMETERS"
   ]
  },
  {
   "cell_type": "code",
   "execution_count": 54,
   "metadata": {},
   "outputs": [
    {
     "name": "stdout",
     "output_type": "stream",
     "text": [
      "HUMIDITY  VS  PH\n",
      "Mean Absolute Error: 0.2853836486725427\n",
      "Root Mean Squared Error: 0.14516018677482587\n",
      "Root Mean Squared Log Error: 0.3809989327738673\n",
      "R Squared: 0.27474347729904436\n",
      "HUMIDITY  VS  SUNLIGHT\n",
      "Mean Absolute Error: 18.257779464431753\n",
      "Root Mean Squared Error: 1779.0738855025465\n",
      "Root Mean Squared Log Error: 42.1790692820805\n",
      "R Squared: 0.041855574303869325\n",
      "HUMIDITY  VS  TEMPERATURE\n",
      "Mean Absolute Error: 0.6401816675988938\n",
      "Root Mean Squared Error: 0.7298021312871753\n",
      "Root Mean Squared Log Error: 0.8542845727784011\n",
      "R Squared: 0.5907590071329822\n",
      "HUMIDITY  VS  SOIL MOISTURE\n",
      "Mean Absolute Error: 0.8376500320718974\n",
      "Root Mean Squared Error: 1.9303103345680515\n",
      "Root Mean Squared Log Error: 1.3893560863105079\n",
      "R Squared: -0.004058466828254836\n",
      "HUMIDITY  VS  WATER LEVEL\n",
      "Mean Absolute Error: 10.785391329951569\n",
      "Root Mean Squared Error: 256.51897161509146\n",
      "Root Mean Squared Log Error: 16.016209651946102\n",
      "R Squared: 0.06963855508369388\n"
     ]
    }
   ],
   "source": [
    "print(labels[2],\" VS \",labels[0])\n",
    "X_train, X_test, y_train, y_test, regression, y_pred = svrRegression(parameter[2],parameter[0].ravel())\n",
    "print(labels[2],\" VS \",labels[1])\n",
    "X_train, X_test, y_train, y_test, regression, y_pred = svrRegression(parameter[2],parameter[1].ravel())\n",
    "print(labels[2],\" VS \",labels[3])\n",
    "X_train, X_test, y_train, y_test, regression, y_pred = svrRegression(parameter[2],parameter[3].ravel())\n",
    "print(labels[2],\" VS \",labels[4])\n",
    "X_train, X_test, y_train, y_test, regression, y_pred = svrRegression(parameter[2],parameter[4].ravel())\n",
    "print(labels[2],\" VS \",labels[5])\n",
    "X_train, X_test, y_train, y_test, regression, y_pred = svrRegression(parameter[2],parameter[5].ravel())"
   ]
  },
  {
   "cell_type": "markdown",
   "metadata": {},
   "source": [
    "### TEMPERATURE VS PARAMETERS"
   ]
  },
  {
   "cell_type": "code",
   "execution_count": 55,
   "metadata": {},
   "outputs": [
    {
     "name": "stdout",
     "output_type": "stream",
     "text": [
      "TEMPERATURE  VS  PH\n",
      "Mean Absolute Error: 0.34104275724045635\n",
      "Root Mean Squared Error: 0.26070590030252955\n",
      "Root Mean Squared Log Error: 0.5105936743659576\n",
      "R Squared: 0.02164488561307587\n",
      "TEMPERATURE  VS  SUNLIGHT\n",
      "Mean Absolute Error: 19.464113335891454\n",
      "Root Mean Squared Error: 1987.2350787612997\n",
      "Root Mean Squared Log Error: 44.57841494222624\n",
      "R Squared: 0.11565499170739157\n",
      "TEMPERATURE  VS  HUMIDITY\n",
      "Mean Absolute Error: 2.413663138567119\n",
      "Root Mean Squared Error: 9.233910466723568\n",
      "Root Mean Squared Log Error: 3.0387350109418176\n",
      "R Squared: 0.5284852255075094\n",
      "TEMPERATURE  VS  SOIL MOISTURE\n",
      "Mean Absolute Error: 0.8251557061822935\n",
      "Root Mean Squared Error: 1.2532672160182359\n",
      "Root Mean Squared Log Error: 1.1194941786441928\n",
      "R Squared: -0.19819367727533121\n",
      "TEMPERATURE  VS  WATER LEVEL\n",
      "Mean Absolute Error: 7.2811064635615645\n",
      "Root Mean Squared Error: 135.70189499046995\n",
      "Root Mean Squared Log Error: 11.649115631260166\n",
      "R Squared: 0.23876038832122648\n"
     ]
    }
   ],
   "source": [
    "print(labels[3],\" VS \",labels[0])\n",
    "X_train, X_test, y_train, y_test, regression, y_pred = svrRegression(parameter[3],parameter[0].ravel())\n",
    "print(labels[3],\" VS \",labels[1])\n",
    "X_train, X_test, y_train, y_test, regression, y_pred = svrRegression(parameter[3],parameter[1].ravel())\n",
    "print(labels[3],\" VS \",labels[2])\n",
    "X_train, X_test, y_train, y_test, regression, y_pred = svrRegression(parameter[3],parameter[2].ravel())\n",
    "print(labels[3],\" VS \",labels[4])\n",
    "X_train, X_test, y_train, y_test, regression, y_pred = svrRegression(parameter[3],parameter[4].ravel())\n",
    "print(labels[3],\" VS \",labels[5])\n",
    "X_train, X_test, y_train, y_test, regression, y_pred = svrRegression(parameter[3],parameter[5].ravel())"
   ]
  },
  {
   "cell_type": "markdown",
   "metadata": {},
   "source": [
    "### SOIL MOISTURE VS PARAMETERS"
   ]
  },
  {
   "cell_type": "code",
   "execution_count": 56,
   "metadata": {},
   "outputs": [
    {
     "name": "stdout",
     "output_type": "stream",
     "text": [
      "SOIL MOISTURE  VS  PH\n",
      "Mean Absolute Error: 0.3944571539197306\n",
      "Root Mean Squared Error: 0.25226313104403286\n",
      "Root Mean Squared Log Error: 0.5022580323340115\n",
      "R Squared: -0.14337672388308964\n",
      "SOIL MOISTURE  VS  SUNLIGHT\n",
      "Mean Absolute Error: 19.40432367420409\n",
      "Root Mean Squared Error: 1719.5049964771022\n",
      "Root Mean Squared Log Error: 41.46691447982478\n",
      "R Squared: -0.06280712777481612\n",
      "SOIL MOISTURE  VS  HUMIDITY\n",
      "Mean Absolute Error: 3.096192913941241\n",
      "Root Mean Squared Error: 16.64297188157971\n",
      "Root Mean Squared Log Error: 4.079579865817032\n",
      "R Squared: -0.01590888377826527\n",
      "SOIL MOISTURE  VS  TEMPERATURE\n",
      "Mean Absolute Error: 1.0429488101154396\n",
      "Root Mean Squared Error: 2.4276329726574075\n",
      "Root Mean Squared Log Error: 1.5580863174604311\n",
      "R Squared: 0.0038087944193100354\n",
      "SOIL MOISTURE  VS  WATER LEVEL\n",
      "Mean Absolute Error: 10.62316435955057\n",
      "Root Mean Squared Error: 213.9052274964443\n",
      "Root Mean Squared Log Error: 14.625499222127234\n",
      "R Squared: 0.00019355948117716348\n"
     ]
    }
   ],
   "source": [
    "print(labels[4],\" VS \",labels[0])\n",
    "X_train, X_test, y_train, y_test, regression, y_pred = svrRegression(parameter[4],parameter[0].ravel())\n",
    "print(labels[4],\" VS \",labels[1])\n",
    "X_train, X_test, y_train, y_test, regression, y_pred = svrRegression(parameter[4],parameter[1].ravel())\n",
    "print(labels[4],\" VS \",labels[2])\n",
    "X_train, X_test, y_train, y_test, regression, y_pred = svrRegression(parameter[4],parameter[2].ravel())\n",
    "print(labels[4],\" VS \",labels[3])\n",
    "X_train, X_test, y_train, y_test, regression, y_pred = svrRegression(parameter[4],parameter[3].ravel())\n",
    "print(labels[4],\" VS \",labels[5])\n",
    "X_train, X_test, y_train, y_test, regression, y_pred = svrRegression(parameter[4],parameter[5].ravel())"
   ]
  },
  {
   "cell_type": "markdown",
   "metadata": {},
   "source": [
    "### WATERLEVEL VS PARAMATERS"
   ]
  },
  {
   "cell_type": "code",
   "execution_count": 57,
   "metadata": {},
   "outputs": [
    {
     "name": "stdout",
     "output_type": "stream",
     "text": [
      "WATER LEVEL  VS  PH\n",
      "Mean Absolute Error: 0.38419781085670857\n",
      "Root Mean Squared Error: 0.27230377236097003\n",
      "Root Mean Squared Log Error: 0.5218273396066653\n",
      "R Squared: 0.017972976769800808\n",
      "WATER LEVEL  VS  SUNLIGHT\n",
      "Mean Absolute Error: 20.167341121342826\n",
      "Root Mean Squared Error: 2072.158316052331\n",
      "Root Mean Squared Log Error: 45.52096567574474\n",
      "R Squared: 0.06487838241443433\n",
      "WATER LEVEL  VS  HUMIDITY\n",
      "Mean Absolute Error: 3.058861196617656\n",
      "Root Mean Squared Error: 16.836335538948667\n",
      "Root Mean Squared Log Error: 4.103210394185103\n",
      "R Squared: 0.10186137150897723\n",
      "WATER LEVEL  VS  TEMPERATURE\n",
      "Mean Absolute Error: 0.592629857134359\n",
      "Root Mean Squared Error: 0.8607703974525615\n",
      "Root Mean Squared Log Error: 0.9277771270367476\n",
      "R Squared: 0.22800811490124362\n",
      "WATER LEVEL  VS  SOIL MOISTURE\n",
      "Mean Absolute Error: 0.7958610051750212\n",
      "Root Mean Squared Error: 1.061248986979018\n",
      "Root Mean Squared Log Error: 1.0301693972250476\n",
      "R Squared: -0.14371756150896653\n"
     ]
    }
   ],
   "source": [
    "print(labels[5],\" VS \",labels[0])\n",
    "X_train, X_test, y_train, y_test, regression, y_pred = svrRegression(parameter[5],parameter[0].ravel())\n",
    "print(labels[5],\" VS \",labels[1])\n",
    "X_train, X_test, y_train, y_test, regression, y_pred = svrRegression(parameter[5],parameter[1].ravel())\n",
    "print(labels[5],\" VS \",labels[2])\n",
    "X_train, X_test, y_train, y_test, regression, y_pred = svrRegression(parameter[5],parameter[2].ravel())\n",
    "print(labels[5],\" VS \",labels[3])\n",
    "X_train, X_test, y_train, y_test, regression, y_pred = svrRegression(parameter[5],parameter[3].ravel())\n",
    "print(labels[5],\" VS \",labels[4])\n",
    "X_train, X_test, y_train, y_test, regression, y_pred = svrRegression(parameter[5],parameter[4].ravel())"
   ]
  },
  {
   "cell_type": "markdown",
   "metadata": {},
   "source": [
    "# GROWING PHASE"
   ]
  },
  {
   "cell_type": "code",
   "execution_count": 58,
   "metadata": {},
   "outputs": [],
   "source": [
    "# Importing dataset and parameters\n",
    "data = pd.read_csv('../datasets/day9-22.csv')\n",
    "ph_value = data.iloc[:,2].values.reshape(-1, 1)\n",
    "luminous_intensity = data.iloc[:,3].values.reshape(-1, 1)\n",
    "humidity = data.iloc[:,4].values.reshape(-1, 1)\n",
    "temperature = data.iloc[:,5].values.reshape(-1, 1)\n",
    "soil_moisture = data.iloc[:,6].values.reshape(-1, 1)\n",
    "water_level = data.iloc[:,7].values.reshape(-1, 1)\n",
    "labels = [\"PH\",\"SUNLIGHT\",\"HUMIDITY\",\"TEMPERATURE\",\"SOIL MOISTURE\",\"WATER LEVEL\"]\n",
    "parameter = [ph_value,luminous_intensity,humidity,temperature,soil_moisture,water_level]"
   ]
  },
  {
   "cell_type": "markdown",
   "metadata": {},
   "source": [
    "### PH VS PARAMETERS"
   ]
  },
  {
   "cell_type": "code",
   "execution_count": 59,
   "metadata": {},
   "outputs": [
    {
     "name": "stdout",
     "output_type": "stream",
     "text": [
      "PH  VS  SUNLIGHT\n",
      "Mean Absolute Error: 17.013045623140695\n",
      "Root Mean Squared Error: 1014.2821643972968\n",
      "Root Mean Squared Log Error: 31.847796853115238\n",
      "R Squared: -0.0743846292160475\n",
      "PH  VS  HUMIDITY\n",
      "Mean Absolute Error: 3.800395863671837\n",
      "Root Mean Squared Error: 25.362641663588754\n",
      "Root Mean Squared Log Error: 5.036133602634937\n",
      "R Squared: 0.04709333200746457\n",
      "PH  VS  TEMPERATURE\n",
      "Mean Absolute Error: 0.995403147484839\n",
      "Root Mean Squared Error: 2.330285196287741\n",
      "Root Mean Squared Log Error: 1.5265271685390147\n",
      "R Squared: 0.1112431485824692\n",
      "PH  VS  SOIL MOISTURE\n",
      "Mean Absolute Error: 1.6383334880724592\n",
      "Root Mean Squared Error: 4.4292126998759604\n",
      "Root Mean Squared Log Error: 2.104569480885808\n",
      "R Squared: 0.010940963473763832\n",
      "PH  VS  WATER LEVEL\n",
      "Mean Absolute Error: 120.94162241100705\n",
      "Root Mean Squared Error: 24176.55185955558\n",
      "Root Mean Squared Log Error: 155.48810841847546\n",
      "R Squared: 0.02655032011016567\n"
     ]
    }
   ],
   "source": [
    "print(labels[0],\" VS \",labels[1])\n",
    "X_train, X_test, y_train, y_test, regression, y_pred = svrRegression(parameter[0],parameter[1].ravel())\n",
    "print(labels[0],\" VS \",labels[2])\n",
    "X_train, X_test, y_train, y_test, regression, y_pred = svrRegression(parameter[0],parameter[2].ravel())\n",
    "print(labels[0],\" VS \",labels[3])\n",
    "X_train, X_test, y_train, y_test, regression, y_pred = svrRegression(parameter[0],parameter[3].ravel())\n",
    "print(labels[0],\" VS \",labels[4])\n",
    "X_train, X_test, y_train, y_test, regression, y_pred = svrRegression(parameter[0],parameter[4].ravel())\n",
    "print(labels[0],\" VS \",labels[5])\n",
    "X_train, X_test, y_train, y_test, regression, y_pred = svrRegression(parameter[0],parameter[5].ravel())"
   ]
  },
  {
   "cell_type": "markdown",
   "metadata": {},
   "source": []
  },
  {
   "cell_type": "markdown",
   "metadata": {},
   "source": [
    "### SUNLIGHT VS PARAMETERS"
   ]
  },
  {
   "cell_type": "code",
   "execution_count": 60,
   "metadata": {},
   "outputs": [
    {
     "name": "stdout",
     "output_type": "stream",
     "text": [
      "SUNLIGHT  VS  PH\n",
      "Mean Absolute Error: 1.005189105296188\n",
      "Root Mean Squared Error: 4.719841623502568\n",
      "Root Mean Squared Log Error: 2.172519648588378\n",
      "R Squared: -0.07190261483735827\n",
      "SUNLIGHT  VS  HUMIDITY\n",
      "Mean Absolute Error: 3.6025748073220583\n",
      "Root Mean Squared Error: 23.97475241890027\n",
      "Root Mean Squared Log Error: 4.896401987061547\n",
      "R Squared: 0.15067166499200602\n",
      "SUNLIGHT  VS  TEMPERATURE\n",
      "Mean Absolute Error: 0.8026055238401915\n",
      "Root Mean Squared Error: 1.4445900735639097\n",
      "Root Mean Squared Log Error: 1.2019110090035408\n",
      "R Squared: 0.4307474725620831\n",
      "SUNLIGHT  VS  SOIL MOISTURE\n",
      "Mean Absolute Error: 1.619975097252745\n",
      "Root Mean Squared Error: 4.053625014868012\n",
      "Root Mean Squared Log Error: 2.0133616204914637\n",
      "R Squared: 0.022079402433906936\n",
      "SUNLIGHT  VS  WATER LEVEL\n",
      "Mean Absolute Error: 139.69804546929487\n",
      "Root Mean Squared Error: 29287.108979687906\n",
      "Root Mean Squared Log Error: 171.13476847119028\n",
      "R Squared: -0.1414306365071667\n"
     ]
    }
   ],
   "source": [
    "print(labels[1],\" VS \",labels[0])\n",
    "X_train, X_test, y_train, y_test, regression, y_pred = svrRegression(parameter[1],parameter[0].ravel())\n",
    "print(labels[1],\" VS \",labels[2])\n",
    "X_train, X_test, y_train, y_test, regression, y_pred = svrRegression(parameter[1],parameter[2].ravel())\n",
    "print(labels[1],\" VS \",labels[3])\n",
    "X_train, X_test, y_train, y_test, regression, y_pred = svrRegression(parameter[1],parameter[3].ravel())\n",
    "print(labels[1],\" VS \",labels[4])\n",
    "X_train, X_test, y_train, y_test, regression, y_pred = svrRegression(parameter[1],parameter[4].ravel())\n",
    "print(labels[1],\" VS \",labels[5])\n",
    "X_train, X_test, y_train, y_test, regression, y_pred = svrRegression(parameter[1],parameter[5].ravel())"
   ]
  },
  {
   "cell_type": "markdown",
   "metadata": {},
   "source": [
    "### TEMPERATURE VS PARAMETERS"
   ]
  },
  {
   "cell_type": "code",
   "execution_count": 61,
   "metadata": {},
   "outputs": [
    {
     "name": "stdout",
     "output_type": "stream",
     "text": [
      "HUMIDITY  VS  PH\n",
      "Mean Absolute Error: 0.8225241801679161\n",
      "Root Mean Squared Error: 1.8794264720871232\n",
      "Root Mean Squared Log Error: 1.3709217600166406\n",
      "R Squared: -0.08925234166644036\n",
      "HUMIDITY  VS  SUNLIGHT\n",
      "Mean Absolute Error: 17.210843560531313\n",
      "Root Mean Squared Error: 1090.0482059663245\n",
      "Root Mean Squared Log Error: 33.01587808867613\n",
      "R Squared: 0.04216493861989379\n",
      "HUMIDITY  VS  TEMPERATURE\n",
      "Mean Absolute Error: 0.7451418196276739\n",
      "Root Mean Squared Error: 0.9589977020453738\n",
      "Root Mean Squared Log Error: 0.9792842805056016\n",
      "R Squared: 0.7400165040991551\n",
      "HUMIDITY  VS  SOIL MOISTURE\n",
      "Mean Absolute Error: 1.7496369965077412\n",
      "Root Mean Squared Error: 4.602514493130467\n",
      "Root Mean Squared Log Error: 2.1453471731005376\n",
      "R Squared: -0.029572180049069585\n",
      "HUMIDITY  VS  WATER LEVEL\n",
      "Mean Absolute Error: 134.73978765288018\n",
      "Root Mean Squared Error: 24557.95259923118\n",
      "Root Mean Squared Log Error: 156.7097718689909\n",
      "R Squared: 0.06753513097236907\n"
     ]
    }
   ],
   "source": [
    "print(labels[2],\" VS \",labels[0])\n",
    "X_train, X_test, y_train, y_test, regression, y_pred = svrRegression(parameter[2],parameter[0].ravel())\n",
    "print(labels[2],\" VS \",labels[1])\n",
    "X_train, X_test, y_train, y_test, regression, y_pred = svrRegression(parameter[2],parameter[1].ravel())\n",
    "print(labels[2],\" VS \",labels[3])\n",
    "X_train, X_test, y_train, y_test, regression, y_pred = svrRegression(parameter[2],parameter[3].ravel())\n",
    "print(labels[2],\" VS \",labels[4])\n",
    "X_train, X_test, y_train, y_test, regression, y_pred = svrRegression(parameter[2],parameter[4].ravel())\n",
    "print(labels[2],\" VS \",labels[5])\n",
    "X_train, X_test, y_train, y_test, regression, y_pred = svrRegression(parameter[2],parameter[5].ravel())"
   ]
  },
  {
   "cell_type": "markdown",
   "metadata": {},
   "source": [
    "### HUMIDITY VS PARAMETERS"
   ]
  },
  {
   "cell_type": "code",
   "execution_count": 62,
   "metadata": {},
   "outputs": [
    {
     "name": "stdout",
     "output_type": "stream",
     "text": [
      "TEMPERATURE  VS  PH\n",
      "Mean Absolute Error: 0.8395669712779349\n",
      "Root Mean Squared Error: 1.9349154544955256\n",
      "Root Mean Squared Log Error: 1.3910123847383695\n",
      "R Squared: -0.04475313528742508\n",
      "TEMPERATURE  VS  SUNLIGHT\n",
      "Mean Absolute Error: 18.473485012611196\n",
      "Root Mean Squared Error: 1451.836743668032\n",
      "Root Mean Squared Log Error: 38.102975522497346\n",
      "R Squared: 0.13185697500685833\n",
      "TEMPERATURE  VS  HUMIDITY\n",
      "Mean Absolute Error: 2.6187093002999604\n",
      "Root Mean Squared Error: 11.78011543338472\n",
      "Root Mean Squared Log Error: 3.432217276540738\n",
      "R Squared: 0.5722300246424785\n",
      "TEMPERATURE  VS  SOIL MOISTURE\n",
      "Mean Absolute Error: 1.5649046924628633\n",
      "Root Mean Squared Error: 3.6941945340467\n",
      "Root Mean Squared Log Error: 1.9220287547398192\n",
      "R Squared: 0.02551753229178433\n",
      "TEMPERATURE  VS  WATER LEVEL\n",
      "Mean Absolute Error: 139.68690025691566\n",
      "Root Mean Squared Error: 26889.481454327473\n",
      "Root Mean Squared Log Error: 163.98012518085073\n",
      "R Squared: -0.003591440259026246\n"
     ]
    }
   ],
   "source": [
    "print(labels[3],\" VS \",labels[0])\n",
    "X_train, X_test, y_train, y_test, regression, y_pred = svrRegression(parameter[3],parameter[0].ravel())\n",
    "print(labels[3],\" VS \",labels[1])\n",
    "X_train, X_test, y_train, y_test, regression, y_pred = svrRegression(parameter[3],parameter[1].ravel())\n",
    "print(labels[3],\" VS \",labels[2])\n",
    "X_train, X_test, y_train, y_test, regression, y_pred = svrRegression(parameter[3],parameter[2].ravel())\n",
    "print(labels[3],\" VS \",labels[4])\n",
    "X_train, X_test, y_train, y_test, regression, y_pred = svrRegression(parameter[3],parameter[4].ravel())\n",
    "print(labels[3],\" VS \",labels[5])\n",
    "X_train, X_test, y_train, y_test, regression, y_pred = svrRegression(parameter[3],parameter[5].ravel())"
   ]
  },
  {
   "cell_type": "markdown",
   "metadata": {},
   "source": [
    "### SOILMOISTURE VS PARAMETERS"
   ]
  },
  {
   "cell_type": "code",
   "execution_count": 63,
   "metadata": {},
   "outputs": [
    {
     "name": "stdout",
     "output_type": "stream",
     "text": [
      "SOIL MOISTURE  VS  PH\n",
      "Mean Absolute Error: 0.8863636003917166\n",
      "Root Mean Squared Error: 2.8315115666507933\n",
      "Root Mean Squared Log Error: 1.6827095907050609\n",
      "R Squared: -0.03738682845325014\n",
      "SOIL MOISTURE  VS  SUNLIGHT\n",
      "Mean Absolute Error: 18.183603491841726\n",
      "Root Mean Squared Error: 1149.823526115864\n",
      "Root Mean Squared Log Error: 33.90904785032844\n",
      "R Squared: -0.05495944386688012\n",
      "SOIL MOISTURE  VS  HUMIDITY\n",
      "Mean Absolute Error: 4.1329366593767345\n",
      "Root Mean Squared Error: 30.321844877176876\n",
      "Root Mean Squared Log Error: 5.506527479017686\n",
      "R Squared: -0.007014001128837544\n",
      "SOIL MOISTURE  VS  TEMPERATURE\n",
      "Mean Absolute Error: 1.1566458827707256\n",
      "Root Mean Squared Error: 3.4191262967366325\n",
      "Root Mean Squared Log Error: 1.8490879634935253\n",
      "R Squared: -0.00835272197199699\n",
      "SOIL MOISTURE  VS  WATER LEVEL\n",
      "Mean Absolute Error: 136.77582393803206\n",
      "Root Mean Squared Error: 24782.895093095987\n",
      "Root Mean Squared Log Error: 157.4258399790072\n",
      "R Squared: 0.06988089475674908\n"
     ]
    }
   ],
   "source": [
    "print(labels[4],\" VS \",labels[0])\n",
    "X_train, X_test, y_train, y_test, regression, y_pred = svrRegression(parameter[4],parameter[0].ravel())\n",
    "print(labels[4],\" VS \",labels[1])\n",
    "X_train, X_test, y_train, y_test, regression, y_pred = svrRegression(parameter[4],parameter[1].ravel())\n",
    "print(labels[4],\" VS \",labels[2])\n",
    "X_train, X_test, y_train, y_test, regression, y_pred = svrRegression(parameter[4],parameter[2].ravel())\n",
    "print(labels[4],\" VS \",labels[3])\n",
    "X_train, X_test, y_train, y_test, regression, y_pred = svrRegression(parameter[4],parameter[3].ravel())\n",
    "print(labels[4],\" VS \",labels[5])\n",
    "X_train, X_test, y_train, y_test, regression, y_pred = svrRegression(parameter[4],parameter[5].ravel())"
   ]
  },
  {
   "cell_type": "markdown",
   "metadata": {},
   "source": [
    "### WATERLEVEL VS PARAMATERS"
   ]
  },
  {
   "cell_type": "code",
   "execution_count": 64,
   "metadata": {},
   "outputs": [
    {
     "name": "stdout",
     "output_type": "stream",
     "text": [
      "WATER LEVEL  VS  PH\n",
      "Mean Absolute Error: 0.5868629474423942\n",
      "Root Mean Squared Error: 1.542331490224325\n",
      "Root Mean Squared Log Error: 1.2419063935032806\n",
      "R Squared: 0.31338684219124024\n",
      "WATER LEVEL  VS  SUNLIGHT\n",
      "Mean Absolute Error: 17.654111958903627\n",
      "Root Mean Squared Error: 1008.074669598966\n",
      "Root Mean Squared Log Error: 31.750191646649412\n",
      "R Squared: -0.04008971595695843\n",
      "WATER LEVEL  VS  HUMIDITY\n",
      "Mean Absolute Error: 3.581370406211958\n",
      "Root Mean Squared Error: 24.30797877468681\n",
      "Root Mean Squared Log Error: 4.930312239066286\n",
      "R Squared: 0.11960584878422054\n",
      "WATER LEVEL  VS  TEMPERATURE\n",
      "Mean Absolute Error: 1.1762659146797425\n",
      "Root Mean Squared Error: 3.361491895852045\n",
      "Root Mean Squared Log Error: 1.833437180776054\n",
      "R Squared: 0.03803809510566136\n",
      "WATER LEVEL  VS  SOIL MOISTURE\n",
      "Mean Absolute Error: 1.2847788359752832\n",
      "Root Mean Squared Error: 2.6115299417054274\n",
      "Root Mean Squared Log Error: 1.616022877840975\n",
      "R Squared: 0.3684554155011551\n"
     ]
    }
   ],
   "source": [
    "print(labels[5],\" VS \",labels[0])\n",
    "X_train, X_test, y_train, y_test, regression, y_pred = svrRegression(parameter[5],parameter[0].ravel())\n",
    "print(labels[5],\" VS \",labels[1])\n",
    "X_train, X_test, y_train, y_test, regression, y_pred = svrRegression(parameter[5],parameter[1].ravel())\n",
    "print(labels[5],\" VS \",labels[2])\n",
    "X_train, X_test, y_train, y_test, regression, y_pred = svrRegression(parameter[5],parameter[2].ravel())\n",
    "print(labels[5],\" VS \",labels[3])\n",
    "X_train, X_test, y_train, y_test, regression, y_pred = svrRegression(parameter[5],parameter[3].ravel())\n",
    "print(labels[5],\" VS \",labels[4])\n",
    "X_train, X_test, y_train, y_test, regression, y_pred = svrRegression(parameter[5],parameter[4].ravel())"
   ]
  },
  {
   "cell_type": "markdown",
   "metadata": {},
   "source": [
    "# HARVESTING PHASE"
   ]
  },
  {
   "cell_type": "code",
   "execution_count": 86,
   "metadata": {},
   "outputs": [],
   "source": [
    "# Importing dataset and parameters\n",
    "data = pd.read_csv('../datasets/day23-27.csv')\n",
    "ph_value = data.iloc[:,2].values.reshape(-1, 1)\n",
    "luminous_intensity = data.iloc[:,3].values.reshape(-1, 1)\n",
    "humidity = data.iloc[:,4].values.reshape(-1, 1)\n",
    "temperature = data.iloc[:,5].values.reshape(-1, 1)\n",
    "soil_moisture = data.iloc[:,6].values.reshape(-1, 1)\n",
    "water_level = data.iloc[:,7].values.reshape(-1, 1)\n",
    "labels = [\"PH\",\"SUNLIGHT\",\"HUMIDITY\",\"TEMPERATURE\",\"SOIL MOISTURE\",\"WATER LEVEL\"]\n",
    "parameter = [ph_value,luminous_intensity,humidity,temperature,soil_moisture,water_level]"
   ]
  },
  {
   "cell_type": "markdown",
   "metadata": {},
   "source": [
    "### PH VS PARAMETERS"
   ]
  },
  {
   "cell_type": "code",
   "execution_count": 87,
   "metadata": {},
   "outputs": [
    {
     "name": "stdout",
     "output_type": "stream",
     "text": [
      "PH  VS  SUNLIGHT\n",
      "Mean Absolute Error: 14.519316067747516\n",
      "Root Mean Squared Error: 1121.4083380987522\n",
      "Root Mean Squared Log Error: 33.48743552586182\n",
      "R Squared: -0.05549933241778482\n",
      "PH  VS  HUMIDITY\n",
      "Mean Absolute Error: 3.7506092304113845\n",
      "Root Mean Squared Error: 23.179288235107414\n",
      "Root Mean Squared Log Error: 4.814487328377489\n",
      "R Squared: 0.2572163741953888\n",
      "PH  VS  TEMPERATURE\n",
      "Mean Absolute Error: 0.8486601509699179\n",
      "Root Mean Squared Error: 1.7209821584185223\n",
      "Root Mean Squared Log Error: 1.3118620958082912\n",
      "R Squared: 0.05365079944316731\n",
      "PH  VS  SOIL MOISTURE\n",
      "Mean Absolute Error: 1.212130902185692\n",
      "Root Mean Squared Error: 2.5184172725261287\n",
      "Root Mean Squared Log Error: 1.586952196043135\n",
      "R Squared: 0.04384942082875409\n",
      "PH  VS  WATER LEVEL\n",
      "Mean Absolute Error: 109.77340686792402\n",
      "Root Mean Squared Error: 21901.179125221457\n",
      "Root Mean Squared Log Error: 147.99046971079406\n",
      "R Squared: -0.17924057002646787\n"
     ]
    }
   ],
   "source": [
    "print(labels[0],\" VS \",labels[1])\n",
    "X_train, X_test, y_train, y_test, regression, y_pred = svrRegression(parameter[0],parameter[1].ravel())\n",
    "print(labels[0],\" VS \",labels[2])\n",
    "X_train, X_test, y_train, y_test, regression, y_pred = svrRegression(parameter[0],parameter[2].ravel())\n",
    "print(labels[0],\" VS \",labels[3])\n",
    "X_train, X_test, y_train, y_test, regression, y_pred = svrRegression(parameter[0],parameter[3].ravel())\n",
    "print(labels[0],\" VS \",labels[4])\n",
    "X_train, X_test, y_train, y_test, regression, y_pred = svrRegression(parameter[0],parameter[4].ravel())\n",
    "print(labels[0],\" VS \",labels[5])\n",
    "X_train, X_test, y_train, y_test, regression, y_pred = svrRegression(parameter[0],parameter[5].ravel())"
   ]
  },
  {
   "cell_type": "markdown",
   "metadata": {},
   "source": [
    "### SUNLIGHT VS PARAMETERS"
   ]
  },
  {
   "cell_type": "code",
   "execution_count": 88,
   "metadata": {},
   "outputs": [
    {
     "name": "stdout",
     "output_type": "stream",
     "text": [
      "SUNLIGHT  VS  PH\n",
      "Mean Absolute Error: 0.9756058815071554\n",
      "Root Mean Squared Error: 1.7822201824184978\n",
      "Root Mean Squared Log Error: 1.3349981956611394\n",
      "R Squared: 0.050236547712022794\n",
      "SUNLIGHT  VS  HUMIDITY\n",
      "Mean Absolute Error: 3.6428812744750485\n",
      "Root Mean Squared Error: 23.846898452006407\n",
      "Root Mean Squared Log Error: 4.8833286242077145\n",
      "R Squared: 0.2922766855923591\n",
      "SUNLIGHT  VS  TEMPERATURE\n",
      "Mean Absolute Error: 0.5587952078415042\n",
      "Root Mean Squared Error: 0.9602998282929817\n",
      "Root Mean Squared Log Error: 0.9799488906534778\n",
      "R Squared: 0.5375005741462935\n",
      "SUNLIGHT  VS  SOIL MOISTURE\n",
      "Mean Absolute Error: 1.0339596634639279\n",
      "Root Mean Squared Error: 1.731486993069486\n",
      "Root Mean Squared Log Error: 1.3158597923295194\n",
      "R Squared: -0.10950466184901386\n",
      "SUNLIGHT  VS  WATER LEVEL\n",
      "Mean Absolute Error: 110.02908707077194\n",
      "Root Mean Squared Error: 21459.372830386168\n",
      "Root Mean Squared Log Error: 146.490179979363\n",
      "R Squared: -0.3342735626813731\n"
     ]
    }
   ],
   "source": [
    "print(labels[1],\" VS \",labels[0])\n",
    "X_train, X_test, y_train, y_test, regression, y_pred = svrRegression(parameter[1],parameter[0].ravel())\n",
    "print(labels[1],\" VS \",labels[2])\n",
    "X_train, X_test, y_train, y_test, regression, y_pred = svrRegression(parameter[1],parameter[2].ravel())\n",
    "print(labels[1],\" VS \",labels[3])\n",
    "X_train, X_test, y_train, y_test, regression, y_pred = svrRegression(parameter[1],parameter[3].ravel())\n",
    "print(labels[1],\" VS \",labels[4])\n",
    "X_train, X_test, y_train, y_test, regression, y_pred = svrRegression(parameter[1],parameter[4].ravel())\n",
    "print(labels[1],\" VS \",labels[5])\n",
    "X_train, X_test, y_train, y_test, regression, y_pred = svrRegression(parameter[1],parameter[5].ravel())"
   ]
  },
  {
   "cell_type": "markdown",
   "metadata": {},
   "source": [
    "### HUMIDITY VS PARAMETERS"
   ]
  },
  {
   "cell_type": "code",
   "execution_count": 89,
   "metadata": {},
   "outputs": [
    {
     "name": "stdout",
     "output_type": "stream",
     "text": [
      "HUMIDITY  VS  PH\n",
      "Mean Absolute Error: 0.7330682348824562\n",
      "Root Mean Squared Error: 1.0997968894324235\n",
      "Root Mean Squared Log Error: 1.0487120145361277\n",
      "R Squared: 0.11707845171672082\n",
      "HUMIDITY  VS  SUNLIGHT\n",
      "Mean Absolute Error: 15.69316240288215\n",
      "Root Mean Squared Error: 1416.6082176032953\n",
      "Root Mean Squared Log Error: 37.63785617703664\n",
      "R Squared: 0.10040287491480371\n",
      "HUMIDITY  VS  TEMPERATURE\n",
      "Mean Absolute Error: 0.6907920939114077\n",
      "Root Mean Squared Error: 1.5496986704015454\n",
      "Root Mean Squared Log Error: 1.2448689370377692\n",
      "R Squared: 0.1447878746032113\n",
      "HUMIDITY  VS  SOIL MOISTURE\n",
      "Mean Absolute Error: 1.1979147197353537\n",
      "Root Mean Squared Error: 2.2274026909269478\n",
      "Root Mean Squared Log Error: 1.4924485555378275\n",
      "R Squared: -0.08793518093638397\n",
      "HUMIDITY  VS  WATER LEVEL\n",
      "Mean Absolute Error: 112.20863524495779\n",
      "Root Mean Squared Error: 21545.41906082903\n",
      "Root Mean Squared Log Error: 146.78357898903076\n",
      "R Squared: -0.12307064548291091\n"
     ]
    }
   ],
   "source": [
    "print(labels[2],\" VS \",labels[0])\n",
    "X_train, X_test, y_train, y_test, regression, y_pred = svrRegression(parameter[2],parameter[0].ravel())\n",
    "print(labels[2],\" VS \",labels[1])\n",
    "X_train, X_test, y_train, y_test, regression, y_pred = svrRegression(parameter[2],parameter[1].ravel())\n",
    "print(labels[2],\" VS \",labels[3])\n",
    "X_train, X_test, y_train, y_test, regression, y_pred = svrRegression(parameter[2],parameter[3].ravel())\n",
    "print(labels[2],\" VS \",labels[4])\n",
    "X_train, X_test, y_train, y_test, regression, y_pred = svrRegression(parameter[2],parameter[4].ravel())\n",
    "print(labels[2],\" VS \",labels[5])\n",
    "X_train, X_test, y_train, y_test, regression, y_pred = svrRegression(parameter[2],parameter[5].ravel())"
   ]
  },
  {
   "cell_type": "markdown",
   "metadata": {},
   "source": [
    "### TEMPERATURE VS PARAMETERS"
   ]
  },
  {
   "cell_type": "code",
   "execution_count": 90,
   "metadata": {},
   "outputs": [
    {
     "name": "stdout",
     "output_type": "stream",
     "text": [
      "TEMPERATURE  VS  PH\n",
      "Mean Absolute Error: 0.848619660920689\n",
      "Root Mean Squared Error: 1.3075793465585819\n",
      "Root Mean Squared Log Error: 1.1434943579041315\n",
      "R Squared: -0.040482902643769636\n",
      "TEMPERATURE  VS  SUNLIGHT\n",
      "Mean Absolute Error: 7.830381516644151\n",
      "Root Mean Squared Error: 209.74718881808647\n",
      "Root Mean Squared Log Error: 14.482651304857356\n",
      "R Squared: 0.49129125958985786\n",
      "TEMPERATURE  VS  HUMIDITY\n",
      "Mean Absolute Error: 2.6547082179448527\n",
      "Root Mean Squared Error: 13.02638276090742\n",
      "Root Mean Squared Log Error: 3.609208051762522\n",
      "R Squared: 0.3560458542678975\n",
      "TEMPERATURE  VS  TEMPERATURE\n",
      "Mean Absolute Error: 1.0830246423359489\n",
      "Root Mean Squared Error: 2.309533597956813\n",
      "Root Mean Squared Log Error: 1.519714972604012\n",
      "R Squared: -0.08249159781419424\n",
      "TEMPERATURE  VS  SOIL MOISTURE\n",
      "Mean Absolute Error: 103.40534655301856\n",
      "Root Mean Squared Error: 18617.39564056091\n",
      "Root Mean Squared Log Error: 136.44557757787868\n",
      "R Squared: -0.051363151296957676\n"
     ]
    }
   ],
   "source": [
    "print(labels[3],\" VS \",labels[0])\n",
    "X_train, X_test, y_train, y_test, regression, y_pred = svrRegression(parameter[3],parameter[0].ravel())\n",
    "print(labels[3],\" VS \",labels[1])\n",
    "X_train, X_test, y_train, y_test, regression, y_pred = svrRegression(parameter[3],parameter[1].ravel())\n",
    "print(labels[3],\" VS \",labels[2])\n",
    "X_train, X_test, y_train, y_test, regression, y_pred = svrRegression(parameter[3],parameter[2].ravel())\n",
    "print(labels[3],\" VS \",labels[5])\n",
    "X_train, X_test, y_train, y_test, regression, y_pred = svrRegression(parameter[3],parameter[4].ravel())\n",
    "print(labels[3],\" VS \",labels[4])\n",
    "X_train, X_test, y_train, y_test, regression, y_pred = svrRegression(parameter[3],parameter[5].ravel())"
   ]
  },
  {
   "cell_type": "markdown",
   "metadata": {},
   "source": [
    "### SOIL MOISTURE VS PARAMETERS"
   ]
  },
  {
   "cell_type": "code",
   "execution_count": 91,
   "metadata": {},
   "outputs": [
    {
     "name": "stdout",
     "output_type": "stream",
     "text": [
      "SOIL MOISTURE  VS  PH\n",
      "Mean Absolute Error: 0.9085750230292265\n",
      "Root Mean Squared Error: 1.576840075916871\n",
      "Root Mean Squared Log Error: 1.2557229295974774\n",
      "R Squared: 0.0711046017900484\n",
      "SOIL MOISTURE  VS  SUNLIGHT\n",
      "Mean Absolute Error: 14.502427430556901\n",
      "Root Mean Squared Error: 1074.9061650358967\n",
      "Root Mean Squared Log Error: 32.7857616204946\n",
      "R Squared: -0.04379584180530949\n",
      "SOIL MOISTURE  VS  HUMIDITY\n",
      "Mean Absolute Error: 4.892450896933031\n",
      "Root Mean Squared Error: 38.307862326524194\n",
      "Root Mean Squared Log Error: 6.189334562497344\n",
      "R Squared: 0.09171047853886871\n",
      "SOIL MOISTURE  VS  TEMPERATURE\n",
      "Mean Absolute Error: 1.0278792843306808\n",
      "Root Mean Squared Error: 2.190866230727608\n",
      "Root Mean Squared Log Error: 1.480157502000246\n",
      "R Squared: -0.06480618806976457\n",
      "SOIL MOISTURE  VS  WATER LEVEL\n",
      "Mean Absolute Error: 117.42873699114722\n",
      "Root Mean Squared Error: 22258.281611431383\n",
      "Root Mean Squared Log Error: 149.1920963437118\n",
      "R Squared: -0.17426874997020803\n"
     ]
    }
   ],
   "source": [
    "print(labels[4],\" VS \",labels[0])\n",
    "X_train, X_test, y_train, y_test, regression, y_pred = svrRegression(parameter[4],parameter[0].ravel())\n",
    "print(labels[4],\" VS \",labels[1])\n",
    "X_train, X_test, y_train, y_test, regression, y_pred = svrRegression(parameter[4],parameter[1].ravel())\n",
    "print(labels[4],\" VS \",labels[2])\n",
    "X_train, X_test, y_train, y_test, regression, y_pred = svrRegression(parameter[4],parameter[2].ravel())\n",
    "print(labels[4],\" VS \",labels[3])\n",
    "X_train, X_test, y_train, y_test, regression, y_pred = svrRegression(parameter[4],parameter[3].ravel())\n",
    "print(labels[4],\" VS \",labels[5])\n",
    "X_train, X_test, y_train, y_test, regression, y_pred = svrRegression(parameter[4],parameter[5].ravel())"
   ]
  },
  {
   "cell_type": "markdown",
   "metadata": {},
   "source": [
    "### WATERLEVEL VS PARAMATERS"
   ]
  },
  {
   "cell_type": "code",
   "execution_count": 92,
   "metadata": {},
   "outputs": [
    {
     "name": "stdout",
     "output_type": "stream",
     "text": [
      "WATER LEVEL  VS  PH\n",
      "Mean Absolute Error: 0.868685497942684\n",
      "Root Mean Squared Error: 2.4799568497798283\n",
      "Root Mean Squared Log Error: 1.5747878745341635\n",
      "R Squared: 0.06968832205830877\n",
      "WATER LEVEL  VS  SUNLIGHT\n",
      "Mean Absolute Error: 13.670581399194255\n",
      "Root Mean Squared Error: 525.3016851962392\n",
      "Root Mean Squared Log Error: 22.919460839998816\n",
      "R Squared: -0.105059499754532\n",
      "WATER LEVEL  VS  HUMIDITY\n",
      "Mean Absolute Error: 3.954611259281682\n",
      "Root Mean Squared Error: 25.571052614995274\n",
      "Root Mean Squared Log Error: 5.056782832492935\n",
      "R Squared: 0.3047283943984763\n",
      "WATER LEVEL  VS  TEMPERATURE\n",
      "Mean Absolute Error: 0.785392752745766\n",
      "Root Mean Squared Error: 1.0846469434067876\n",
      "Root Mean Squared Log Error: 1.0414638464232868\n",
      "R Squared: -0.011438091098692205\n",
      "WATER LEVEL  VS  SOIL MOISTURE\n",
      "Mean Absolute Error: 0.9191615751826108\n",
      "Root Mean Squared Error: 1.3290015690669166\n",
      "Root Mean Squared Log Error: 1.1528233034888375\n",
      "R Squared: 0.2989357751692463\n"
     ]
    }
   ],
   "source": [
    "print(labels[5],\" VS \",labels[0])\n",
    "X_train, X_test, y_train, y_test, regression, y_pred = svrRegression(parameter[5],parameter[0].ravel())\n",
    "print(labels[5],\" VS \",labels[1])\n",
    "X_train, X_test, y_train, y_test, regression, y_pred = svrRegression(parameter[5],parameter[1].ravel())\n",
    "print(labels[5],\" VS \",labels[2])\n",
    "X_train, X_test, y_train, y_test, regression, y_pred = svrRegression(parameter[5],parameter[2].ravel())\n",
    "print(labels[5],\" VS \",labels[3])\n",
    "X_train, X_test, y_train, y_test, regression, y_pred = svrRegression(parameter[5],parameter[3].ravel())\n",
    "print(labels[5],\" VS \",labels[4])\n",
    "X_train, X_test, y_train, y_test, regression, y_pred = svrRegression(parameter[5],parameter[4].ravel())"
   ]
  },
  {
   "cell_type": "markdown",
   "metadata": {},
   "source": [
    "# FULL DATA ANALYSIS"
   ]
  },
  {
   "cell_type": "code",
   "execution_count": 79,
   "metadata": {},
   "outputs": [],
   "source": [
    "# Importing dataset and parameters\n",
    "data = pd.read_csv('../datasets/full_data.csv')\n",
    "ph_value = data.iloc[:,2].values.reshape(-1, 1)\n",
    "luminous_intensity = data.iloc[:,3].values.reshape(-1, 1)\n",
    "humidity = data.iloc[:,4].values.reshape(-1, 1)\n",
    "temperature = data.iloc[:,5].values.reshape(-1, 1)\n",
    "soil_moisture = data.iloc[:,6].values.reshape(-1, 1)\n",
    "water_level = data.iloc[:,7].values.reshape(-1, 1)\n",
    "labels = [\"PH\",\"SUNLIGHT\",\"HUMIDITY\",\"TEMPERATURE\",\"SOIL MOISTURE\",\"WATER LEVEL\"]\n",
    "parameter = [ph_value,luminous_intensity,humidity,temperature,soil_moisture,water_level]"
   ]
  },
  {
   "cell_type": "markdown",
   "metadata": {},
   "source": [
    "### PH VS PARAMETERS"
   ]
  },
  {
   "cell_type": "code",
   "execution_count": 80,
   "metadata": {},
   "outputs": [
    {
     "name": "stdout",
     "output_type": "stream",
     "text": [
      "PH  VS  SUNLIGHT\n",
      "Mean Absolute Error: 17.03429253838761\n",
      "Root Mean Squared Error: 1204.551820962917\n",
      "Root Mean Squared Log Error: 34.7066538427852\n",
      "R Squared: -0.033568263053916025\n",
      "PH  VS  HUMIDITY\n",
      "Mean Absolute Error: 3.608288744892372\n",
      "Root Mean Squared Error: 24.074311153054463\n",
      "Root Mean Squared Log Error: 4.906557974084731\n",
      "R Squared: 0.08612466222187787\n",
      "PH  VS  TEMPERATURE\n",
      "Mean Absolute Error: 1.0808991986562408\n",
      "Root Mean Squared Error: 2.76527250987855\n",
      "Root Mean Squared Log Error: 1.6629108544592972\n",
      "R Squared: 0.1746259453605452\n",
      "PH  VS  SOIL MOISTURE\n",
      "Mean Absolute Error: 1.580141000722409\n",
      "Root Mean Squared Error: 4.145664339493879\n",
      "Root Mean Squared Log Error: 2.0360904546443606\n",
      "R Squared: 0.15314384134359726\n",
      "PH  VS  WATER LEVEL\n",
      "Mean Absolute Error: 129.69067382216315\n",
      "Root Mean Squared Error: 23288.77422425806\n",
      "Root Mean Squared Log Error: 152.60659954359136\n",
      "R Squared: 0.2859933939156325\n"
     ]
    }
   ],
   "source": [
    "print(labels[0],\" VS \",labels[1])\n",
    "X_train, X_test, y_train, y_test, regression, y_pred = svrRegression(parameter[0],parameter[1].ravel())\n",
    "print(labels[0],\" VS \",labels[2])\n",
    "X_train, X_test, y_train, y_test, regression, y_pred = svrRegression(parameter[0],parameter[2].ravel())\n",
    "print(labels[0],\" VS \",labels[3])\n",
    "X_train, X_test, y_train, y_test, regression, y_pred = svrRegression(parameter[0],parameter[3].ravel())\n",
    "print(labels[0],\" VS \",labels[4])\n",
    "X_train, X_test, y_train, y_test, regression, y_pred = svrRegression(parameter[0],parameter[4].ravel())\n",
    "print(labels[0],\" VS \",labels[5])\n",
    "X_train, X_test, y_train, y_test, regression, y_pred = svrRegression(parameter[0],parameter[5].ravel())"
   ]
  },
  {
   "cell_type": "markdown",
   "metadata": {},
   "source": [
    "### SUNLIGHT VS PARAMETERS"
   ]
  },
  {
   "cell_type": "code",
   "execution_count": 81,
   "metadata": {},
   "outputs": [
    {
     "name": "stdout",
     "output_type": "stream",
     "text": [
      "SUNLIGHT  VS  PH\n",
      "Mean Absolute Error: 0.956494725765714\n",
      "Root Mean Squared Error: 2.0097886389715667\n",
      "Root Mean Squared Log Error: 1.4176701446287026\n",
      "R Squared: 0.006194195858233886\n",
      "SUNLIGHT  VS  HUMIDITY\n",
      "Mean Absolute Error: 3.178241393770147\n",
      "Root Mean Squared Error: 18.291218796326458\n",
      "Root Mean Squared Log Error: 4.276823446943591\n",
      "R Squared: 0.17456140971071699\n",
      "SUNLIGHT  VS  TEMPERATURE\n",
      "Mean Absolute Error: 1.0718626325370877\n",
      "Root Mean Squared Error: 2.087815741849189\n",
      "Root Mean Squared Log Error: 1.4449275905211267\n",
      "R Squared: 0.2715892914297452\n",
      "SUNLIGHT  VS  SOIL MOISTURE\n",
      "Mean Absolute Error: 1.780490798637378\n",
      "Root Mean Squared Error: 4.552186464718933\n",
      "Root Mean Squared Log Error: 2.1335853544489223\n",
      "R Squared: -0.02700697333612667\n",
      "SUNLIGHT  VS  WATER LEVEL\n",
      "Mean Absolute Error: 168.04805240255558\n",
      "Root Mean Squared Error: 35068.50287126132\n",
      "Root Mean Squared Log Error: 187.26586146775745\n",
      "R Squared: -0.049132043686915594\n"
     ]
    }
   ],
   "source": [
    "print(labels[1],\" VS \",labels[0])\n",
    "X_train, X_test, y_train, y_test, regression, y_pred = svrRegression(parameter[1],parameter[0].ravel())\n",
    "print(labels[1],\" VS \",labels[2])\n",
    "X_train, X_test, y_train, y_test, regression, y_pred = svrRegression(parameter[1],parameter[2].ravel())\n",
    "print(labels[1],\" VS \",labels[3])\n",
    "X_train, X_test, y_train, y_test, regression, y_pred = svrRegression(parameter[1],parameter[3].ravel())\n",
    "print(labels[1],\" VS \",labels[4])\n",
    "X_train, X_test, y_train, y_test, regression, y_pred = svrRegression(parameter[1],parameter[4].ravel())\n",
    "print(labels[1],\" VS \",labels[5])\n",
    "X_train, X_test, y_train, y_test, regression, y_pred = svrRegression(parameter[1],parameter[5].ravel())"
   ]
  },
  {
   "cell_type": "markdown",
   "metadata": {},
   "source": [
    "### HUMIDITY VS PARAMETERS"
   ]
  },
  {
   "cell_type": "code",
   "execution_count": 82,
   "metadata": {},
   "outputs": [
    {
     "name": "stdout",
     "output_type": "stream",
     "text": [
      "HUMIDITY  VS  PH\n",
      "Mean Absolute Error: 1.0453176201324834\n",
      "Root Mean Squared Error: 3.5662991960536465\n",
      "Root Mean Squared Log Error: 1.888464772256461\n",
      "R Squared: -0.00022332051819518028\n",
      "HUMIDITY  VS  SUNLIGHT\n",
      "Mean Absolute Error: 19.44794379503074\n",
      "Root Mean Squared Error: 1417.6564923402466\n",
      "Root Mean Squared Log Error: 37.65177940470074\n",
      "R Squared: 0.06282734005458512\n",
      "HUMIDITY  VS  TEMPERATURE\n",
      "Mean Absolute Error: 0.8914783058670135\n",
      "Root Mean Squared Error: 1.5350328029441092\n",
      "Root Mean Squared Log Error: 1.2389644074565294\n",
      "R Squared: 0.5101274599447214\n",
      "HUMIDITY  VS  SOIL MOISTURE\n",
      "Mean Absolute Error: 1.7667022081852997\n",
      "Root Mean Squared Error: 4.512559414386176\n",
      "Root Mean Squared Log Error: 2.1242785632741708\n",
      "R Squared: 0.05036867179769722\n",
      "HUMIDITY  VS  WATER LEVEL\n",
      "Mean Absolute Error: 164.40800079216842\n",
      "Root Mean Squared Error: 32207.08153136931\n",
      "Root Mean Squared Log Error: 179.46331528022463\n",
      "R Squared: -0.006885686384470846\n"
     ]
    }
   ],
   "source": [
    "print(labels[2],\" VS \",labels[0])\n",
    "X_train, X_test, y_train, y_test, regression, y_pred = svrRegression(parameter[2],parameter[0].ravel())\n",
    "print(labels[2],\" VS \",labels[1])\n",
    "X_train, X_test, y_train, y_test, regression, y_pred = svrRegression(parameter[2],parameter[1].ravel())\n",
    "print(labels[2],\" VS \",labels[3])\n",
    "X_train, X_test, y_train, y_test, regression, y_pred = svrRegression(parameter[2],parameter[3].ravel())\n",
    "print(labels[2],\" VS \",labels[4])\n",
    "X_train, X_test, y_train, y_test, regression, y_pred = svrRegression(parameter[2],parameter[4].ravel())\n",
    "print(labels[2],\" VS \",labels[5])\n",
    "X_train, X_test, y_train, y_test, regression, y_pred = svrRegression(parameter[2],parameter[5].ravel())"
   ]
  },
  {
   "cell_type": "markdown",
   "metadata": {},
   "source": [
    "### TEMPERATURE VS PARAMETERS"
   ]
  },
  {
   "cell_type": "code",
   "execution_count": 83,
   "metadata": {},
   "outputs": [
    {
     "name": "stdout",
     "output_type": "stream",
     "text": [
      "TEMPERATURE  VS  PH\n",
      "Mean Absolute Error: 0.8757280448876632\n",
      "Root Mean Squared Error: 2.6385503336033906\n",
      "Root Mean Squared Log Error: 1.624361515674202\n",
      "R Squared: 0.11881495499625994\n",
      "TEMPERATURE  VS  SUNLIGHT\n",
      "Mean Absolute Error: 13.641448460924469\n",
      "Root Mean Squared Error: 782.84837231315\n",
      "Root Mean Squared Log Error: 27.979427662358464\n",
      "R Squared: 0.17263782943870143\n",
      "TEMPERATURE  VS  HUMIDITY\n",
      "Mean Absolute Error: 2.724825153548927\n",
      "Root Mean Squared Error: 12.844482405890307\n",
      "Root Mean Squared Log Error: 3.583919977606965\n",
      "R Squared: 0.4576370268833956\n",
      "TEMPERATURE  VS  SOIL MOISTURE\n",
      "Mean Absolute Error: 1.6363198902836933\n",
      "Root Mean Squared Error: 4.263464588880472\n",
      "Root Mean Squared Log Error: 2.06481587287595\n",
      "R Squared: 0.11029268410750492\n",
      "TEMPERATURE  VS  WATER LEVEL\n",
      "Mean Absolute Error: 148.32051927489644\n",
      "Root Mean Squared Error: 30451.44230958404\n",
      "Root Mean Squared Log Error: 174.50341632639757\n",
      "R Squared: 0.0742964184223508\n"
     ]
    }
   ],
   "source": [
    "print(labels[3],\" VS \",labels[0])\n",
    "X_train, X_test, y_train, y_test, regression, y_pred = svrRegression(parameter[3],parameter[0].ravel())\n",
    "print(labels[3],\" VS \",labels[1])\n",
    "X_train, X_test, y_train, y_test, regression, y_pred = svrRegression(parameter[3],parameter[1].ravel())\n",
    "print(labels[3],\" VS \",labels[2])\n",
    "X_train, X_test, y_train, y_test, regression, y_pred = svrRegression(parameter[3],parameter[2].ravel())\n",
    "print(labels[3],\" VS \",labels[4])\n",
    "X_train, X_test, y_train, y_test, regression, y_pred = svrRegression(parameter[3],parameter[4].ravel())\n",
    "print(labels[3],\" VS \",labels[5])\n",
    "X_train, X_test, y_train, y_test, regression, y_pred = svrRegression(parameter[3],parameter[5].ravel())"
   ]
  },
  {
   "cell_type": "markdown",
   "metadata": {},
   "source": [
    "### SOIL MOISTURE VS PARAMETERS"
   ]
  },
  {
   "cell_type": "code",
   "execution_count": 84,
   "metadata": {},
   "outputs": [
    {
     "name": "stdout",
     "output_type": "stream",
     "text": [
      "SOIL MOISTURE  VS  PH\n",
      "Mean Absolute Error: 0.9395368811451735\n",
      "Root Mean Squared Error: 2.3831243725671856\n",
      "Root Mean Squared Log Error: 1.5437371449075084\n",
      "R Squared: 0.019900722128156745\n",
      "SOIL MOISTURE  VS  SUNLIGHT\n",
      "Mean Absolute Error: 19.169740519836452\n",
      "Root Mean Squared Error: 1313.8755070961424\n",
      "Root Mean Squared Log Error: 36.247420695770096\n",
      "R Squared: -0.07222974098443546\n",
      "SOIL MOISTURE  VS  HUMIDITY\n",
      "Mean Absolute Error: 4.0558098580744915\n",
      "Root Mean Squared Error: 29.21215195868826\n",
      "Root Mean Squared Log Error: 5.4048267279061095\n",
      "R Squared: 0.007332267449390639\n",
      "SOIL MOISTURE  VS  TEMPERATURE\n",
      "Mean Absolute Error: 1.1053966275668803\n",
      "Root Mean Squared Error: 2.8323420779561554\n",
      "Root Mean Squared Log Error: 1.682956350579585\n",
      "R Squared: 0.09666258153089535\n",
      "SOIL MOISTURE  VS  WATER LEVEL\n",
      "Mean Absolute Error: 110.0061176384745\n",
      "Root Mean Squared Error: 20603.07477984081\n",
      "Root Mean Squared Log Error: 143.5377120475341\n",
      "R Squared: 0.3182412644634388\n"
     ]
    }
   ],
   "source": [
    "print(labels[4],\" VS \",labels[0])\n",
    "X_train, X_test, y_train, y_test, regression, y_pred = svrRegression(parameter[4],parameter[0].ravel())\n",
    "print(labels[4],\" VS \",labels[1])\n",
    "X_train, X_test, y_train, y_test, regression, y_pred = svrRegression(parameter[4],parameter[1].ravel())\n",
    "print(labels[4],\" VS \",labels[2])\n",
    "X_train, X_test, y_train, y_test, regression, y_pred = svrRegression(parameter[4],parameter[2].ravel())\n",
    "print(labels[4],\" VS \",labels[3])\n",
    "X_train, X_test, y_train, y_test, regression, y_pred = svrRegression(parameter[4],parameter[3].ravel())\n",
    "print(labels[4],\" VS \",labels[5])\n",
    "X_train, X_test, y_train, y_test, regression, y_pred = svrRegression(parameter[4],parameter[5].ravel())"
   ]
  },
  {
   "cell_type": "markdown",
   "metadata": {},
   "source": [
    "### WATERLEVEL VS PARAMATERS"
   ]
  },
  {
   "cell_type": "code",
   "execution_count": 85,
   "metadata": {},
   "outputs": [
    {
     "name": "stdout",
     "output_type": "stream",
     "text": [
      "WATER LEVEL  VS  PH\n",
      "Mean Absolute Error: 0.5947749149148593\n",
      "Root Mean Squared Error: 0.823576091110671\n",
      "Root Mean Squared Log Error: 0.9075109316755755\n",
      "R Squared: 0.5232376831800906\n",
      "WATER LEVEL  VS  SUNLIGHT\n",
      "Mean Absolute Error: 20.296890185622168\n",
      "Root Mean Squared Error: 1515.1908229793225\n",
      "Root Mean Squared Log Error: 38.92545212299174\n",
      "R Squared: -0.11035153567350786\n",
      "WATER LEVEL  VS  HUMIDITY\n",
      "Mean Absolute Error: 3.6712368787690517\n",
      "Root Mean Squared Error: 25.187310725561307\n",
      "Root Mean Squared Log Error: 5.018696118073031\n",
      "R Squared: 0.014615388033317411\n",
      "WATER LEVEL  VS  TEMPERATURE\n",
      "Mean Absolute Error: 1.033858805371067\n",
      "Root Mean Squared Error: 2.330599825950048\n",
      "Root Mean Squared Log Error: 1.526630219126442\n",
      "R Squared: 0.13540228404680565\n",
      "WATER LEVEL  VS  SOIL MOISTURE\n",
      "Mean Absolute Error: 1.1623281569911201\n",
      "Root Mean Squared Error: 2.1456077048667024\n",
      "Root Mean Squared Log Error: 1.464789303915994\n",
      "R Squared: 0.5429980340255405\n"
     ]
    }
   ],
   "source": [
    "print(labels[5],\" VS \",labels[0])\n",
    "X_train, X_test, y_train, y_test, regression, y_pred = svrRegression(parameter[5],parameter[0].ravel())\n",
    "print(labels[5],\" VS \",labels[1])\n",
    "X_train, X_test, y_train, y_test, regression, y_pred = svrRegression(parameter[5],parameter[1].ravel())\n",
    "print(labels[5],\" VS \",labels[2])\n",
    "X_train, X_test, y_train, y_test, regression, y_pred = svrRegression(parameter[5],parameter[2].ravel())\n",
    "print(labels[5],\" VS \",labels[3])\n",
    "X_train, X_test, y_train, y_test, regression, y_pred = svrRegression(parameter[5],parameter[3].ravel())\n",
    "print(labels[5],\" VS \",labels[4])\n",
    "X_train, X_test, y_train, y_test, regression, y_pred = svrRegression(parameter[5],parameter[4].ravel())"
   ]
  },
  {
   "cell_type": "code",
   "execution_count": null,
   "metadata": {},
   "outputs": [],
   "source": []
  },
  {
   "cell_type": "code",
   "execution_count": null,
   "metadata": {},
   "outputs": [],
   "source": []
  }
 ],
 "metadata": {
  "interpreter": {
   "hash": "aee8b7b246df8f9039afb4144a1f6fd8d2ca17a180786b69acc140d282b71a49"
  },
  "kernelspec": {
   "display_name": "Python 3.10.0 64-bit",
   "language": "python",
   "name": "python3"
  },
  "language_info": {
   "codemirror_mode": {
    "name": "ipython",
    "version": 3
   },
   "file_extension": ".py",
   "mimetype": "text/x-python",
   "name": "python",
   "nbconvert_exporter": "python",
   "pygments_lexer": "ipython3",
   "version": "3.10.0"
  },
  "orig_nbformat": 4
 },
 "nbformat": 4,
 "nbformat_minor": 2
}
