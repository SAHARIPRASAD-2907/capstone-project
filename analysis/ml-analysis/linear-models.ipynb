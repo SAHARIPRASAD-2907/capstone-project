{
 "cells": [
  {
   "cell_type": "code",
   "execution_count": 54,
   "metadata": {},
   "outputs": [],
   "source": [
    "import pandas as pd\n",
    "from linearregression import linearRegression,visualisingResults"
   ]
  },
  {
   "cell_type": "code",
   "execution_count": 55,
   "metadata": {},
   "outputs": [],
   "source": [
    "def visTrainAndTest(X_train,y_train,X_test, y_test,regression,labels_1,labels_2):\n",
    "    visualisingResults(X_train,y_train,regression,labels_1,labels_2,\"Testing\")\n",
    "    visualisingResults(X_test, y_test,regression,labels_1,labels_2,\"Training\")"
   ]
  },
  {
   "cell_type": "code",
   "execution_count": 56,
   "metadata": {},
   "outputs": [],
   "source": [
    "# Importing dataset and parameters\n",
    "data = pd.read_csv('../datasets/day1_8.csv')\n",
    "ph_value = data.iloc[:,2].values.reshape(-1, 1)\n",
    "luminous_intensity = data.iloc[:,3].values.reshape(-1, 1)\n",
    "humidity = data.iloc[:,4].values.reshape(-1, 1)\n",
    "temperature = data.iloc[:,5].values.reshape(-1, 1)\n",
    "soil_moisture = data.iloc[:,6].values.reshape(-1, 1)\n",
    "water_level = data.iloc[:,7].values.reshape(-1, 1)\n",
    "labels = [\"PH\",\"SUNLIGHT\",\"HUMIDITY\",\"TEMPERATURE\",\"SOIL MOISTURE\",\"WATER LEVEL\"]\n",
    "parameter = [ph_value,luminous_intensity,humidity,temperature,soil_moisture,water_level]\n"
   ]
  },
  {
   "cell_type": "markdown",
   "metadata": {},
   "source": [
    "### PH VS PARAMETERS"
   ]
  },
  {
   "cell_type": "code",
   "execution_count": 57,
   "metadata": {},
   "outputs": [
    {
     "name": "stdout",
     "output_type": "stream",
     "text": [
      "PH  VS  SUNLIGHT\n",
      "Mean Absolute Error: 20.546681571589303\n",
      "Root Mean Squared Error: 642.3663167255712\n",
      "Root Mean Squared Log Error: 25.34494657176399\n",
      "R Squared: -0.1145343389823037\n",
      "PH  VS  HUMIDITY\n",
      "Mean Absolute Error: 3.3840666941397988\n",
      "Root Mean Squared Error: 20.02098874717828\n",
      "Root Mean Squared Log Error: 4.474481952939165\n",
      "R Squared: 0.04694213242932499\n",
      "PH  VS  TEMPERATURE\n",
      "Mean Absolute Error: 0.8661131938855665\n",
      "Root Mean Squared Error: 1.7179649206741188\n",
      "Root Mean Squared Log Error: 1.310711608506661\n",
      "R Squared: 0.013016219998488565\n",
      "PH  VS  SOIL MOISTURE\n",
      "Mean Absolute Error: 0.9802330729532911\n",
      "Root Mean Squared Error: 1.2998240627845832\n",
      "Root Mean Squared Log Error: 1.1400982689157033\n",
      "R Squared: -9.67149368702458e-05\n",
      "PH  VS  WATER LEVEL\n",
      "Mean Absolute Error: 10.739400229874052\n",
      "Root Mean Squared Error: 198.69143602330803\n",
      "Root Mean Squared Log Error: 14.095794976634274\n",
      "R Squared: -0.05983623680981065\n"
     ]
    }
   ],
   "source": [
    "print(labels[0],\" VS \",labels[1])\n",
    "X_train, X_test, y_train, y_test, regression, y_pred = linearRegression(parameter[0],parameter[1])\n",
    "print(labels[0],\" VS \",labels[2])\n",
    "X_train, X_test, y_train, y_test, regression, y_pred = linearRegression(parameter[0],parameter[2])\n",
    "print(labels[0],\" VS \",labels[3])\n",
    "X_train, X_test, y_train, y_test, regression, y_pred = linearRegression(parameter[0],parameter[3])\n",
    "print(labels[0],\" VS \",labels[4])\n",
    "X_train, X_test, y_train, y_test, regression, y_pred = linearRegression(parameter[0],parameter[4])\n",
    "print(labels[0],\" VS \",labels[5])\n",
    "X_train, X_test, y_train, y_test, regression, y_pred = linearRegression(parameter[0],parameter[5])"
   ]
  },
  {
   "cell_type": "markdown",
   "metadata": {},
   "source": [
    "### SUNLIGHT VS PARAMETERS"
   ]
  },
  {
   "cell_type": "code",
   "execution_count": 58,
   "metadata": {},
   "outputs": [
    {
     "name": "stdout",
     "output_type": "stream",
     "text": [
      "SUNLIGHT  VS  PH\n",
      "Mean Absolute Error: 0.34435950539829535\n",
      "Root Mean Squared Error: 0.2121957779784921\n",
      "Root Mean Squared Log Error: 0.4606471295671906\n",
      "R Squared: -0.01678426400548627\n",
      "SUNLIGHT  VS  HUMIDITY\n",
      "Mean Absolute Error: 3.1338037960520904\n",
      "Root Mean Squared Error: 15.833134136636415\n",
      "Root Mean Squared Log Error: 3.9790870983978746\n",
      "R Squared: 0.1207544545800977\n",
      "SUNLIGHT  VS  TEMPERATURE\n",
      "Mean Absolute Error: 0.8614129190095515\n",
      "Root Mean Squared Error: 1.6151642675430196\n",
      "Root Mean Squared Log Error: 1.2708911312708966\n",
      "R Squared: 0.1717826196329033\n",
      "SUNLIGHT  VS  SOIL MOISTURE\n",
      "Mean Absolute Error: 0.8884868694184366\n",
      "Root Mean Squared Error: 1.1495213152407358\n",
      "Root Mean Squared Log Error: 1.0721573183263433\n",
      "R Squared: -0.007359480987601863\n",
      "SUNLIGHT  VS  WATER LEVEL\n",
      "Mean Absolute Error: 0.922119413637847\n",
      "Root Mean Squared Error: 1.1700629107782186\n",
      "Root Mean Squared Log Error: 1.081694462765812\n",
      "R Squared: -0.06622748492643371\n"
     ]
    }
   ],
   "source": [
    "print(labels[1],\" VS \",labels[0])\n",
    "X_train, X_test, y_train, y_test, regression, y_pred = linearRegression(parameter[1],parameter[0])\n",
    "print(labels[1],\" VS \",labels[2])\n",
    "X_train, X_test, y_train, y_test, regression, y_pred = linearRegression(parameter[1],parameter[2])\n",
    "print(labels[1],\" VS \",labels[3])\n",
    "X_train, X_test, y_train, y_test, regression, y_pred = linearRegression(parameter[1],parameter[3])\n",
    "print(labels[1],\" VS \",labels[4])\n",
    "X_train, X_test, y_train, y_test, regression, y_pred = linearRegression(parameter[1],parameter[4])\n",
    "print(labels[1],\" VS \",labels[5])\n",
    "X_train, X_test, y_train, y_test, regression, y_pred = linearRegression(parameter[1],parameter[4])"
   ]
  },
  {
   "cell_type": "markdown",
   "metadata": {},
   "source": [
    "### HUMIDITY VS PARAMETERS"
   ]
  },
  {
   "cell_type": "code",
   "execution_count": 59,
   "metadata": {},
   "outputs": [
    {
     "name": "stdout",
     "output_type": "stream",
     "text": [
      "HUMIDITY  VS  PH\n",
      "Mean Absolute Error: 0.3576710679263575\n",
      "Root Mean Squared Error: 0.21712659322897984\n",
      "Root Mean Squared Log Error: 0.46596844660232073\n",
      "R Squared: 0.010444073421187139\n",
      "HUMIDITY  VS  SUNLIGHT\n",
      "Mean Absolute Error: 21.781961426466335\n",
      "Root Mean Squared Error: 1610.1315605857656\n",
      "Root Mean Squared Log Error: 40.1264446541899\n",
      "R Squared: -0.013366439658627938\n",
      "HUMIDITY  VS  TEMPERATURE\n",
      "Mean Absolute Error: 0.8023397275090762\n",
      "Root Mean Squared Error: 1.0412675806922655\n",
      "Root Mean Squared Log Error: 1.0204251960297068\n",
      "R Squared: 0.45548583794834796\n",
      "HUMIDITY  VS  SOIL MOISTURE\n",
      "Mean Absolute Error: 0.9414602753060393\n",
      "Root Mean Squared Error: 1.2570972186514884\n",
      "Root Mean Squared Log Error: 1.1212034688902315\n",
      "R Squared: -0.005908951928241368\n",
      "HUMIDITY  VS  WATER LEVEL\n",
      "Mean Absolute Error: 10.025164302838242\n",
      "Root Mean Squared Error: 195.62541049354138\n",
      "Root Mean Squared Log Error: 13.98661540522014\n",
      "R Squared: 0.07155736428993897\n"
     ]
    }
   ],
   "source": [
    "print(labels[2],\" VS \",labels[0])\n",
    "X_train, X_test, y_train, y_test, regression, y_pred = linearRegression(parameter[2],parameter[0])\n",
    "print(labels[2],\" VS \",labels[1])\n",
    "X_train, X_test, y_train, y_test, regression, y_pred = linearRegression(parameter[2],parameter[1])\n",
    "print(labels[2],\" VS \",labels[3])\n",
    "X_train, X_test, y_train, y_test, regression, y_pred = linearRegression(parameter[2],parameter[3])\n",
    "print(labels[2],\" VS \",labels[4])\n",
    "X_train, X_test, y_train, y_test, regression, y_pred = linearRegression(parameter[2],parameter[4])\n",
    "print(labels[2],\" VS \",labels[5])\n",
    "X_train, X_test, y_train, y_test, regression, y_pred = linearRegression(parameter[2],parameter[5])"
   ]
  },
  {
   "cell_type": "markdown",
   "metadata": {},
   "source": [
    "### TEMPERATURE VS PARAMETERS"
   ]
  },
  {
   "cell_type": "code",
   "execution_count": 60,
   "metadata": {},
   "outputs": [
    {
     "name": "stdout",
     "output_type": "stream",
     "text": [
      "TEMPERATURE  VS  PH\n",
      "Mean Absolute Error: 0.388091801475869\n",
      "Root Mean Squared Error: 0.2752243041545131\n",
      "Root Mean Squared Log Error: 0.5246182461128407\n",
      "R Squared: -0.056561195370756545\n",
      "TEMPERATURE  VS  SUNLIGHT\n",
      "Mean Absolute Error: 20.285568036286104\n",
      "Root Mean Squared Error: 972.3664286615091\n",
      "Root Mean Squared Log Error: 31.182790584896487\n",
      "R Squared: 0.1133918930020017\n",
      "TEMPERATURE  VS  HUMIDITY\n",
      "Mean Absolute Error: 2.719450400335814\n",
      "Root Mean Squared Error: 10.573126932904303\n",
      "Root Mean Squared Log Error: 3.2516345017397486\n",
      "R Squared: 0.3704430176142721\n",
      "TEMPERATURE  VS  SOIL MOISTURE\n",
      "Mean Absolute Error: 0.8875021326871262\n",
      "Root Mean Squared Error: 1.0753402815842907\n",
      "Root Mean Squared Log Error: 1.0369861530340174\n",
      "R Squared: -0.01663756659286153\n",
      "TEMPERATURE  VS  WATER LEVEL\n",
      "Mean Absolute Error: 10.167437900379731\n",
      "Root Mean Squared Error: 175.84763992918465\n",
      "Root Mean Squared Log Error: 13.260755631908186\n",
      "R Squared: 0.07613892563049929\n"
     ]
    }
   ],
   "source": [
    "print(labels[3],\" VS \",labels[0])\n",
    "X_train, X_test, y_train, y_test, regression, y_pred = linearRegression(parameter[3],parameter[0])\n",
    "print(labels[3],\" VS \",labels[1])\n",
    "X_train, X_test, y_train, y_test, regression, y_pred = linearRegression(parameter[3],parameter[1])\n",
    "print(labels[3],\" VS \",labels[2])\n",
    "X_train, X_test, y_train, y_test, regression, y_pred = linearRegression(parameter[3],parameter[2])\n",
    "print(labels[3],\" VS \",labels[4])\n",
    "X_train, X_test, y_train, y_test, regression, y_pred = linearRegression(parameter[3],parameter[4])\n",
    "print(labels[3],\" VS \",labels[5])\n",
    "X_train, X_test, y_train, y_test, regression, y_pred = linearRegression(parameter[3],parameter[5])"
   ]
  },
  {
   "cell_type": "markdown",
   "metadata": {},
   "source": [
    "### SOIL MOISTURE VS PARAMETERS"
   ]
  },
  {
   "cell_type": "code",
   "execution_count": 61,
   "metadata": {},
   "outputs": [
    {
     "name": "stdout",
     "output_type": "stream",
     "text": [
      "SOIL MOISTURE  VS  PH\n",
      "Mean Absolute Error: 0.41752792902341057\n",
      "Root Mean Squared Error: 0.33632520910935265\n",
      "Root Mean Squared Log Error: 0.5799355215102387\n",
      "R Squared: -0.041067921744781355\n",
      "SOIL MOISTURE  VS  SUNLIGHT\n",
      "Mean Absolute Error: 25.29784643965936\n",
      "Root Mean Squared Error: 1811.2507038945269\n",
      "Root Mean Squared Log Error: 42.558791147006595\n",
      "R Squared: 0.0013617195974114926\n",
      "SOIL MOISTURE  VS  TEMPERATURE\n",
      "Mean Absolute Error: 3.2918644216325714\n",
      "Root Mean Squared Error: 18.734831405008272\n",
      "Root Mean Squared Log Error: 4.328375146057499\n",
      "R Squared: -0.00122233046955178\n",
      "SOIL MOISTURE  VS  HUMIDITY\n",
      "Mean Absolute Error: 0.915391782766883\n",
      "Root Mean Squared Error: 1.8923405325572333\n",
      "Root Mean Squared Log Error: 1.3756236885708364\n",
      "R Squared: -0.030155619334970574\n",
      "SOIL MOISTURE  VS  WATER LEVEL\n",
      "Mean Absolute Error: 9.890664006613703\n",
      "Root Mean Squared Error: 156.1189608700921\n",
      "Root Mean Squared Log Error: 12.494757335382392\n",
      "R Squared: -0.003708804985188552\n"
     ]
    }
   ],
   "source": [
    "print(labels[4],\" VS \",labels[0])\n",
    "X_train, X_test, y_train, y_test, regression, y_pred = linearRegression(parameter[4],parameter[0])\n",
    "print(labels[4],\" VS \",labels[1])\n",
    "X_train, X_test, y_train, y_test, regression, y_pred = linearRegression(parameter[4],parameter[1])\n",
    "print(labels[4],\" VS \",labels[3])\n",
    "X_train, X_test, y_train, y_test, regression, y_pred = linearRegression(parameter[4],parameter[2])\n",
    "print(labels[4],\" VS \",labels[2])\n",
    "X_train, X_test, y_train, y_test, regression, y_pred = linearRegression(parameter[4],parameter[3])\n",
    "print(labels[4],\" VS \",labels[5])\n",
    "X_train, X_test, y_train, y_test, regression, y_pred = linearRegression(parameter[4],parameter[5])"
   ]
  },
  {
   "cell_type": "markdown",
   "metadata": {},
   "source": [
    "### WATERLEVEL VS PARAMATERS"
   ]
  },
  {
   "cell_type": "code",
   "execution_count": 62,
   "metadata": {},
   "outputs": [
    {
     "name": "stdout",
     "output_type": "stream",
     "text": [
      "WATER LEVEL  VS  PH\n",
      "Mean Absolute Error: 0.38339909960673624\n",
      "Root Mean Squared Error: 0.2886812036902263\n",
      "Root Mean Squared Log Error: 0.5372906138117679\n",
      "R Squared: -0.016003245718377856\n",
      "WATER LEVEL  VS  SUNLIGHT\n",
      "Mean Absolute Error: 25.00743267279471\n",
      "Root Mean Squared Error: 1823.0243390535275\n",
      "Root Mean Squared Log Error: 42.69688910276166\n",
      "R Squared: 0.2657846069832339\n",
      "WATER LEVEL  VS  TEMPERATURE\n",
      "Mean Absolute Error: 3.0142790296109974\n",
      "Root Mean Squared Error: 15.001261419203987\n",
      "Root Mean Squared Log Error: 3.8731461913028777\n",
      "R Squared: 0.05333992304446533\n",
      "WATER LEVEL  VS  SOIL MOISTURE\n",
      "Mean Absolute Error: 0.8626426588159029\n",
      "Root Mean Squared Error: 1.7464131492965522\n",
      "Root Mean Squared Log Error: 1.3215192580119868\n",
      "R Squared: 0.08245554763487895\n",
      "WATER LEVEL  VS  HUMIDITY\n",
      "Mean Absolute Error: 1.0560817242577196\n",
      "Root Mean Squared Error: 2.043846343130726\n",
      "Root Mean Squared Log Error: 1.4296315410380138\n",
      "R Squared: 0.0010349451785935937\n"
     ]
    }
   ],
   "source": [
    "print(labels[5],\" VS \",labels[0])\n",
    "X_train, X_test, y_train, y_test, regression, y_pred = linearRegression(parameter[5],parameter[0])\n",
    "print(labels[5],\" VS \",labels[1])\n",
    "X_train, X_test, y_train, y_test, regression, y_pred = linearRegression(parameter[5],parameter[1])\n",
    "print(labels[5],\" VS \",labels[3])\n",
    "X_train, X_test, y_train, y_test, regression, y_pred = linearRegression(parameter[5],parameter[2])\n",
    "print(labels[5],\" VS \",labels[4])\n",
    "X_train, X_test, y_train, y_test, regression, y_pred = linearRegression(parameter[5],parameter[3])\n",
    "print(labels[5],\" VS \",labels[2])\n",
    "X_train, X_test, y_train, y_test, regression, y_pred = linearRegression(parameter[5],parameter[4])"
   ]
  },
  {
   "cell_type": "markdown",
   "metadata": {},
   "source": [
    "# GROWING PHASE EVALUATION"
   ]
  },
  {
   "cell_type": "code",
   "execution_count": 63,
   "metadata": {},
   "outputs": [],
   "source": [
    "# Importing dataset and parameters\n",
    "data = pd.read_csv('../datasets/day9-22.csv')\n",
    "ph_value = data.iloc[:,2].values.reshape(-1, 1)\n",
    "luminous_intensity = data.iloc[:,3].values.reshape(-1, 1)\n",
    "humidity = data.iloc[:,4].values.reshape(-1, 1)\n",
    "temperature = data.iloc[:,5].values.reshape(-1, 1)\n",
    "soil_moisture = data.iloc[:,6].values.reshape(-1, 1)\n",
    "water_level = data.iloc[:,7].values.reshape(-1, 1)\n",
    "labels = [\"PH\",\"SUNLIGHT\",\"HUMIDITY\",\"TEMPERATURE\",\"SOIL MOISTURE\",\"WATER LEVEL\"]\n",
    "parameter = [ph_value,luminous_intensity,humidity,temperature,soil_moisture,water_level]\n"
   ]
  },
  {
   "cell_type": "code",
   "execution_count": 64,
   "metadata": {},
   "outputs": [
    {
     "name": "stdout",
     "output_type": "stream",
     "text": [
      "PH  VS  SUNLIGHT\n",
      "Mean Absolute Error: 21.157889813421104\n",
      "Root Mean Squared Error: 1228.423206218692\n",
      "Root Mean Squared Log Error: 35.04886882937439\n",
      "R Squared: -0.004852334346888476\n",
      "PH  VS  HUMIDITY\n",
      "Mean Absolute Error: 3.4005719532192407\n",
      "Root Mean Squared Error: 21.329535926236478\n",
      "Root Mean Squared Log Error: 4.6183910538451025\n",
      "R Squared: -0.010883900933568169\n",
      "PH  VS  TEMPERATURE\n",
      "Mean Absolute Error: 1.155217149608353\n",
      "Root Mean Squared Error: 3.180715628446802\n",
      "Root Mean Squared Log Error: 1.7834560909780768\n",
      "R Squared: -0.006111637890654498\n",
      "PH  VS  SOIL MOISTURE\n",
      "Mean Absolute Error: 1.631562016150997\n",
      "Root Mean Squared Error: 3.9975539572530265\n",
      "Root Mean Squared Log Error: 1.9993883957983318\n",
      "R Squared: 0.009600342049435273\n",
      "PH  VS  WATER LEVEL\n",
      "Mean Absolute Error: 136.46527770270873\n",
      "Root Mean Squared Error: 23789.171964947887\n",
      "Root Mean Squared Log Error: 154.23738834973798\n",
      "R Squared: 0.11994160125960351\n"
     ]
    }
   ],
   "source": [
    "print(labels[0],\" VS \",labels[1])\n",
    "X_train, X_test, y_train, y_test, regression, y_pred = linearRegression(parameter[0],parameter[1])\n",
    "print(labels[0],\" VS \",labels[2])\n",
    "X_train, X_test, y_train, y_test, regression, y_pred = linearRegression(parameter[0],parameter[2])\n",
    "print(labels[0],\" VS \",labels[3])\n",
    "X_train, X_test, y_train, y_test, regression, y_pred = linearRegression(parameter[0],parameter[3])\n",
    "print(labels[0],\" VS \",labels[4])\n",
    "X_train, X_test, y_train, y_test, regression, y_pred = linearRegression(parameter[0],parameter[4])\n",
    "print(labels[0],\" VS \",labels[5])\n",
    "X_train, X_test, y_train, y_test, regression, y_pred = linearRegression(parameter[0],parameter[5])"
   ]
  },
  {
   "cell_type": "code",
   "execution_count": 65,
   "metadata": {},
   "outputs": [
    {
     "name": "stdout",
     "output_type": "stream",
     "text": [
      "SUNLIGHT  VS  PH\n",
      "Mean Absolute Error: 0.9442612310666731\n",
      "Root Mean Squared Error: 2.505479656744581\n",
      "Root Mean Squared Log Error: 1.5828707012085925\n",
      "R Squared: 5.719233956058556e-05\n",
      "SUNLIGHT  VS  HUMIDITY\n",
      "Mean Absolute Error: 3.3094503729152374\n",
      "Root Mean Squared Error: 20.457018993431728\n",
      "Root Mean Squared Log Error: 4.5229436204126765\n",
      "R Squared: 0.19484936658320906\n",
      "SUNLIGHT  VS  TEMPERATURE\n",
      "Mean Absolute Error: 1.0102749274970666\n",
      "Root Mean Squared Error: 2.5441097044497076\n",
      "Root Mean Squared Log Error: 1.5950265528980099\n",
      "R Squared: 0.1704348321084619\n",
      "SUNLIGHT  VS  SOIL MOISTURE\n",
      "Mean Absolute Error: 1.5564000271720493\n",
      "Root Mean Squared Error: 3.836105956676784\n",
      "Root Mean Squared Log Error: 1.9585979568754748\n",
      "R Squared: 0.02438135703894928\n",
      "SUNLIGHT  VS  WATER LEVEL\n",
      "Mean Absolute Error: 1.5629202606541877\n",
      "Root Mean Squared Error: 3.6782300347476578\n",
      "Root Mean Squared Log Error: 1.9178712247561507\n",
      "R Squared: 0.03325042444754012\n"
     ]
    }
   ],
   "source": [
    "print(labels[1],\" VS \",labels[0])\n",
    "X_train, X_test, y_train, y_test, regression, y_pred = linearRegression(parameter[1],parameter[0])\n",
    "print(labels[1],\" VS \",labels[2])\n",
    "X_train, X_test, y_train, y_test, regression, y_pred = linearRegression(parameter[1],parameter[2])\n",
    "print(labels[1],\" VS \",labels[3])\n",
    "X_train, X_test, y_train, y_test, regression, y_pred = linearRegression(parameter[1],parameter[3])\n",
    "print(labels[1],\" VS \",labels[4])\n",
    "X_train, X_test, y_train, y_test, regression, y_pred = linearRegression(parameter[1],parameter[4])\n",
    "print(labels[1],\" VS \",labels[5])\n",
    "X_train, X_test, y_train, y_test, regression, y_pred = linearRegression(parameter[1],parameter[4])"
   ]
  },
  {
   "cell_type": "code",
   "execution_count": null,
   "metadata": {},
   "outputs": [],
   "source": []
  },
  {
   "cell_type": "code",
   "execution_count": 66,
   "metadata": {},
   "outputs": [
    {
     "name": "stdout",
     "output_type": "stream",
     "text": [
      "HUMIDITY  VS  PH\n",
      "Mean Absolute Error: 0.9677376499511072\n",
      "Root Mean Squared Error: 2.3285589128977193\n",
      "Root Mean Squared Log Error: 1.5259616354606427\n",
      "R Squared: 0.008146004184983568\n",
      "HUMIDITY  VS  SUNLIGHT\n",
      "Mean Absolute Error: 19.4471857991129\n",
      "Root Mean Squared Error: 1072.593202778347\n",
      "Root Mean Squared Log Error: 32.75046874135311\n",
      "R Squared: 0.1304551114400011\n",
      "HUMIDITY  VS  TEMPERATURE\n",
      "Mean Absolute Error: 0.9434781377255226\n",
      "Root Mean Squared Error: 1.6862765837161844\n",
      "Root Mean Squared Log Error: 1.2985671271506085\n",
      "R Squared: 0.5603884379575026\n",
      "HUMIDITY  VS  SOIL MOISTURE\n",
      "Mean Absolute Error: 1.6009475083583258\n",
      "Root Mean Squared Error: 3.8454113704208988\n",
      "Root Mean Squared Log Error: 1.960972047332878\n",
      "R Squared: 0.0024550503790492506\n",
      "HUMIDITY  VS  WATER LEVEL\n",
      "Mean Absolute Error: 134.71588047663337\n",
      "Root Mean Squared Error: 24155.87065031358\n",
      "Root Mean Squared Log Error: 155.42159003920136\n",
      "R Squared: 0.1037761942158697\n"
     ]
    }
   ],
   "source": [
    "print(labels[2],\" VS \",labels[0])\n",
    "X_train, X_test, y_train, y_test, regression, y_pred = linearRegression(parameter[2],parameter[0])\n",
    "print(labels[2],\" VS \",labels[1])\n",
    "X_train, X_test, y_train, y_test, regression, y_pred = linearRegression(parameter[2],parameter[1])\n",
    "print(labels[2],\" VS \",labels[3])\n",
    "X_train, X_test, y_train, y_test, regression, y_pred = linearRegression(parameter[2],parameter[3])\n",
    "print(labels[2],\" VS \",labels[4])\n",
    "X_train, X_test, y_train, y_test, regression, y_pred = linearRegression(parameter[2],parameter[4])\n",
    "print(labels[2],\" VS \",labels[5])\n",
    "X_train, X_test, y_train, y_test, regression, y_pred = linearRegression(parameter[2],parameter[5])"
   ]
  },
  {
   "cell_type": "code",
   "execution_count": 67,
   "metadata": {},
   "outputs": [
    {
     "name": "stdout",
     "output_type": "stream",
     "text": [
      "TEMPERATURE  VS  PH\n",
      "Mean Absolute Error: 0.8932592352120355\n",
      "Root Mean Squared Error: 1.6079220358350934\n",
      "Root Mean Squared Log Error: 1.268038657074418\n",
      "R Squared: -0.007631164300091475\n",
      "TEMPERATURE  VS  SUNLIGHT\n",
      "Mean Absolute Error: 18.1078025108279\n",
      "Root Mean Squared Error: 888.5897893833134\n",
      "Root Mean Squared Log Error: 29.809223226768477\n",
      "R Squared: 0.165202249322854\n",
      "TEMPERATURE  VS  HUMIDITY\n",
      "Mean Absolute Error: 2.4870442439638802\n",
      "Root Mean Squared Error: 10.058673364022907\n",
      "Root Mean Squared Log Error: 3.1715411654309182\n",
      "R Squared: 0.5634814167409142\n",
      "TEMPERATURE  VS  SOIL MOISTURE\n",
      "Mean Absolute Error: 1.7806071032825777\n",
      "Root Mean Squared Error: 4.5113728492406535\n",
      "Root Mean Squared Log Error: 2.123999258295693\n",
      "R Squared: -0.004273201845045982\n",
      "TEMPERATURE  VS  WATER LEVEL\n",
      "Mean Absolute Error: 142.1664949508192\n",
      "Root Mean Squared Error: 25289.258530732677\n",
      "Root Mean Squared Log Error: 159.02596810185648\n",
      "R Squared: 0.005782998264920236\n"
     ]
    }
   ],
   "source": [
    "print(labels[3],\" VS \",labels[0])\n",
    "X_train, X_test, y_train, y_test, regression, y_pred = linearRegression(parameter[3],parameter[0])\n",
    "print(labels[3],\" VS \",labels[1])\n",
    "X_train, X_test, y_train, y_test, regression, y_pred = linearRegression(parameter[3],parameter[1])\n",
    "print(labels[3],\" VS \",labels[2])\n",
    "X_train, X_test, y_train, y_test, regression, y_pred = linearRegression(parameter[3],parameter[2])\n",
    "print(labels[3],\" VS \",labels[4])\n",
    "X_train, X_test, y_train, y_test, regression, y_pred = linearRegression(parameter[3],parameter[4])\n",
    "print(labels[3],\" VS \",labels[5])\n",
    "X_train, X_test, y_train, y_test, regression, y_pred = linearRegression(parameter[3],parameter[5])"
   ]
  },
  {
   "cell_type": "code",
   "execution_count": 68,
   "metadata": {},
   "outputs": [
    {
     "name": "stdout",
     "output_type": "stream",
     "text": [
      "SOIL MOISTURE  VS  PH\n",
      "Mean Absolute Error: 0.959457667453124\n",
      "Root Mean Squared Error: 2.3857332800397684\n",
      "Root Mean Squared Log Error: 1.5445819110813672\n",
      "R Squared: 0.010818090402904379\n",
      "SOIL MOISTURE  VS  SUNLIGHT\n",
      "Mean Absolute Error: 19.289397012899318\n",
      "Root Mean Squared Error: 834.4432819338559\n",
      "Root Mean Squared Log Error: 28.886731935853454\n",
      "R Squared: 0.0037398796293057757\n",
      "SOIL MOISTURE  VS  TEMPERATURE\n",
      "Mean Absolute Error: 3.3324303744513046\n",
      "Root Mean Squared Error: 21.273193128526405\n",
      "Root Mean Squared Log Error: 4.612287190594966\n",
      "R Squared: -0.0027362122840890457\n",
      "SOIL MOISTURE  VS  HUMIDITY\n",
      "Mean Absolute Error: 1.0317898275574147\n",
      "Root Mean Squared Error: 2.11686206889625\n",
      "Root Mean Squared Log Error: 1.4549440088526602\n",
      "R Squared: -0.03735646741220777\n",
      "SOIL MOISTURE  VS  WATER LEVEL\n",
      "Mean Absolute Error: 130.00139991923547\n",
      "Root Mean Squared Error: 23137.31655177841\n",
      "Root Mean Squared Log Error: 152.1095544394842\n",
      "R Squared: 0.011032004556487118\n"
     ]
    }
   ],
   "source": [
    "print(labels[4],\" VS \",labels[0])\n",
    "X_train, X_test, y_train, y_test, regression, y_pred = linearRegression(parameter[4],parameter[0])\n",
    "print(labels[4],\" VS \",labels[1])\n",
    "X_train, X_test, y_train, y_test, regression, y_pred = linearRegression(parameter[4],parameter[1])\n",
    "print(labels[4],\" VS \",labels[3])\n",
    "X_train, X_test, y_train, y_test, regression, y_pred = linearRegression(parameter[4],parameter[2])\n",
    "print(labels[4],\" VS \",labels[2])\n",
    "X_train, X_test, y_train, y_test, regression, y_pred = linearRegression(parameter[4],parameter[3])\n",
    "print(labels[4],\" VS \",labels[5])\n",
    "X_train, X_test, y_train, y_test, regression, y_pred = linearRegression(parameter[4],parameter[5])"
   ]
  },
  {
   "cell_type": "code",
   "execution_count": 69,
   "metadata": {},
   "outputs": [
    {
     "name": "stdout",
     "output_type": "stream",
     "text": [
      "WATER LEVEL  VS  PH\n",
      "Mean Absolute Error: 0.8867674508086568\n",
      "Root Mean Squared Error: 2.728589051678055\n",
      "Root Mean Squared Log Error: 1.6518441366176335\n",
      "R Squared: 0.11776639964303226\n",
      "WATER LEVEL  VS  SUNLIGHT\n",
      "Mean Absolute Error: 20.001157707149165\n",
      "Root Mean Squared Error: 1183.820783992184\n",
      "Root Mean Squared Log Error: 34.406696789901005\n",
      "R Squared: 0.0038803272976377645\n",
      "WATER LEVEL  VS  TEMPERATURE\n",
      "Mean Absolute Error: 3.49415579916476\n",
      "Root Mean Squared Error: 20.454259105494643\n",
      "Root Mean Squared Log Error: 4.5226385114769725\n",
      "R Squared: 0.0731942203080459\n",
      "WATER LEVEL  VS  SOIL MOISTURE\n",
      "Mean Absolute Error: 1.1730015312060473\n",
      "Root Mean Squared Error: 2.624729658452805\n",
      "Root Mean Squared Log Error: 1.6201017432410858\n",
      "R Squared: 0.0017229964808328502\n",
      "WATER LEVEL  VS  HUMIDITY\n",
      "Mean Absolute Error: 1.563633132421348\n",
      "Root Mean Squared Error: 3.7017285849961854\n",
      "Root Mean Squared Log Error: 1.9239876779741043\n",
      "R Squared: 0.019924770520026613\n"
     ]
    }
   ],
   "source": [
    "print(labels[5],\" VS \",labels[0])\n",
    "X_train, X_test, y_train, y_test, regression, y_pred = linearRegression(parameter[5],parameter[0])\n",
    "print(labels[5],\" VS \",labels[1])\n",
    "X_train, X_test, y_train, y_test, regression, y_pred = linearRegression(parameter[5],parameter[1])\n",
    "print(labels[5],\" VS \",labels[3])\n",
    "X_train, X_test, y_train, y_test, regression, y_pred = linearRegression(parameter[5],parameter[2])\n",
    "print(labels[5],\" VS \",labels[4])\n",
    "X_train, X_test, y_train, y_test, regression, y_pred = linearRegression(parameter[5],parameter[3])\n",
    "print(labels[5],\" VS \",labels[2])\n",
    "X_train, X_test, y_train, y_test, regression, y_pred = linearRegression(parameter[5],parameter[4])"
   ]
  },
  {
   "cell_type": "markdown",
   "metadata": {},
   "source": [
    "# HARVESTING PHASE EVALUATION\n"
   ]
  },
  {
   "cell_type": "code",
   "execution_count": 70,
   "metadata": {},
   "outputs": [],
   "source": [
    "# Importing dataset and parameters\n",
    "data = pd.read_csv('../datasets/day23-27.csv')\n",
    "ph_value = data.iloc[:,2].values.reshape(-1, 1)\n",
    "luminous_intensity = data.iloc[:,3].values.reshape(-1, 1)\n",
    "humidity = data.iloc[:,4].values.reshape(-1, 1)\n",
    "temperature = data.iloc[:,5].values.reshape(-1, 1)\n",
    "soil_moisture = data.iloc[:,6].values.reshape(-1, 1)\n",
    "water_level = data.iloc[:,7].values.reshape(-1, 1)\n",
    "labels = [\"PH\",\"SUNLIGHT\",\"HUMIDITY\",\"TEMPERATURE\",\"SOIL MOISTURE\",\"WATER LEVEL\"]\n",
    "parameter = [ph_value,luminous_intensity,humidity,temperature,soil_moisture,water_level]"
   ]
  },
  {
   "cell_type": "code",
   "execution_count": 71,
   "metadata": {},
   "outputs": [
    {
     "name": "stdout",
     "output_type": "stream",
     "text": [
      "PH  VS  SUNLIGHT\n",
      "Mean Absolute Error: 22.685619611608857\n",
      "Root Mean Squared Error: 1027.8180245251385\n",
      "Root Mean Squared Log Error: 32.05960112860325\n",
      "R Squared: -0.020021248351671073\n",
      "PH  VS  HUMIDITY\n",
      "Mean Absolute Error: 4.589548923340286\n",
      "Root Mean Squared Error: 33.36733895236974\n",
      "Root Mean Squared Log Error: 5.776446914182605\n",
      "R Squared: -0.15445520616800557\n",
      "PH  VS  TEMPERATURE\n",
      "Mean Absolute Error: 0.9068856908166567\n",
      "Root Mean Squared Error: 1.836337148901635\n",
      "Root Mean Squared Log Error: 1.3551151792012497\n",
      "R Squared: 0.06530889392863126\n",
      "PH  VS  SOIL MOISTURE\n",
      "Mean Absolute Error: 1.1328147424828134\n",
      "Root Mean Squared Error: 1.821907043200141\n",
      "Root Mean Squared Log Error: 1.349780368504499\n",
      "R Squared: 0.03223379892112388\n",
      "PH  VS  WATER LEVEL\n",
      "Mean Absolute Error: 100.54316508593037\n",
      "Root Mean Squared Error: 15723.309165564555\n",
      "Root Mean Squared Log Error: 125.3926200602115\n",
      "R Squared: -0.05177142387087219\n"
     ]
    }
   ],
   "source": [
    "print(labels[0],\" VS \",labels[1])\n",
    "X_train, X_test, y_train, y_test, regression, y_pred = linearRegression(parameter[0],parameter[1])\n",
    "print(labels[0],\" VS \",labels[2])\n",
    "X_train, X_test, y_train, y_test, regression, y_pred = linearRegression(parameter[0],parameter[2])\n",
    "print(labels[0],\" VS \",labels[3])\n",
    "X_train, X_test, y_train, y_test, regression, y_pred = linearRegression(parameter[0],parameter[3])\n",
    "print(labels[0],\" VS \",labels[4])\n",
    "X_train, X_test, y_train, y_test, regression, y_pred = linearRegression(parameter[0],parameter[4])\n",
    "print(labels[0],\" VS \",labels[5])\n",
    "X_train, X_test, y_train, y_test, regression, y_pred = linearRegression(parameter[0],parameter[5])"
   ]
  },
  {
   "cell_type": "code",
   "execution_count": 72,
   "metadata": {},
   "outputs": [
    {
     "name": "stdout",
     "output_type": "stream",
     "text": [
      "SUNLIGHT  VS  PH\n",
      "Mean Absolute Error: 0.9731016213601696\n",
      "Root Mean Squared Error: 1.4213572213484509\n",
      "Root Mean Squared Log Error: 1.192206870198478\n",
      "R Squared: -0.09674237012292464\n",
      "SUNLIGHT  VS  HUMIDITY\n",
      "Mean Absolute Error: 3.4466443030787954\n",
      "Root Mean Squared Error: 20.575241764552835\n",
      "Root Mean Squared Log Error: 4.535994021661938\n",
      "R Squared: 0.15871860471418664\n",
      "SUNLIGHT  VS  TEMPERATURE\n",
      "Mean Absolute Error: 0.7630483386645273\n",
      "Root Mean Squared Error: 1.6451406044404195\n",
      "Root Mean Squared Log Error: 1.2826303459845396\n",
      "R Squared: 0.21840766430409342\n",
      "SUNLIGHT  VS  SOIL MOISTURE\n",
      "Mean Absolute Error: 0.9454675991613685\n",
      "Root Mean Squared Error: 1.4707365975136184\n",
      "Root Mean Squared Log Error: 1.212739294949091\n",
      "R Squared: -0.0047080130002670195\n",
      "SUNLIGHT  VS  WATER LEVEL\n",
      "Mean Absolute Error: 1.0651959971797833\n",
      "Root Mean Squared Error: 1.972444589861809\n",
      "Root Mean Squared Log Error: 1.4044374638487145\n",
      "R Squared: -0.006768592741964952\n"
     ]
    }
   ],
   "source": [
    "print(labels[1],\" VS \",labels[0])\n",
    "X_train, X_test, y_train, y_test, regression, y_pred = linearRegression(parameter[1],parameter[0])\n",
    "print(labels[1],\" VS \",labels[2])\n",
    "X_train, X_test, y_train, y_test, regression, y_pred = linearRegression(parameter[1],parameter[2])\n",
    "print(labels[1],\" VS \",labels[3])\n",
    "X_train, X_test, y_train, y_test, regression, y_pred = linearRegression(parameter[1],parameter[3])\n",
    "print(labels[1],\" VS \",labels[4])\n",
    "X_train, X_test, y_train, y_test, regression, y_pred = linearRegression(parameter[1],parameter[4])\n",
    "print(labels[1],\" VS \",labels[5])\n",
    "X_train, X_test, y_train, y_test, regression, y_pred = linearRegression(parameter[1],parameter[4])"
   ]
  },
  {
   "cell_type": "code",
   "execution_count": 73,
   "metadata": {},
   "outputs": [
    {
     "name": "stdout",
     "output_type": "stream",
     "text": [
      "HUMIDITY  VS  PH\n",
      "Mean Absolute Error: 0.8707172309003908\n",
      "Root Mean Squared Error: 1.2903886535329188\n",
      "Root Mean Squared Log Error: 1.135952751452682\n",
      "R Squared: 0.1538276525339649\n",
      "HUMIDITY  VS  SUNLIGHT\n",
      "Mean Absolute Error: 19.14654603971235\n",
      "Root Mean Squared Error: 1114.2780278708353\n",
      "Root Mean Squared Log Error: 33.38080328378626\n",
      "R Squared: 0.20578001814881408\n",
      "HUMIDITY  VS  TEMPERATURE\n",
      "Mean Absolute Error: 0.7253249996418711\n",
      "Root Mean Squared Error: 1.277635881243705\n",
      "Root Mean Squared Log Error: 1.1303255642706243\n",
      "R Squared: 0.29068084679350914\n",
      "HUMIDITY  VS  SOIL MOISTURE\n",
      "Mean Absolute Error: 1.008330734065424\n",
      "Root Mean Squared Error: 1.7962387929508623\n",
      "Root Mean Squared Log Error: 1.3402383343834268\n",
      "R Squared: 0.014749617299340434\n",
      "HUMIDITY  VS  WATER LEVEL\n",
      "Mean Absolute Error: 108.2587866339996\n",
      "Root Mean Squared Error: 14820.362577171478\n",
      "Root Mean Squared Log Error: 121.73891151629161\n",
      "R Squared: 0.20797414916367674\n"
     ]
    }
   ],
   "source": [
    "print(labels[2],\" VS \",labels[0])\n",
    "X_train, X_test, y_train, y_test, regression, y_pred = linearRegression(parameter[2],parameter[0])\n",
    "print(labels[2],\" VS \",labels[1])\n",
    "X_train, X_test, y_train, y_test, regression, y_pred = linearRegression(parameter[2],parameter[1])\n",
    "print(labels[2],\" VS \",labels[3])\n",
    "X_train, X_test, y_train, y_test, regression, y_pred = linearRegression(parameter[2],parameter[3])\n",
    "print(labels[2],\" VS \",labels[4])\n",
    "X_train, X_test, y_train, y_test, regression, y_pred = linearRegression(parameter[2],parameter[4])\n",
    "print(labels[2],\" VS \",labels[5])\n",
    "X_train, X_test, y_train, y_test, regression, y_pred = linearRegression(parameter[2],parameter[5])"
   ]
  },
  {
   "cell_type": "code",
   "execution_count": 74,
   "metadata": {},
   "outputs": [
    {
     "name": "stdout",
     "output_type": "stream",
     "text": [
      "TEMPERATURE  VS  PH\n",
      "Mean Absolute Error: 0.9607104667901329\n",
      "Root Mean Squared Error: 1.4411491487611\n",
      "Root Mean Squared Log Error: 1.2004787164965065\n",
      "R Squared: 0.07501350039152299\n",
      "TEMPERATURE  VS  SUNLIGHT\n",
      "Mean Absolute Error: 20.24217501209502\n",
      "Root Mean Squared Error: 1750.4043345692744\n",
      "Root Mean Squared Log Error: 41.837833770037314\n",
      "R Squared: 0.263424528469945\n",
      "TEMPERATURE  VS  HUMIDITY\n",
      "Mean Absolute Error: 3.8819979832302063\n",
      "Root Mean Squared Error: 25.495492429316094\n",
      "Root Mean Squared Log Error: 5.049306133452011\n",
      "R Squared: 0.35597193070068056\n",
      "TEMPERATURE  VS  SOIL MOISTURE\n",
      "Mean Absolute Error: 1.1305714837866083\n",
      "Root Mean Squared Error: 2.0603439573344566\n",
      "Root Mean Squared Log Error: 1.4353898276546537\n",
      "R Squared: 0.0010377270143588913\n",
      "TEMPERATURE  VS  WATER LEVEL\n",
      "Mean Absolute Error: 111.24231403866257\n",
      "Root Mean Squared Error: 16898.54274013597\n",
      "Root Mean Squared Log Error: 129.9943950335397\n",
      "R Squared: -0.02606514660836301\n"
     ]
    }
   ],
   "source": [
    "print(labels[3],\" VS \",labels[0])\n",
    "X_train, X_test, y_train, y_test, regression, y_pred = linearRegression(parameter[3],parameter[0])\n",
    "print(labels[3],\" VS \",labels[1])\n",
    "X_train, X_test, y_train, y_test, regression, y_pred = linearRegression(parameter[3],parameter[1])\n",
    "print(labels[3],\" VS \",labels[2])\n",
    "X_train, X_test, y_train, y_test, regression, y_pred = linearRegression(parameter[3],parameter[2])\n",
    "print(labels[3],\" VS \",labels[4])\n",
    "X_train, X_test, y_train, y_test, regression, y_pred = linearRegression(parameter[3],parameter[4])\n",
    "print(labels[3],\" VS \",labels[5])\n",
    "X_train, X_test, y_train, y_test, regression, y_pred = linearRegression(parameter[3],parameter[5])"
   ]
  },
  {
   "cell_type": "code",
   "execution_count": 75,
   "metadata": {},
   "outputs": [
    {
     "name": "stdout",
     "output_type": "stream",
     "text": [
      "SOIL MOISTURE  VS  PH\n",
      "Mean Absolute Error: 0.9433205683465462\n",
      "Root Mean Squared Error: 2.2974734560873813\n",
      "Root Mean Squared Log Error: 1.5157418830682818\n",
      "R Squared: -0.018958647744518053\n",
      "SOIL MOISTURE  VS  SUNLIGHT\n",
      "Mean Absolute Error: 23.14975544601792\n",
      "Root Mean Squared Error: 1434.3286978650551\n",
      "Root Mean Squared Log Error: 37.872532234655964\n",
      "R Squared: -0.00766407705007488\n",
      "SOIL MOISTURE  VS  TEMPERATURE\n",
      "Mean Absolute Error: 4.599647819808787\n",
      "Root Mean Squared Error: 33.304173560212924\n",
      "Root Mean Squared Log Error: 5.770976828944379\n",
      "R Squared: -0.07320873261113792\n",
      "SOIL MOISTURE  VS  HUMIDITY\n",
      "Mean Absolute Error: 1.0291766515383454\n",
      "Root Mean Squared Error: 1.813226314845792\n",
      "Root Mean Squared Log Error: 1.346560921327287\n",
      "R Squared: -0.10672416744167057\n",
      "SOIL MOISTURE  VS  WATER LEVEL\n",
      "Mean Absolute Error: 105.00880565074115\n",
      "Root Mean Squared Error: 16357.03271378212\n",
      "Root Mean Squared Log Error: 127.8946156559459\n",
      "R Squared: -0.004429704470137796\n"
     ]
    }
   ],
   "source": [
    "print(labels[4],\" VS \",labels[0])\n",
    "X_train, X_test, y_train, y_test, regression, y_pred = linearRegression(parameter[4],parameter[0])\n",
    "print(labels[4],\" VS \",labels[1])\n",
    "X_train, X_test, y_train, y_test, regression, y_pred = linearRegression(parameter[4],parameter[1])\n",
    "print(labels[4],\" VS \",labels[3])\n",
    "X_train, X_test, y_train, y_test, regression, y_pred = linearRegression(parameter[4],parameter[2])\n",
    "print(labels[4],\" VS \",labels[2])\n",
    "X_train, X_test, y_train, y_test, regression, y_pred = linearRegression(parameter[4],parameter[3])\n",
    "print(labels[4],\" VS \",labels[5])\n",
    "X_train, X_test, y_train, y_test, regression, y_pred = linearRegression(parameter[4],parameter[5])"
   ]
  },
  {
   "cell_type": "code",
   "execution_count": 76,
   "metadata": {},
   "outputs": [
    {
     "name": "stdout",
     "output_type": "stream",
     "text": [
      "WATER LEVEL  VS  PH\n",
      "Mean Absolute Error: 0.9163314615606698\n",
      "Root Mean Squared Error: 1.3114571136857136\n",
      "Root Mean Squared Log Error: 1.1451886803866487\n",
      "R Squared: -0.04592006579745389\n",
      "WATER LEVEL  VS  SUNLIGHT\n",
      "Mean Absolute Error: 28.312686475850025\n",
      "Root Mean Squared Error: 2365.95942373483\n",
      "Root Mean Squared Log Error: 48.64112893154136\n",
      "R Squared: -0.0004814580568348603\n",
      "WATER LEVEL  VS  TEMPERATURE\n",
      "Mean Absolute Error: 4.0362442623163615\n",
      "Root Mean Squared Error: 25.24576756764706\n",
      "Root Mean Squared Log Error: 5.024516650151242\n",
      "R Squared: 0.1617892433451118\n",
      "WATER LEVEL  VS  SOIL MOISTURE\n",
      "Mean Absolute Error: 0.9096915721144615\n",
      "Root Mean Squared Error: 1.3423509747076445\n",
      "Root Mean Squared Log Error: 1.15859871168047\n",
      "R Squared: 0.04365968554867117\n",
      "WATER LEVEL  VS  HUMIDITY\n",
      "Mean Absolute Error: 1.0552755890095726\n",
      "Root Mean Squared Error: 1.6322562411431993\n",
      "Root Mean Squared Log Error: 1.2775978401450119\n",
      "R Squared: 0.07714743289211434\n"
     ]
    }
   ],
   "source": [
    "print(labels[5],\" VS \",labels[0])\n",
    "X_train, X_test, y_train, y_test, regression, y_pred = linearRegression(parameter[5],parameter[0])\n",
    "print(labels[5],\" VS \",labels[1])\n",
    "X_train, X_test, y_train, y_test, regression, y_pred = linearRegression(parameter[5],parameter[1])\n",
    "print(labels[5],\" VS \",labels[3])\n",
    "X_train, X_test, y_train, y_test, regression, y_pred = linearRegression(parameter[5],parameter[2])\n",
    "print(labels[5],\" VS \",labels[4])\n",
    "X_train, X_test, y_train, y_test, regression, y_pred = linearRegression(parameter[5],parameter[3])\n",
    "print(labels[5],\" VS \",labels[2])\n",
    "X_train, X_test, y_train, y_test, regression, y_pred = linearRegression(parameter[5],parameter[4])"
   ]
  },
  {
   "cell_type": "markdown",
   "metadata": {},
   "source": [
    "# FULL DATASET EVALUATION"
   ]
  },
  {
   "cell_type": "code",
   "execution_count": 77,
   "metadata": {},
   "outputs": [],
   "source": [
    "\n",
    "# Importing dataset and parameters\n",
    "data = pd.read_csv('../datasets/full_data.csv')\n",
    "ph_value = data.iloc[:,2].values.reshape(-1, 1)\n",
    "luminous_intensity = data.iloc[:,3].values.reshape(-1, 1)\n",
    "humidity = data.iloc[:,4].values.reshape(-1, 1)\n",
    "temperature = data.iloc[:,5].values.reshape(-1, 1)\n",
    "soil_moisture = data.iloc[:,6].values.reshape(-1, 1)\n",
    "water_level = data.iloc[:,7].values.reshape(-1, 1)\n",
    "labels = [\"PH\",\"SUNLIGHT\",\"HUMIDITY\",\"TEMPERATURE\",\"SOIL MOISTURE\",\"WATER LEVEL\"]\n",
    "parameter = [ph_value,luminous_intensity,humidity,temperature,soil_moisture,water_level]\n"
   ]
  },
  {
   "cell_type": "code",
   "execution_count": 78,
   "metadata": {},
   "outputs": [
    {
     "name": "stdout",
     "output_type": "stream",
     "text": [
      "PH  VS  SUNLIGHT\n",
      "Mean Absolute Error: 23.313503860586685\n",
      "Root Mean Squared Error: 1591.0356398303802\n",
      "Root Mean Squared Log Error: 39.88778810400973\n",
      "R Squared: 0.0011833884445854315\n",
      "PH  VS  HUMIDITY\n",
      "Mean Absolute Error: 3.9601328974320875\n",
      "Root Mean Squared Error: 27.939843958818837\n",
      "Root Mean Squared Log Error: 5.285815354211575\n",
      "R Squared: 0.005988579881283873\n",
      "PH  VS  TEMPERATURE\n",
      "Mean Absolute Error: 1.210770631901807\n",
      "Root Mean Squared Error: 3.0650378954590725\n",
      "Root Mean Squared Log Error: 1.7507249628251356\n",
      "R Squared: 0.05995843886847818\n",
      "PH  VS  SOIL MOISTURE\n",
      "Mean Absolute Error: 1.8210568663130295\n",
      "Root Mean Squared Error: 4.899096343818178\n",
      "Root Mean Squared Log Error: 2.2133902375808425\n",
      "R Squared: 0.03782876097103249\n",
      "PH  VS  WATER LEVEL\n",
      "Mean Absolute Error: 137.68417587186974\n",
      "Root Mean Squared Error: 22732.459053962542\n",
      "Root Mean Squared Log Error: 150.77287240734833\n",
      "R Squared: 0.2893130246055482\n"
     ]
    }
   ],
   "source": [
    "print(labels[0],\" VS \",labels[1])\n",
    "X_train, X_test, y_train, y_test, regression, y_pred = linearRegression(parameter[0],parameter[1])\n",
    "print(labels[0],\" VS \",labels[2])\n",
    "X_train, X_test, y_train, y_test, regression, y_pred = linearRegression(parameter[0],parameter[2])\n",
    "print(labels[0],\" VS \",labels[3])\n",
    "X_train, X_test, y_train, y_test, regression, y_pred = linearRegression(parameter[0],parameter[3])\n",
    "print(labels[0],\" VS \",labels[4])\n",
    "X_train, X_test, y_train, y_test, regression, y_pred = linearRegression(parameter[0],parameter[4])\n",
    "print(labels[0],\" VS \",labels[5])\n",
    "X_train, X_test, y_train, y_test, regression, y_pred = linearRegression(parameter[0],parameter[5])"
   ]
  },
  {
   "cell_type": "code",
   "execution_count": 79,
   "metadata": {},
   "outputs": [
    {
     "name": "stdout",
     "output_type": "stream",
     "text": [
      "SUNLIGHT  VS  PH\n",
      "Mean Absolute Error: 1.036066138873365\n",
      "Root Mean Squared Error: 2.1289997748845924\n",
      "Root Mean Squared Log Error: 1.4591092402163015\n",
      "R Squared: -0.00024635165905340095\n",
      "SUNLIGHT  VS  HUMIDITY\n",
      "Mean Absolute Error: 3.4193397320959016\n",
      "Root Mean Squared Error: 21.26215319534403\n",
      "Root Mean Squared Log Error: 4.611090239340804\n",
      "R Squared: 0.1575679523626181\n",
      "SUNLIGHT  VS  TEMPERATURE\n",
      "Mean Absolute Error: 1.147503081253186\n",
      "Root Mean Squared Error: 2.6041383382145695\n",
      "Root Mean Squared Log Error: 1.613734283646031\n",
      "R Squared: 0.18570936474522604\n",
      "SUNLIGHT  VS  SOIL MOISTURE\n",
      "Mean Absolute Error: 1.9215493182561891\n",
      "Root Mean Squared Error: 5.1888385662192285\n",
      "Root Mean Squared Log Error: 2.2779022292932654\n",
      "R Squared: -0.011811845660684384\n",
      "SUNLIGHT  VS  WATER LEVEL\n",
      "Mean Absolute Error: 1.8404405758250737\n",
      "Root Mean Squared Error: 4.645721804931876\n",
      "Root Mean Squared Log Error: 2.1553936542849605\n",
      "R Squared: -0.0026239761198960654\n"
     ]
    }
   ],
   "source": [
    "print(labels[1],\" VS \",labels[0])\n",
    "X_train, X_test, y_train, y_test, regression, y_pred = linearRegression(parameter[1],parameter[0])\n",
    "print(labels[1],\" VS \",labels[2])\n",
    "X_train, X_test, y_train, y_test, regression, y_pred = linearRegression(parameter[1],parameter[2])\n",
    "print(labels[1],\" VS \",labels[3])\n",
    "X_train, X_test, y_train, y_test, regression, y_pred = linearRegression(parameter[1],parameter[3])\n",
    "print(labels[1],\" VS \",labels[4])\n",
    "X_train, X_test, y_train, y_test, regression, y_pred = linearRegression(parameter[1],parameter[4])\n",
    "print(labels[1],\" VS \",labels[5])\n",
    "X_train, X_test, y_train, y_test, regression, y_pred = linearRegression(parameter[1],parameter[4])"
   ]
  },
  {
   "cell_type": "code",
   "execution_count": 80,
   "metadata": {},
   "outputs": [
    {
     "name": "stdout",
     "output_type": "stream",
     "text": [
      "HUMIDITY  VS  PH\n",
      "Mean Absolute Error: 0.9411808913861138\n",
      "Root Mean Squared Error: 1.6337173484822383\n",
      "Root Mean Squared Log Error: 1.2781695304153664\n",
      "R Squared: 0.024516437841615613\n",
      "HUMIDITY  VS  SUNLIGHT\n",
      "Mean Absolute Error: 20.00382480882817\n",
      "Root Mean Squared Error: 1241.137834198944\n",
      "Root Mean Squared Log Error: 35.2297861787287\n",
      "R Squared: 0.18572369245592169\n",
      "HUMIDITY  VS  TEMPERATURE\n",
      "Mean Absolute Error: 0.9291711798361942\n",
      "Root Mean Squared Error: 1.4788896532334443\n",
      "Root Mean Squared Log Error: 1.2160960707252715\n",
      "R Squared: 0.3759514184099414\n",
      "HUMIDITY  VS  SOIL MOISTURE\n",
      "Mean Absolute Error: 1.8114816402226053\n",
      "Root Mean Squared Error: 4.672643361008625\n",
      "Root Mean Squared Log Error: 2.161629792774106\n",
      "R Squared: 0.02305482176247653\n",
      "HUMIDITY  VS  WATER LEVEL\n",
      "Mean Absolute Error: 165.66441154995815\n",
      "Root Mean Squared Error: 31591.997399745727\n",
      "Root Mean Squared Log Error: 177.74137784923838\n",
      "R Squared: 0.026498624845612384\n"
     ]
    }
   ],
   "source": [
    "print(labels[2],\" VS \",labels[0])\n",
    "X_train, X_test, y_train, y_test, regression, y_pred = linearRegression(parameter[2],parameter[0])\n",
    "print(labels[2],\" VS \",labels[1])\n",
    "X_train, X_test, y_train, y_test, regression, y_pred = linearRegression(parameter[2],parameter[1])\n",
    "print(labels[2],\" VS \",labels[3])\n",
    "X_train, X_test, y_train, y_test, regression, y_pred = linearRegression(parameter[2],parameter[3])\n",
    "print(labels[2],\" VS \",labels[4])\n",
    "X_train, X_test, y_train, y_test, regression, y_pred = linearRegression(parameter[2],parameter[4])\n",
    "print(labels[2],\" VS \",labels[5])\n",
    "X_train, X_test, y_train, y_test, regression, y_pred = linearRegression(parameter[2],parameter[5])"
   ]
  },
  {
   "cell_type": "code",
   "execution_count": 81,
   "metadata": {},
   "outputs": [
    {
     "name": "stdout",
     "output_type": "stream",
     "text": [
      "TEMPERATURE  VS  PH\n",
      "Mean Absolute Error: 0.9259271194500789\n",
      "Root Mean Squared Error: 2.5545099484400073\n",
      "Root Mean Squared Log Error: 1.5982834380797442\n",
      "R Squared: 0.06767080063147979\n",
      "TEMPERATURE  VS  SUNLIGHT\n",
      "Mean Absolute Error: 20.468987145092154\n",
      "Root Mean Squared Error: 1358.5215437081592\n",
      "Root Mean Squared Log Error: 36.85812724092421\n",
      "R Squared: 0.17641195972767332\n",
      "TEMPERATURE  VS  HUMIDITY\n",
      "Mean Absolute Error: 3.1046753044181528\n",
      "Root Mean Squared Error: 16.046257409619596\n",
      "Root Mean Squared Log Error: 4.005778003037562\n",
      "R Squared: 0.47759067931073473\n",
      "TEMPERATURE  VS  SOIL MOISTURE\n",
      "Mean Absolute Error: 1.658170997684453\n",
      "Root Mean Squared Error: 4.0242736672534924\n",
      "Root Mean Squared Log Error: 2.0060592382214173\n",
      "R Squared: 0.05901484320923611\n",
      "TEMPERATURE  VS  WATER LEVEL\n",
      "Mean Absolute Error: 166.67000438530377\n",
      "Root Mean Squared Error: 31745.512211703768\n",
      "Root Mean Squared Log Error: 178.17270332939265\n",
      "R Squared: 0.04224973948073041\n"
     ]
    }
   ],
   "source": [
    "print(labels[3],\" VS \",labels[0])\n",
    "X_train, X_test, y_train, y_test, regression, y_pred = linearRegression(parameter[3],parameter[0])\n",
    "print(labels[3],\" VS \",labels[1])\n",
    "X_train, X_test, y_train, y_test, regression, y_pred = linearRegression(parameter[3],parameter[1])\n",
    "print(labels[3],\" VS \",labels[2])\n",
    "X_train, X_test, y_train, y_test, regression, y_pred = linearRegression(parameter[3],parameter[2])\n",
    "print(labels[3],\" VS \",labels[4])\n",
    "X_train, X_test, y_train, y_test, regression, y_pred = linearRegression(parameter[3],parameter[4])\n",
    "print(labels[3],\" VS \",labels[5])\n",
    "X_train, X_test, y_train, y_test, regression, y_pred = linearRegression(parameter[3],parameter[5])"
   ]
  },
  {
   "cell_type": "code",
   "execution_count": 82,
   "metadata": {},
   "outputs": [
    {
     "name": "stdout",
     "output_type": "stream",
     "text": [
      "SOIL MOISTURE  VS  PH\n",
      "Mean Absolute Error: 0.9362141318588725\n",
      "Root Mean Squared Error: 1.6185568315888035\n",
      "Root Mean Squared Log Error: 1.2722251497234298\n",
      "R Squared: 0.11363131529901016\n",
      "SOIL MOISTURE  VS  SUNLIGHT\n",
      "Mean Absolute Error: 22.93005174091435\n",
      "Root Mean Squared Error: 1473.3583037557792\n",
      "Root Mean Squared Log Error: 38.38434972427928\n",
      "R Squared: -0.014076543418188647\n",
      "SOIL MOISTURE  VS  TEMPERATURE\n",
      "Mean Absolute Error: 3.6435042779557194\n",
      "Root Mean Squared Error: 24.410365468583898\n",
      "Root Mean Squared Log Error: 4.940684716573594\n",
      "R Squared: 0.015961655134814845\n",
      "SOIL MOISTURE  VS  HUMIDITY\n",
      "Mean Absolute Error: 1.1856691769000165\n",
      "Root Mean Squared Error: 3.0580755318624404\n",
      "Root Mean Squared Log Error: 1.7487354093351117\n",
      "R Squared: 0.05054020743593812\n",
      "SOIL MOISTURE  VS  WATER LEVEL\n",
      "Mean Absolute Error: 125.65663304913578\n",
      "Root Mean Squared Error: 22858.07146572839\n",
      "Root Mean Squared Log Error: 151.18886025672788\n",
      "R Squared: 0.2889472992652289\n"
     ]
    }
   ],
   "source": [
    "print(labels[4],\" VS \",labels[0])\n",
    "X_train, X_test, y_train, y_test, regression, y_pred = linearRegression(parameter[4],parameter[0])\n",
    "print(labels[4],\" VS \",labels[1])\n",
    "X_train, X_test, y_train, y_test, regression, y_pred = linearRegression(parameter[4],parameter[1])\n",
    "print(labels[4],\" VS \",labels[3])\n",
    "X_train, X_test, y_train, y_test, regression, y_pred = linearRegression(parameter[4],parameter[2])\n",
    "print(labels[4],\" VS \",labels[2])\n",
    "X_train, X_test, y_train, y_test, regression, y_pred = linearRegression(parameter[4],parameter[3])\n",
    "print(labels[4],\" VS \",labels[5])\n",
    "X_train, X_test, y_train, y_test, regression, y_pred = linearRegression(parameter[4],parameter[5])"
   ]
  },
  {
   "cell_type": "code",
   "execution_count": 83,
   "metadata": {},
   "outputs": [
    {
     "name": "stdout",
     "output_type": "stream",
     "text": [
      "WATER LEVEL  VS  PH\n",
      "Mean Absolute Error: 0.8506796978326924\n",
      "Root Mean Squared Error: 1.518691672251561\n",
      "Root Mean Squared Log Error: 1.2323520894012234\n",
      "R Squared: 0.2719852114958965\n",
      "WATER LEVEL  VS  SUNLIGHT\n",
      "Mean Absolute Error: 23.489173345028327\n",
      "Root Mean Squared Error: 1536.9107974338554\n",
      "Root Mean Squared Log Error: 39.20345389674047\n",
      "R Squared: 0.005627399077955175\n",
      "WATER LEVEL  VS  TEMPERATURE\n",
      "Mean Absolute Error: 3.8645709060661724\n",
      "Root Mean Squared Error: 28.3312341110403\n",
      "Root Mean Squared Log Error: 5.322709282972375\n",
      "R Squared: 0.03164100696598915\n",
      "WATER LEVEL  VS  SOIL MOISTURE\n",
      "Mean Absolute Error: 1.1859384664597454\n",
      "Root Mean Squared Error: 2.9169014319950137\n",
      "Root Mean Squared Log Error: 1.7078938585272252\n",
      "R Squared: 0.0823667540751134\n",
      "WATER LEVEL  VS  HUMIDITY\n",
      "Mean Absolute Error: 1.451691138993746\n",
      "Root Mean Squared Error: 3.3290777509535765\n",
      "Root Mean Squared Log Error: 1.8245760469088639\n",
      "R Squared: 0.30897970017503784\n"
     ]
    }
   ],
   "source": [
    "print(labels[5],\" VS \",labels[0])\n",
    "X_train, X_test, y_train, y_test, regression, y_pred = linearRegression(parameter[5],parameter[0])\n",
    "print(labels[5],\" VS \",labels[1])\n",
    "X_train, X_test, y_train, y_test, regression, y_pred = linearRegression(parameter[5],parameter[1])\n",
    "print(labels[5],\" VS \",labels[3])\n",
    "X_train, X_test, y_train, y_test, regression, y_pred = linearRegression(parameter[5],parameter[2])\n",
    "print(labels[5],\" VS \",labels[4])\n",
    "X_train, X_test, y_train, y_test, regression, y_pred = linearRegression(parameter[5],parameter[3])\n",
    "print(labels[5],\" VS \",labels[2])\n",
    "X_train, X_test, y_train, y_test, regression, y_pred = linearRegression(parameter[5],parameter[4])"
   ]
  }
 ],
 "metadata": {
  "interpreter": {
   "hash": "aee8b7b246df8f9039afb4144a1f6fd8d2ca17a180786b69acc140d282b71a49"
  },
  "kernelspec": {
   "display_name": "Python 3.10.0 64-bit",
   "language": "python",
   "name": "python3"
  },
  "language_info": {
   "codemirror_mode": {
    "name": "ipython",
    "version": 3
   },
   "file_extension": ".py",
   "mimetype": "text/x-python",
   "name": "python",
   "nbconvert_exporter": "python",
   "pygments_lexer": "ipython3",
   "version": "3.10.0"
  },
  "orig_nbformat": 4
 },
 "nbformat": 4,
 "nbformat_minor": 2
}
