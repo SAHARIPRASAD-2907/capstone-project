{
 "cells": [
  {
   "cell_type": "code",
   "execution_count": 1,
   "metadata": {},
   "outputs": [],
   "source": [
    "import pandas as pd\n",
    "from decisiontreeregression import decisionRegression"
   ]
  },
  {
   "cell_type": "markdown",
   "metadata": {},
   "source": [
    "### INITIAL PHASE"
   ]
  },
  {
   "cell_type": "code",
   "execution_count": 2,
   "metadata": {},
   "outputs": [],
   "source": [
    "# Importing dataset and parameters\n",
    "data = pd.read_csv('../datasets/day1_8.csv')\n",
    "ph_value = data.iloc[:,2].values.reshape(-1, 1)\n",
    "luminous_intensity = data.iloc[:,3].values.reshape(-1, 1)\n",
    "humidity = data.iloc[:,4].values.reshape(-1, 1)\n",
    "temperature= data.iloc[:,5].values.reshape(-1, 1)\n",
    "soil_moisture = data.iloc[:,6].values.reshape(-1, 1)\n",
    "water_level = data.iloc[:,7].values.reshape(-1, 1)\n",
    "labels = [\"PH\",\"SUNLIGHT\",\"HUMIDITY\",\"TEMPERATURE\",\"SOIL MOISTURE\",\"WATER LEVEL\"]\n",
    "parameter = [ph_value,luminous_intensity,humidity,temperature,soil_moisture,water_level]\n"
   ]
  },
  {
   "cell_type": "markdown",
   "metadata": {},
   "source": [
    "### PH VS PARAMETERS"
   ]
  },
  {
   "cell_type": "code",
   "execution_count": null,
   "metadata": {},
   "outputs": [],
   "source": [
    "print(labels[0],\" VS \",labels[1])\n",
    "X_train, X_test, y_train, y_test, regression, y_pred = decisionRegression(parameter[0],parameter[1].ravel())\n",
    "print(labels[0],\" VS \",labels[2])\n",
    "X_train, X_test, y_train, y_test, regression, y_pred = decisionRegression(parameter[0],parameter[2].ravel())\n",
    "print(labels[0],\" VS \",labels[3])\n",
    "X_train, X_test, y_train, y_test, regression, y_pred = decisionRegression(parameter[0],parameter[3].ravel())\n",
    "print(labels[0],\" VS \",labels[4])\n",
    "X_train, X_test, y_train, y_test, regression, y_pred = decisionRegression(parameter[0],parameter[4].ravel())\n",
    "print(labels[0],\" VS \",labels[5])\n",
    "X_train, X_test, y_train, y_test, regression, y_pred = decisionRegression(parameter[0],parameter[5].ravel())"
   ]
  },
  {
   "cell_type": "code",
   "execution_count": null,
   "metadata": {},
   "outputs": [],
   "source": [
    "print(labels[1],\" VS \",labels[0])\n",
    "X_train, X_test, y_train, y_test, regression, y_pred = svrRegression(parameter[1],parameter[0].ravel())\n",
    "print(labels[1],\" VS \",labels[2])\n",
    "X_train, X_test, y_train, y_test, regression, y_pred = svrRegression(parameter[1],parameter[2].ravel())\n",
    "print(labels[1],\" VS \",labels[3])\n",
    "X_train, X_test, y_train, y_test, regression, y_pred = svrRegression(parameter[1],parameter[3].ravel())\n",
    "print(labels[1],\" VS \",labels[4])\n",
    "X_train, X_test, y_train, y_test, regression, y_pred = svrRegression(parameter[1],parameter[4].ravel())\n",
    "print(labels[1],\" VS \",labels[5])\n",
    "X_train, X_test, y_train, y_test, regression, y_pred = svrRegression(parameter[1],parameter[4].ravel())"
   ]
  }
 ],
 "metadata": {
  "interpreter": {
   "hash": "aee8b7b246df8f9039afb4144a1f6fd8d2ca17a180786b69acc140d282b71a49"
  },
  "kernelspec": {
   "display_name": "Python 3.10.0 64-bit",
   "language": "python",
   "name": "python3"
  },
  "language_info": {
   "codemirror_mode": {
    "name": "ipython",
    "version": 3
   },
   "file_extension": ".py",
   "mimetype": "text/x-python",
   "name": "python",
   "nbconvert_exporter": "python",
   "pygments_lexer": "ipython3",
   "version": "3.10.0"
  },
  "orig_nbformat": 4
 },
 "nbformat": 4,
 "nbformat_minor": 2
}
