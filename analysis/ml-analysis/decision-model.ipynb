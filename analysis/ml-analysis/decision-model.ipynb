{
 "cells": [
  {
   "cell_type": "code",
   "execution_count": 14,
   "metadata": {},
   "outputs": [],
   "source": [
    "import pandas as pd\n",
    "from decisiontreeregression import decisionRegression"
   ]
  },
  {
   "cell_type": "code",
   "execution_count": 15,
   "metadata": {},
   "outputs": [],
   "source": [
    "def visTrainAndTest(X_train,y_train,X_test, y_test,regression,labels_1,labels_2):\n",
    "    visualisingResults(X_train,y_train,regression,labels_1,labels_2,\"Testing\")\n",
    "    visualisingResults(X_test, y_test,regression,labels_1,labels_2,\"Training\")"
   ]
  },
  {
   "cell_type": "markdown",
   "metadata": {},
   "source": [
    "# INITIAL PHASE"
   ]
  },
  {
   "cell_type": "code",
   "execution_count": 16,
   "metadata": {},
   "outputs": [],
   "source": [
    "# Importing dataset and parameters\n",
    "data = pd.read_csv('../datasets/day1_8.csv')\n",
    "ph_value = data.iloc[:,2].values.reshape(-1, 1)\n",
    "luminous_intensity = data.iloc[:,3].values.reshape(-1, 1)\n",
    "humidity = data.iloc[:,4].values.reshape(-1, 1)\n",
    "temperature= data.iloc[:,5].values.reshape(-1, 1)\n",
    "soil_moisture = data.iloc[:,6].values.reshape(-1, 1)\n",
    "water_level = data.iloc[:,7].values.reshape(-1, 1)\n",
    "labels = [\"PH\",\"SUNLIGHT\",\"HUMIDITY\",\"TEMPERATURE\",\"SOIL MOISTURE\",\"WATER LEVEL\"]\n",
    "parameter = [ph_value,luminous_intensity,humidity,temperature,soil_moisture,water_level]"
   ]
  },
  {
   "cell_type": "markdown",
   "metadata": {},
   "source": [
    "### PH VS PARAMETERS"
   ]
  },
  {
   "cell_type": "code",
   "execution_count": 17,
   "metadata": {},
   "outputs": [
    {
     "name": "stdout",
     "output_type": "stream",
     "text": [
      "PH  VS  SUNLIGHT\n",
      "Mean Absolute Error: 25.11796471114045\n",
      "Root Mean Squared Error: 1570.6860288806067\n",
      "Root Mean Squared Log Error: 39.631881470359275\n",
      "R Squared: -0.049368610975241145\n",
      "PH  VS  HUMIDITY\n",
      "Mean Absolute Error: 3.4989920656546927\n",
      "Root Mean Squared Error: 21.020818411733003\n",
      "Root Mean Squared Log Error: 4.584846607219592\n",
      "R Squared: -0.2626120438064814\n",
      "PH  VS  TEMPERATURE\n",
      "Mean Absolute Error: 1.085769932266692\n",
      "Root Mean Squared Error: 2.7040895231370414\n",
      "Root Mean Squared Log Error: 1.6444116039292114\n",
      "R Squared: -0.4155870737563865\n",
      "PH  VS  SOIL MOISTURE\n",
      "Mean Absolute Error: 0.9522654267669166\n",
      "Root Mean Squared Error: 1.3727872810943966\n",
      "Root Mean Squared Log Error: 1.1716600535541\n",
      "R Squared: -0.12890917209770691\n",
      "PH  VS  WATER LEVEL\n",
      "Mean Absolute Error: 11.33085284611247\n",
      "Root Mean Squared Error: 266.1136094478236\n",
      "Root Mean Squared Log Error: 16.312988979577703\n",
      "R Squared: -0.30356980954333324\n"
     ]
    }
   ],
   "source": [
    "print(labels[0],\" VS \",labels[1])\n",
    "X_train, X_test, y_train, y_test, regression, y_pred = decisionRegression(parameter[0],parameter[1].ravel())\n",
    "print(labels[0],\" VS \",labels[2])\n",
    "X_train, X_test, y_train, y_test, regression, y_pred = decisionRegression(parameter[0],parameter[2].ravel())\n",
    "print(labels[0],\" VS \",labels[3])\n",
    "X_train, X_test, y_train, y_test, regression, y_pred = decisionRegression(parameter[0],parameter[3].ravel())\n",
    "print(labels[0],\" VS \",labels[4])\n",
    "X_train, X_test, y_train, y_test, regression, y_pred = decisionRegression(parameter[0],parameter[4].ravel())\n",
    "print(labels[0],\" VS \",labels[5])\n",
    "X_train, X_test, y_train, y_test, regression, y_pred = decisionRegression(parameter[0],parameter[5].ravel())"
   ]
  },
  {
   "cell_type": "markdown",
   "metadata": {},
   "source": [
    "### SUNLIGHT VS PARAMETERS"
   ]
  },
  {
   "cell_type": "code",
   "execution_count": 18,
   "metadata": {},
   "outputs": [
    {
     "name": "stdout",
     "output_type": "stream",
     "text": [
      "SUNLIGHT  VS  PH\n",
      "Mean Absolute Error: 0.4213318108445228\n",
      "Root Mean Squared Error: 0.3293057115461619\n",
      "Root Mean Squared Log Error: 0.5738516459383574\n",
      "R Squared: -0.22781636916733894\n",
      "SUNLIGHT  VS  HUMIDITY\n",
      "Mean Absolute Error: 3.117303153531967\n",
      "Root Mean Squared Error: 16.693983878743083\n",
      "Root Mean Squared Log Error: 4.08582719638791\n",
      "R Squared: 0.21691005529430585\n",
      "SUNLIGHT  VS  TEMPERATURE\n",
      "Mean Absolute Error: 0.6375340572798199\n",
      "Root Mean Squared Error: 1.0289247151442373\n",
      "Root Mean Squared Log Error: 1.0143592633501393\n",
      "R Squared: 0.5450139056746008\n",
      "SUNLIGHT  VS  SOIL MOISTURE\n",
      "Mean Absolute Error: 1.1261325774037665\n",
      "Root Mean Squared Error: 2.2660930556541112\n",
      "Root Mean Squared Log Error: 1.505354793945305\n",
      "R Squared: -0.0655144600995452\n",
      "SUNLIGHT  VS  WATER LEVEL\n",
      "Mean Absolute Error: 0.9960244322532446\n",
      "Root Mean Squared Error: 1.5581348291512416\n",
      "Root Mean Squared Log Error: 1.248252710452191\n",
      "R Squared: -0.30350092292128594\n"
     ]
    }
   ],
   "source": [
    "print(labels[1],\" VS \",labels[0])\n",
    "X_train, X_test, y_train, y_test, regression, y_pred = decisionRegression(parameter[1],parameter[0].ravel())\n",
    "print(labels[1],\" VS \",labels[2])\n",
    "X_train, X_test, y_train, y_test, regression, y_pred = decisionRegression(parameter[1],parameter[2].ravel())\n",
    "print(labels[1],\" VS \",labels[3])\n",
    "X_train, X_test, y_train, y_test, regression, y_pred = decisionRegression(parameter[1],parameter[3].ravel())\n",
    "print(labels[1],\" VS \",labels[4])\n",
    "X_train, X_test, y_train, y_test, regression, y_pred = decisionRegression(parameter[1],parameter[4].ravel())\n",
    "print(labels[1],\" VS \",labels[5])\n",
    "X_train, X_test, y_train, y_test, regression, y_pred = decisionRegression(parameter[1],parameter[4].ravel())"
   ]
  },
  {
   "cell_type": "markdown",
   "metadata": {},
   "source": [
    "### HUMIDITY VS PARAMETERS"
   ]
  },
  {
   "cell_type": "code",
   "execution_count": 19,
   "metadata": {},
   "outputs": [
    {
     "name": "stdout",
     "output_type": "stream",
     "text": [
      "HUMIDITY  VS  PH\n",
      "Mean Absolute Error: 0.40864490852838303\n",
      "Root Mean Squared Error: 0.2929190341730776\n",
      "Root Mean Squared Log Error: 0.5412199499030663\n",
      "R Squared: -0.3658906395994954\n",
      "HUMIDITY  VS  SUNLIGHT\n",
      "Mean Absolute Error: 36.446152811407046\n",
      "Root Mean Squared Error: 4653.88639697059\n",
      "Root Mean Squared Log Error: 68.2193989783741\n",
      "R Squared: -0.30426537964368716\n",
      "HUMIDITY  VS  TEMPERATURE\n",
      "Mean Absolute Error: 0.9103490718321229\n",
      "Root Mean Squared Error: 1.4779456613436337\n",
      "Root Mean Squared Log Error: 1.215707884873514\n",
      "R Squared: 0.1747747097003267\n",
      "HUMIDITY  VS  SOIL MOISTURE\n",
      "Mean Absolute Error: 1.0399919289749797\n",
      "Root Mean Squared Error: 2.3041769476152067\n",
      "Root Mean Squared Log Error: 1.5179515630003504\n",
      "R Squared: -0.21652295220847595\n",
      "HUMIDITY  VS  WATER LEVEL\n",
      "Mean Absolute Error: 11.833131557707832\n",
      "Root Mean Squared Error: 332.319969541489\n",
      "Root Mean Squared Log Error: 18.22964534875786\n",
      "R Squared: -1.0522813090393566\n"
     ]
    }
   ],
   "source": [
    "print(labels[2],\" VS \",labels[0])\n",
    "X_train, X_test, y_train, y_test, regression, y_pred = decisionRegression(parameter[2],parameter[0].ravel())\n",
    "print(labels[2],\" VS \",labels[1])\n",
    "X_train, X_test, y_train, y_test, regression, y_pred = decisionRegression(parameter[2],parameter[1].ravel())\n",
    "print(labels[2],\" VS \",labels[3])\n",
    "X_train, X_test, y_train, y_test, regression, y_pred = decisionRegression(parameter[2],parameter[3].ravel())\n",
    "print(labels[2],\" VS \",labels[4])\n",
    "X_train, X_test, y_train, y_test, regression, y_pred = decisionRegression(parameter[2],parameter[4].ravel())\n",
    "print(labels[2],\" VS \",labels[5])\n",
    "X_train, X_test, y_train, y_test, regression, y_pred = decisionRegression(parameter[2],parameter[5].ravel())"
   ]
  },
  {
   "cell_type": "markdown",
   "metadata": {},
   "source": [
    "### TEMPERATURE VS PARAMETERS"
   ]
  },
  {
   "cell_type": "code",
   "execution_count": 20,
   "metadata": {},
   "outputs": [
    {
     "name": "stdout",
     "output_type": "stream",
     "text": [
      "TEMPERATURE  VS  PH\n",
      "Mean Absolute Error: 0.38960714785795775\n",
      "Root Mean Squared Error: 0.280390715787407\n",
      "Root Mean Squared Log Error: 0.5295193252256304\n",
      "R Squared: -0.0033046858325260775\n",
      "TEMPERATURE  VS  SUNLIGHT\n",
      "Mean Absolute Error: 23.802771923158257\n",
      "Root Mean Squared Error: 2150.4068185422348\n",
      "Root Mean Squared Log Error: 46.37247910714107\n",
      "R Squared: 0.32284799850834134\n",
      "TEMPERATURE  VS  HUMIDITY\n",
      "Mean Absolute Error: 2.9036595631299025\n",
      "Root Mean Squared Error: 11.880026551232108\n",
      "Root Mean Squared Log Error: 3.4467414395675386\n",
      "R Squared: 0.4103655625045126\n",
      "TEMPERATURE  VS  SOIL MOISTURE\n",
      "Mean Absolute Error: 1.1320177980322537\n",
      "Root Mean Squared Error: 1.858697568095818\n",
      "Root Mean Squared Log Error: 1.3633405913768644\n",
      "R Squared: -0.4339024288418287\n",
      "TEMPERATURE  VS  WATER LEVEL\n",
      "Mean Absolute Error: 8.271283190409862\n",
      "Root Mean Squared Error: 122.69173006471524\n",
      "Root Mean Squared Log Error: 11.076629905558606\n",
      "R Squared: 0.3032381798029349\n"
     ]
    }
   ],
   "source": [
    "print(labels[3],\" VS \",labels[0])\n",
    "X_train, X_test, y_train, y_test, regression, y_pred = decisionRegression(parameter[3],parameter[0].ravel())\n",
    "print(labels[3],\" VS \",labels[1])\n",
    "X_train, X_test, y_train, y_test, regression, y_pred = decisionRegression(parameter[3],parameter[1].ravel())\n",
    "print(labels[3],\" VS \",labels[2])\n",
    "X_train, X_test, y_train, y_test, regression, y_pred = decisionRegression(parameter[3],parameter[2].ravel())\n",
    "print(labels[3],\" VS \",labels[4])\n",
    "X_train, X_test, y_train, y_test, regression, y_pred = decisionRegression(parameter[3],parameter[4].ravel())\n",
    "print(labels[3],\" VS \",labels[5])\n",
    "X_train, X_test, y_train, y_test, regression, y_pred = decisionRegression(parameter[3],parameter[5].ravel())"
   ]
  },
  {
   "cell_type": "code",
   "execution_count": null,
   "metadata": {},
   "outputs": [],
   "source": []
  },
  {
   "cell_type": "code",
   "execution_count": null,
   "metadata": {},
   "outputs": [],
   "source": []
  },
  {
   "cell_type": "markdown",
   "metadata": {},
   "source": [
    "### SOIL MOISTURE VS PARAMETERS"
   ]
  },
  {
   "cell_type": "code",
   "execution_count": 21,
   "metadata": {},
   "outputs": [
    {
     "name": "stdout",
     "output_type": "stream",
     "text": [
      "SOIL MOISTURE  VS  PH\n",
      "Mean Absolute Error: 0.4068576370612112\n",
      "Root Mean Squared Error: 0.2942350111317106\n",
      "Root Mean Squared Log Error: 0.5424343380831551\n",
      "R Squared: -0.016003461713070877\n",
      "SOIL MOISTURE  VS  SUNLIGHT\n",
      "Mean Absolute Error: 28.448817098887723\n",
      "Root Mean Squared Error: 2407.9137268102186\n",
      "Root Mean Squared Log Error: 49.070497519489436\n",
      "R Squared: -0.005579028906723016\n",
      "SOIL MOISTURE  VS  HUMIDITY\n",
      "Mean Absolute Error: 3.018874251963515\n",
      "Root Mean Squared Error: 16.757901690280224\n",
      "Root Mean Squared Log Error: 4.093641617225453\n",
      "R Squared: -0.020151565028220908\n",
      "SOIL MOISTURE  VS  TEMPERATURE\n",
      "Mean Absolute Error: 0.7735790287998877\n",
      "Root Mean Squared Error: 1.1042722277720032\n",
      "Root Mean Squared Log Error: 1.0508435791172743\n",
      "R Squared: -0.0059691585674108705\n",
      "SOIL MOISTURE  VS  WATER LEVEL\n",
      "Mean Absolute Error: 11.34134317418279\n",
      "Root Mean Squared Error: 217.46526455270623\n",
      "Root Mean Squared Log Error: 14.74670351477598\n",
      "R Squared: -0.20587133901381005\n"
     ]
    }
   ],
   "source": [
    "print(labels[4],\" VS \",labels[0])\n",
    "X_train, X_test, y_train, y_test, regression, y_pred = decisionRegression(parameter[4],parameter[0].ravel())\n",
    "print(labels[4],\" VS \",labels[1])\n",
    "X_train, X_test, y_train, y_test, regression, y_pred = decisionRegression(parameter[4],parameter[1].ravel())\n",
    "print(labels[4],\" VS \",labels[2])\n",
    "X_train, X_test, y_train, y_test, regression, y_pred = decisionRegression(parameter[4],parameter[2].ravel())\n",
    "print(labels[4],\" VS \",labels[3])\n",
    "X_train, X_test, y_train, y_test, regression, y_pred = decisionRegression(parameter[4],parameter[3].ravel())\n",
    "print(labels[4],\" VS \",labels[5])\n",
    "X_train, X_test, y_train, y_test, regression, y_pred = decisionRegression(parameter[4],parameter[5].ravel())"
   ]
  },
  {
   "cell_type": "code",
   "execution_count": null,
   "metadata": {},
   "outputs": [],
   "source": []
  },
  {
   "cell_type": "markdown",
   "metadata": {},
   "source": [
    "### WATERLEVEL VS PARAMATERS"
   ]
  },
  {
   "cell_type": "code",
   "execution_count": 22,
   "metadata": {},
   "outputs": [
    {
     "name": "stdout",
     "output_type": "stream",
     "text": [
      "WATER LEVEL  VS  PH\n",
      "Mean Absolute Error: 0.33484890455873556\n",
      "Root Mean Squared Error: 0.21835179807446786\n",
      "Root Mean Squared Log Error: 0.4672812836766179\n",
      "R Squared: -0.12988317511753733\n",
      "WATER LEVEL  VS  SUNLIGHT\n",
      "Mean Absolute Error: 21.031200174181013\n",
      "Root Mean Squared Error: 1526.9323859641859\n",
      "Root Mean Squared Log Error: 39.07598221368448\n",
      "R Squared: 0.24022912324893064\n",
      "WATER LEVEL  VS  HUMIDITY\n",
      "Mean Absolute Error: 3.3232282969221063\n",
      "Root Mean Squared Error: 18.834868571461357\n",
      "Root Mean Squared Log Error: 4.339915733221252\n",
      "R Squared: 0.05843756050114357\n",
      "WATER LEVEL  VS  TEMPERATURE\n",
      "Mean Absolute Error: 0.9197396718159433\n",
      "Root Mean Squared Error: 2.2518227702406617\n",
      "Root Mean Squared Log Error: 1.5006074670748049\n",
      "R Squared: 0.007233666990334786\n",
      "WATER LEVEL  VS  SOIL MOISTURE\n",
      "Mean Absolute Error: 1.0835866913342387\n",
      "Root Mean Squared Error: 1.879025639429577\n",
      "Root Mean Squared Log Error: 1.3707755612898769\n",
      "R Squared: -0.5531940043584103\n"
     ]
    }
   ],
   "source": [
    "print(labels[5],\" VS \",labels[0])\n",
    "X_train, X_test, y_train, y_test, regression, y_pred = decisionRegression(parameter[5],parameter[0].ravel())\n",
    "print(labels[5],\" VS \",labels[1])\n",
    "X_train, X_test, y_train, y_test, regression, y_pred = decisionRegression(parameter[5],parameter[1].ravel())\n",
    "print(labels[5],\" VS \",labels[2])\n",
    "X_train, X_test, y_train, y_test, regression, y_pred = decisionRegression(parameter[5],parameter[2].ravel())\n",
    "print(labels[5],\" VS \",labels[3])\n",
    "X_train, X_test, y_train, y_test, regression, y_pred = decisionRegression(parameter[5],parameter[3].ravel())\n",
    "print(labels[5],\" VS \",labels[4])\n",
    "X_train, X_test, y_train, y_test, regression, y_pred = decisionRegression(parameter[5],parameter[4].ravel())"
   ]
  },
  {
   "cell_type": "markdown",
   "metadata": {},
   "source": [
    "# GROWING PHASE"
   ]
  },
  {
   "cell_type": "code",
   "execution_count": 23,
   "metadata": {},
   "outputs": [],
   "source": [
    "# Importing dataset and parameters\n",
    "data = pd.read_csv('../datasets/day9-22.csv')\n",
    "ph_value = data.iloc[:,2].values.reshape(-1, 1)\n",
    "luminous_intensity = data.iloc[:,3].values.reshape(-1, 1)\n",
    "humidity = data.iloc[:,4].values.reshape(-1, 1)\n",
    "temperature = data.iloc[:,5].values.reshape(-1, 1)\n",
    "soil_moisture = data.iloc[:,6].values.reshape(-1, 1)\n",
    "water_level = data.iloc[:,7].values.reshape(-1, 1)\n",
    "labels = [\"PH\",\"SUNLIGHT\",\"HUMIDITY\",\"TEMPERATURE\",\"SOIL MOISTURE\",\"WATER LEVEL\"]\n",
    "parameter = [ph_value,luminous_intensity,humidity,temperature,soil_moisture,water_level]"
   ]
  },
  {
   "cell_type": "markdown",
   "metadata": {},
   "source": [
    "### PH VS PARAMETERS"
   ]
  },
  {
   "cell_type": "code",
   "execution_count": 24,
   "metadata": {},
   "outputs": [
    {
     "name": "stdout",
     "output_type": "stream",
     "text": [
      "PH  VS  SUNLIGHT\n",
      "Mean Absolute Error: 23.487868916797492\n",
      "Root Mean Squared Error: 1556.3307156103524\n",
      "Root Mean Squared Log Error: 39.450357610677656\n",
      "R Squared: -0.1337024745882538\n",
      "PH  VS  HUMIDITY\n",
      "Mean Absolute Error: 4.444030484877306\n",
      "Root Mean Squared Error: 33.51816789848852\n",
      "Root Mean Squared Log Error: 5.789487706048655\n",
      "R Squared: -0.06623840221760657\n",
      "PH  VS  TEMPERATURE\n",
      "Mean Absolute Error: 1.067678142415925\n",
      "Root Mean Squared Error: 2.294796349886865\n",
      "Root Mean Squared Log Error: 1.5148585247101014\n",
      "R Squared: 0.05556497987569797\n",
      "PH  VS  SOIL MOISTURE\n",
      "Mean Absolute Error: 1.6627690669119233\n",
      "Root Mean Squared Error: 4.845701336545422\n",
      "Root Mean Squared Log Error: 2.201295376941818\n",
      "R Squared: 0.01731607533464352\n",
      "PH  VS  WATER LEVEL\n",
      "Mean Absolute Error: 86.23962614843916\n",
      "Root Mean Squared Error: 14214.923681986502\n",
      "Root Mean Squared Log Error: 119.22635481296281\n",
      "R Squared: 0.4228451524551179\n"
     ]
    }
   ],
   "source": [
    "print(labels[0],\" VS \",labels[1])\n",
    "X_train, X_test, y_train, y_test, regression, y_pred = decisionRegression(parameter[0],parameter[1].ravel())\n",
    "print(labels[0],\" VS \",labels[2])\n",
    "X_train, X_test, y_train, y_test, regression, y_pred = decisionRegression(parameter[0],parameter[2].ravel())\n",
    "print(labels[0],\" VS \",labels[3])\n",
    "X_train, X_test, y_train, y_test, regression, y_pred = decisionRegression(parameter[0],parameter[3].ravel())\n",
    "print(labels[0],\" VS \",labels[4])\n",
    "X_train, X_test, y_train, y_test, regression, y_pred = decisionRegression(parameter[0],parameter[4].ravel())\n",
    "print(labels[0],\" VS \",labels[5])\n",
    "X_train, X_test, y_train, y_test, regression, y_pred = decisionRegression(parameter[0],parameter[5].ravel())"
   ]
  },
  {
   "cell_type": "markdown",
   "metadata": {},
   "source": []
  },
  {
   "cell_type": "markdown",
   "metadata": {},
   "source": [
    "### SUNLIGHT VS PARAMETERS"
   ]
  },
  {
   "cell_type": "code",
   "execution_count": 25,
   "metadata": {},
   "outputs": [
    {
     "name": "stdout",
     "output_type": "stream",
     "text": [
      "SUNLIGHT  VS  PH\n",
      "Mean Absolute Error: 1.2105778152621476\n",
      "Root Mean Squared Error: 5.287381172212383\n",
      "Root Mean Squared Log Error: 2.299430619134307\n",
      "R Squared: -0.220711966711292\n",
      "SUNLIGHT  VS  HUMIDITY\n",
      "Mean Absolute Error: 3.764708164157577\n",
      "Root Mean Squared Error: 24.775908083607284\n",
      "Root Mean Squared Log Error: 4.977540364839575\n",
      "R Squared: 0.10223841048573201\n",
      "SUNLIGHT  VS  TEMPERATURE\n",
      "Mean Absolute Error: 0.9029542459874389\n",
      "Root Mean Squared Error: 2.0367519310348894\n",
      "Root Mean Squared Log Error: 1.4271481811763238\n",
      "R Squared: 0.39709538184046367\n",
      "SUNLIGHT  VS  SOIL MOISTURE\n",
      "Mean Absolute Error: 1.8522387460529017\n",
      "Root Mean Squared Error: 5.100537755079191\n",
      "Root Mean Squared Log Error: 2.258437015964623\n",
      "R Squared: -0.12675871240647552\n",
      "SUNLIGHT  VS  WATER LEVEL\n",
      "Mean Absolute Error: 140.63045679355204\n",
      "Root Mean Squared Error: 28070.5856449168\n",
      "Root Mean Squared Log Error: 167.5427875049141\n",
      "R Squared: -0.13187781073505067\n"
     ]
    }
   ],
   "source": [
    "print(labels[1],\" VS \",labels[0])\n",
    "X_train, X_test, y_train, y_test, regression, y_pred = decisionRegression(parameter[1],parameter[0].ravel())\n",
    "print(labels[1],\" VS \",labels[2])\n",
    "X_train, X_test, y_train, y_test, regression, y_pred = decisionRegression(parameter[1],parameter[2].ravel())\n",
    "print(labels[1],\" VS \",labels[3])\n",
    "X_train, X_test, y_train, y_test, regression, y_pred = decisionRegression(parameter[1],parameter[3].ravel())\n",
    "print(labels[1],\" VS \",labels[4])\n",
    "X_train, X_test, y_train, y_test, regression, y_pred = decisionRegression(parameter[1],parameter[4].ravel())\n",
    "print(labels[1],\" VS \",labels[5])\n",
    "X_train, X_test, y_train, y_test, regression, y_pred = decisionRegression(parameter[1],parameter[5].ravel())"
   ]
  },
  {
   "cell_type": "code",
   "execution_count": null,
   "metadata": {},
   "outputs": [],
   "source": []
  },
  {
   "cell_type": "markdown",
   "metadata": {},
   "source": [
    "### TEMPERATURE VS PARAMETERS"
   ]
  },
  {
   "cell_type": "code",
   "execution_count": 26,
   "metadata": {},
   "outputs": [
    {
     "name": "stdout",
     "output_type": "stream",
     "text": [
      "HUMIDITY  VS  PH\n",
      "Mean Absolute Error: 1.0858467412217412\n",
      "Root Mean Squared Error: 2.4751120880176463\n",
      "Root Mean Squared Log Error: 1.5732488957624111\n",
      "R Squared: -0.264373983885142\n",
      "HUMIDITY  VS  SUNLIGHT\n",
      "Mean Absolute Error: 19.749665823594395\n",
      "Root Mean Squared Error: 1059.7104780097452\n",
      "Root Mean Squared Log Error: 32.553194589928424\n",
      "R Squared: -0.27865647971691887\n",
      "HUMIDITY  VS  TEMPERATURE\n",
      "Mean Absolute Error: 0.910764034906892\n",
      "Root Mean Squared Error: 1.5692278999378697\n",
      "Root Mean Squared Log Error: 1.2526882692585053\n",
      "R Squared: 0.4387403925919805\n",
      "HUMIDITY  VS  SOIL MOISTURE\n",
      "Mean Absolute Error: 1.8166425505711241\n",
      "Root Mean Squared Error: 5.153498991465802\n",
      "Root Mean Squared Log Error: 2.270131932612244\n",
      "R Squared: -0.4041017016059576\n",
      "HUMIDITY  VS  WATER LEVEL\n",
      "Mean Absolute Error: 142.94461344211345\n",
      "Root Mean Squared Error: 32162.228158843223\n",
      "Root Mean Squared Log Error: 179.3383064457876\n",
      "R Squared: -0.16148412221048702\n"
     ]
    }
   ],
   "source": [
    "print(labels[2],\" VS \",labels[0])\n",
    "X_train, X_test, y_train, y_test, regression, y_pred = decisionRegression(parameter[2],parameter[0].ravel())\n",
    "print(labels[2],\" VS \",labels[1])\n",
    "X_train, X_test, y_train, y_test, regression, y_pred = decisionRegression(parameter[2],parameter[1].ravel())\n",
    "print(labels[2],\" VS \",labels[3])\n",
    "X_train, X_test, y_train, y_test, regression, y_pred = decisionRegression(parameter[2],parameter[3].ravel())\n",
    "print(labels[2],\" VS \",labels[4])\n",
    "X_train, X_test, y_train, y_test, regression, y_pred = decisionRegression(parameter[2],parameter[4].ravel())\n",
    "print(labels[2],\" VS \",labels[5])\n",
    "X_train, X_test, y_train, y_test, regression, y_pred = decisionRegression(parameter[2],parameter[5].ravel())"
   ]
  },
  {
   "cell_type": "markdown",
   "metadata": {},
   "source": [
    "### HUMIDITY VS PARAMETERS"
   ]
  },
  {
   "cell_type": "code",
   "execution_count": 27,
   "metadata": {},
   "outputs": [
    {
     "name": "stdout",
     "output_type": "stream",
     "text": [
      "TEMPERATURE  VS  PH\n",
      "Mean Absolute Error: 0.9474995170145922\n",
      "Root Mean Squared Error: 1.7232248255634182\n",
      "Root Mean Squared Log Error: 1.3127165823449547\n",
      "R Squared: -0.14254809626309517\n",
      "TEMPERATURE  VS  SUNLIGHT\n",
      "Mean Absolute Error: 15.279351749958115\n",
      "Root Mean Squared Error: 791.163404297066\n",
      "Root Mean Squared Log Error: 28.127627064810603\n",
      "R Squared: 0.2953133735644008\n",
      "TEMPERATURE  VS  HUMIDITY\n",
      "Mean Absolute Error: 2.5128171690890277\n",
      "Root Mean Squared Error: 11.047939435843618\n",
      "Root Mean Squared Log Error: 3.3238440751400504\n",
      "R Squared: 0.47503257044980507\n",
      "TEMPERATURE  VS  SOIL MOISTURE\n",
      "Mean Absolute Error: 1.7751291942297756\n",
      "Root Mean Squared Error: 4.988476148555964\n",
      "Root Mean Squared Log Error: 2.2334896795275245\n",
      "R Squared: -0.10590877999295212\n",
      "TEMPERATURE  VS  WATER LEVEL\n",
      "Mean Absolute Error: 134.80253731993457\n",
      "Root Mean Squared Error: 25756.832314822343\n",
      "Root Mean Squared Log Error: 160.48935265251194\n",
      "R Squared: -0.010562317217914563\n"
     ]
    }
   ],
   "source": [
    "print(labels[3],\" VS \",labels[0])\n",
    "X_train, X_test, y_train, y_test, regression, y_pred = decisionRegression(parameter[3],parameter[0].ravel())\n",
    "print(labels[3],\" VS \",labels[1])\n",
    "X_train, X_test, y_train, y_test, regression, y_pred = decisionRegression(parameter[3],parameter[1].ravel())\n",
    "print(labels[3],\" VS \",labels[2])\n",
    "X_train, X_test, y_train, y_test, regression, y_pred = decisionRegression(parameter[3],parameter[2].ravel())\n",
    "print(labels[3],\" VS \",labels[4])\n",
    "X_train, X_test, y_train, y_test, regression, y_pred = decisionRegression(parameter[3],parameter[4].ravel())\n",
    "print(labels[3],\" VS \",labels[5])\n",
    "X_train, X_test, y_train, y_test, regression, y_pred = decisionRegression(parameter[3],parameter[5].ravel())"
   ]
  },
  {
   "cell_type": "markdown",
   "metadata": {},
   "source": [
    "### SOILMOISTURE VS PARAMETERS"
   ]
  },
  {
   "cell_type": "code",
   "execution_count": 28,
   "metadata": {},
   "outputs": [
    {
     "name": "stdout",
     "output_type": "stream",
     "text": [
      "SOIL MOISTURE  VS  PH\n",
      "Mean Absolute Error: 1.0263253975519666\n",
      "Root Mean Squared Error: 4.360589285589904\n",
      "Root Mean Squared Log Error: 2.0882024053213577\n",
      "R Squared: -0.008281290933472851\n",
      "SOIL MOISTURE  VS  SUNLIGHT\n",
      "Mean Absolute Error: 21.632961950982306\n",
      "Root Mean Squared Error: 1319.7133465540812\n",
      "Root Mean Squared Log Error: 36.327859096760456\n",
      "R Squared: -0.028461802729185637\n",
      "SOIL MOISTURE  VS  HUMIDITY\n",
      "Mean Absolute Error: 3.2857442633569938\n",
      "Root Mean Squared Error: 19.059037623841764\n",
      "Root Mean Squared Log Error: 4.365665770972598\n",
      "R Squared: -0.00238347918190307\n",
      "SOIL MOISTURE  VS  TEMPERATURE\n",
      "Mean Absolute Error: 1.0633073112540772\n",
      "Root Mean Squared Error: 2.2316659694398164\n",
      "Root Mean Squared Log Error: 1.4938761559914584\n",
      "R Squared: 0.01326001478964045\n",
      "SOIL MOISTURE  VS  WATER LEVEL\n",
      "Mean Absolute Error: 121.68566567606425\n",
      "Root Mean Squared Error: 22438.581442984112\n",
      "Root Mean Squared Log Error: 149.79513157303916\n",
      "R Squared: 0.1508188663988339\n"
     ]
    }
   ],
   "source": [
    "print(labels[4],\" VS \",labels[0])\n",
    "X_train, X_test, y_train, y_test, regression, y_pred = decisionRegression(parameter[4],parameter[0].ravel())\n",
    "print(labels[4],\" VS \",labels[1])\n",
    "X_train, X_test, y_train, y_test, regression, y_pred = decisionRegression(parameter[4],parameter[1].ravel())\n",
    "print(labels[4],\" VS \",labels[2])\n",
    "X_train, X_test, y_train, y_test, regression, y_pred = decisionRegression(parameter[4],parameter[2].ravel())\n",
    "print(labels[4],\" VS \",labels[3])\n",
    "X_train, X_test, y_train, y_test, regression, y_pred = decisionRegression(parameter[4],parameter[3].ravel())\n",
    "print(labels[4],\" VS \",labels[5])\n",
    "X_train, X_test, y_train, y_test, regression, y_pred = decisionRegression(parameter[4],parameter[5].ravel())"
   ]
  },
  {
   "cell_type": "markdown",
   "metadata": {},
   "source": [
    "### WATERLEVEL VS PARAMATERS"
   ]
  },
  {
   "cell_type": "code",
   "execution_count": 29,
   "metadata": {},
   "outputs": [
    {
     "name": "stdout",
     "output_type": "stream",
     "text": [
      "WATER LEVEL  VS  PH\n",
      "Mean Absolute Error: 0.6987660946196661\n",
      "Root Mean Squared Error: 1.3718462374768519\n",
      "Root Mean Squared Log Error: 1.1712583991062142\n",
      "R Squared: 0.049970171146109243\n",
      "WATER LEVEL  VS  SUNLIGHT\n",
      "Mean Absolute Error: 22.549738713667285\n",
      "Root Mean Squared Error: 1676.6255394445493\n",
      "Root Mean Squared Log Error: 40.946618168592984\n",
      "R Squared: -0.2613872636886696\n",
      "WATER LEVEL  VS  HUMIDITY\n",
      "Mean Absolute Error: 3.0632322994465855\n",
      "Root Mean Squared Error: 20.04412811689525\n",
      "Root Mean Squared Log Error: 4.477066910031081\n",
      "R Squared: 0.20239688773317144\n",
      "WATER LEVEL  VS  TEMPERATURE\n",
      "Mean Absolute Error: 1.067197482411768\n",
      "Root Mean Squared Error: 3.0071603332414334\n",
      "Root Mean Squared Log Error: 1.7341165858273293\n",
      "R Squared: 0.09765055947213253\n",
      "WATER LEVEL  VS  SOIL MOISTURE\n",
      "Mean Absolute Error: 1.528490860990863\n",
      "Root Mean Squared Error: 3.818453369632215\n",
      "Root Mean Squared Log Error: 1.9540863260440198\n",
      "R Squared: 0.07235872174263769\n"
     ]
    }
   ],
   "source": [
    "print(labels[5],\" VS \",labels[0])\n",
    "X_train, X_test, y_train, y_test, regression, y_pred = decisionRegression(parameter[5],parameter[0].ravel())\n",
    "print(labels[5],\" VS \",labels[1])\n",
    "X_train, X_test, y_train, y_test, regression, y_pred = decisionRegression(parameter[5],parameter[1].ravel())\n",
    "print(labels[5],\" VS \",labels[2])\n",
    "X_train, X_test, y_train, y_test, regression, y_pred = decisionRegression(parameter[5],parameter[2].ravel())\n",
    "print(labels[5],\" VS \",labels[3])\n",
    "X_train, X_test, y_train, y_test, regression, y_pred = decisionRegression(parameter[5],parameter[3].ravel())\n",
    "print(labels[5],\" VS \",labels[4])\n",
    "X_train, X_test, y_train, y_test, regression, y_pred = decisionRegression(parameter[5],parameter[4].ravel())"
   ]
  },
  {
   "cell_type": "markdown",
   "metadata": {},
   "source": [
    "# HARVESTING PHASE"
   ]
  },
  {
   "cell_type": "code",
   "execution_count": 30,
   "metadata": {},
   "outputs": [],
   "source": [
    "# Importing dataset and parameters\n",
    "data = pd.read_csv('../datasets/day23-27.csv')\n",
    "ph_value = data.iloc[:,2].values.reshape(-1, 1)\n",
    "luminous_intensity = data.iloc[:,3].values.reshape(-1, 1)\n",
    "humidity = data.iloc[:,4].values.reshape(-1, 1)\n",
    "temperature = data.iloc[:,5].values.reshape(-1, 1)\n",
    "soil_moisture = data.iloc[:,6].values.reshape(-1, 1)\n",
    "water_level = data.iloc[:,7].values.reshape(-1, 1)\n",
    "labels = [\"PH\",\"SUNLIGHT\",\"HUMIDITY\",\"TEMPERATURE\",\"SOIL MOISTURE\",\"WATER LEVEL\"]\n",
    "parameter = [ph_value,luminous_intensity,humidity,temperature,soil_moisture,water_level]"
   ]
  },
  {
   "cell_type": "markdown",
   "metadata": {},
   "source": [
    "### PH VS PARAMETERS"
   ]
  },
  {
   "cell_type": "code",
   "execution_count": 31,
   "metadata": {},
   "outputs": [
    {
     "name": "stdout",
     "output_type": "stream",
     "text": [
      "PH  VS  SUNLIGHT\n",
      "Mean Absolute Error: 22.73227513227513\n",
      "Root Mean Squared Error: 2045.7616578483246\n",
      "Root Mean Squared Log Error: 45.23009681449206\n",
      "R Squared: -0.07080283031956225\n",
      "PH  VS  HUMIDITY\n",
      "Mean Absolute Error: 4.569848828420258\n",
      "Root Mean Squared Error: 45.141352132599074\n",
      "Root Mean Squared Log Error: 6.718731437749174\n",
      "R Squared: -0.43990871091586836\n",
      "PH  VS  TEMPERATURE\n",
      "Mean Absolute Error: 0.8828835978835979\n",
      "Root Mean Squared Error: 2.502021560846561\n",
      "Root Mean Squared Log Error: 1.5817779745737266\n",
      "R Squared: -0.22555481199277305\n",
      "PH  VS  SOIL MOISTURE\n",
      "Mean Absolute Error: 1.471957671957674\n",
      "Root Mean Squared Error: 4.134594356261028\n",
      "Root Mean Squared Log Error: 2.0333701965606332\n",
      "R Squared: -0.879318025652774\n",
      "PH  VS  WATER LEVEL\n",
      "Mean Absolute Error: 83.55880574452003\n",
      "Root Mean Squared Error: 18340.295790231434\n",
      "Root Mean Squared Log Error: 135.42634821271463\n",
      "R Squared: -0.06935030030378164\n"
     ]
    }
   ],
   "source": [
    "print(labels[0],\" VS \",labels[1])\n",
    "X_train, X_test, y_train, y_test, regression, y_pred = decisionRegression(parameter[0],parameter[1].ravel())\n",
    "print(labels[0],\" VS \",labels[2])\n",
    "X_train, X_test, y_train, y_test, regression, y_pred = decisionRegression(parameter[0],parameter[2].ravel())\n",
    "print(labels[0],\" VS \",labels[3])\n",
    "X_train, X_test, y_train, y_test, regression, y_pred = decisionRegression(parameter[0],parameter[3].ravel())\n",
    "print(labels[0],\" VS \",labels[4])\n",
    "X_train, X_test, y_train, y_test, regression, y_pred = decisionRegression(parameter[0],parameter[4].ravel())\n",
    "print(labels[0],\" VS \",labels[5])\n",
    "X_train, X_test, y_train, y_test, regression, y_pred = decisionRegression(parameter[0],parameter[5].ravel())"
   ]
  },
  {
   "cell_type": "markdown",
   "metadata": {},
   "source": [
    "### SUNLIGHT VS PARAMETERS"
   ]
  },
  {
   "cell_type": "code",
   "execution_count": 32,
   "metadata": {},
   "outputs": [
    {
     "name": "stdout",
     "output_type": "stream",
     "text": [
      "SUNLIGHT  VS  PH\n",
      "Mean Absolute Error: 1.1460903250188967\n",
      "Root Mean Squared Error: 2.7436484916485706\n",
      "Root Mean Squared Log Error: 1.6563962363059663\n",
      "R Squared: -0.026122937099986476\n",
      "SUNLIGHT  VS  HUMIDITY\n",
      "Mean Absolute Error: 3.395175908747339\n",
      "Root Mean Squared Error: 21.55403469801645\n",
      "Root Mean Squared Log Error: 4.642632302693856\n",
      "R Squared: 0.4142817079936375\n",
      "SUNLIGHT  VS  TEMPERATURE\n",
      "Mean Absolute Error: 0.6377456538170819\n",
      "Root Mean Squared Error: 1.3073894955998258\n",
      "Root Mean Squared Log Error: 1.1434113413814933\n",
      "R Squared: 0.4988837300809361\n",
      "SUNLIGHT  VS  SOIL MOISTURE\n",
      "Mean Absolute Error: 1.5740097204382866\n",
      "Root Mean Squared Error: 3.838407508144751\n",
      "Root Mean Squared Log Error: 1.9591854195416907\n",
      "R Squared: -0.4531323349700984\n",
      "SUNLIGHT  VS  WATER LEVEL\n",
      "Mean Absolute Error: 129.51403147117432\n",
      "Root Mean Squared Error: 25884.244458275436\n",
      "Root Mean Squared Log Error: 160.88581186131807\n",
      "R Squared: -0.43678784062015485\n"
     ]
    }
   ],
   "source": [
    "print(labels[1],\" VS \",labels[0])\n",
    "X_train, X_test, y_train, y_test, regression, y_pred = decisionRegression(parameter[1],parameter[0].ravel())\n",
    "print(labels[1],\" VS \",labels[2])\n",
    "X_train, X_test, y_train, y_test, regression, y_pred = decisionRegression(parameter[1],parameter[2].ravel())\n",
    "print(labels[1],\" VS \",labels[3])\n",
    "X_train, X_test, y_train, y_test, regression, y_pred = decisionRegression(parameter[1],parameter[3].ravel())\n",
    "print(labels[1],\" VS \",labels[4])\n",
    "X_train, X_test, y_train, y_test, regression, y_pred = decisionRegression(parameter[1],parameter[4].ravel())\n",
    "print(labels[1],\" VS \",labels[5])\n",
    "X_train, X_test, y_train, y_test, regression, y_pred = decisionRegression(parameter[1],parameter[5].ravel())"
   ]
  },
  {
   "cell_type": "markdown",
   "metadata": {},
   "source": [
    "### HUMIDITY VS PARAMETERS"
   ]
  },
  {
   "cell_type": "code",
   "execution_count": 33,
   "metadata": {},
   "outputs": [
    {
     "name": "stdout",
     "output_type": "stream",
     "text": [
      "HUMIDITY  VS  PH\n",
      "Mean Absolute Error: 1.062777777777778\n",
      "Root Mean Squared Error: 2.1860293209876547\n",
      "Root Mean Squared Log Error: 1.4785226819320882\n",
      "R Squared: -0.7247905923191875\n",
      "HUMIDITY  VS  SUNLIGHT\n",
      "Mean Absolute Error: 15.928571428571429\n",
      "Root Mean Squared Error: 505.1607142857143\n",
      "Root Mean Squared Log Error: 22.475780615714203\n",
      "R Squared: 0.5912640923355552\n",
      "HUMIDITY  VS  TEMPERATURE\n",
      "Mean Absolute Error: 0.8415343915343915\n",
      "Root Mean Squared Error: 2.2069290123456784\n",
      "Root Mean Squared Log Error: 1.4855736307385368\n",
      "R Squared: -0.26264202252179536\n",
      "HUMIDITY  VS  SOIL MOISTURE\n",
      "Mean Absolute Error: 1.5224867724867754\n",
      "Root Mean Squared Error: 3.722773368606709\n",
      "Root Mean Squared Log Error: 1.9294489805658788\n",
      "R Squared: -0.9269284689619228\n",
      "HUMIDITY  VS  WATER LEVEL\n",
      "Mean Absolute Error: 87.02222222222221\n",
      "Root Mean Squared Error: 15484.183492063494\n",
      "Root Mean Squared Log Error: 124.4354591427359\n",
      "R Squared: 0.13517525567656263\n"
     ]
    }
   ],
   "source": [
    "print(labels[2],\" VS \",labels[0])\n",
    "X_train, X_test, y_train, y_test, regression, y_pred = decisionRegression(parameter[2],parameter[0].ravel())\n",
    "print(labels[2],\" VS \",labels[1])\n",
    "X_train, X_test, y_train, y_test, regression, y_pred = decisionRegression(parameter[2],parameter[1].ravel())\n",
    "print(labels[2],\" VS \",labels[3])\n",
    "X_train, X_test, y_train, y_test, regression, y_pred = decisionRegression(parameter[2],parameter[3].ravel())\n",
    "print(labels[2],\" VS \",labels[4])\n",
    "X_train, X_test, y_train, y_test, regression, y_pred = decisionRegression(parameter[2],parameter[4].ravel())\n",
    "print(labels[2],\" VS \",labels[5])\n",
    "X_train, X_test, y_train, y_test, regression, y_pred = decisionRegression(parameter[2],parameter[5].ravel())"
   ]
  },
  {
   "cell_type": "markdown",
   "metadata": {},
   "source": [
    "### TEMPERATURE VS PARAMETERS"
   ]
  },
  {
   "cell_type": "code",
   "execution_count": 34,
   "metadata": {},
   "outputs": [
    {
     "name": "stdout",
     "output_type": "stream",
     "text": [
      "TEMPERATURE  VS  PH\n",
      "Mean Absolute Error: 0.7233942199775532\n",
      "Root Mean Squared Error: 0.9858988025574472\n",
      "Root Mean Squared Log Error: 0.9929243690017117\n",
      "R Squared: 0.48025556665853775\n",
      "TEMPERATURE  VS  SUNLIGHT\n",
      "Mean Absolute Error: 7.183725005153579\n",
      "Root Mean Squared Error: 198.86798584684266\n",
      "Root Mean Squared Log Error: 14.102056085792691\n",
      "R Squared: 0.7879687691697792\n",
      "TEMPERATURE  VS  HUMIDITY\n",
      "Mean Absolute Error: 3.3595086923658353\n",
      "Root Mean Squared Error: 23.251928875571394\n",
      "Root Mean Squared Log Error: 4.822025391427485\n",
      "R Squared: 0.34214110839115874\n",
      "TEMPERATURE  VS  WATER LEVEL\n",
      "Mean Absolute Error: 1.123922902494327\n",
      "Root Mean Squared Error: 1.9541164561062447\n",
      "Root Mean Squared Log Error: 1.3978971550533483\n",
      "R Squared: -0.43256154678346603\n",
      "TEMPERATURE  VS  SOIL MOISTURE\n",
      "Mean Absolute Error: 93.27126819388724\n",
      "Root Mean Squared Error: 15132.893942445107\n",
      "Root Mean Squared Log Error: 123.01582801593098\n",
      "R Squared: -0.04935245681459843\n"
     ]
    }
   ],
   "source": [
    "print(labels[3],\" VS \",labels[0])\n",
    "X_train, X_test, y_train, y_test, regression, y_pred = decisionRegression(parameter[3],parameter[0].ravel())\n",
    "print(labels[3],\" VS \",labels[1])\n",
    "X_train, X_test, y_train, y_test, regression, y_pred = decisionRegression(parameter[3],parameter[1].ravel())\n",
    "print(labels[3],\" VS \",labels[2])\n",
    "X_train, X_test, y_train, y_test, regression, y_pred = decisionRegression(parameter[3],parameter[2].ravel())\n",
    "print(labels[3],\" VS \",labels[5])\n",
    "X_train, X_test, y_train, y_test, regression, y_pred = decisionRegression(parameter[3],parameter[4].ravel())\n",
    "print(labels[3],\" VS \",labels[4])\n",
    "X_train, X_test, y_train, y_test, regression, y_pred = decisionRegression(parameter[3],parameter[5].ravel())"
   ]
  },
  {
   "cell_type": "markdown",
   "metadata": {},
   "source": [
    "### SOIL MOISTURE VS PARAMETERS"
   ]
  },
  {
   "cell_type": "code",
   "execution_count": 35,
   "metadata": {},
   "outputs": [
    {
     "name": "stdout",
     "output_type": "stream",
     "text": [
      "SOIL MOISTURE  VS  PH\n",
      "Mean Absolute Error: 1.0468711174392238\n",
      "Root Mean Squared Error: 1.7818645989164095\n",
      "Root Mean Squared Log Error: 1.3348650114960723\n",
      "R Squared: -0.018372466506602736\n",
      "SOIL MOISTURE  VS  SUNLIGHT\n",
      "Mean Absolute Error: 28.626682801922204\n",
      "Root Mean Squared Error: 2623.4887659628835\n",
      "Root Mean Squared Log Error: 51.22000357246067\n",
      "R Squared: -0.07504889795607239\n",
      "SOIL MOISTURE  VS  HUMIDITY\n",
      "Mean Absolute Error: 4.297535199414896\n",
      "Root Mean Squared Error: 29.772323150148868\n",
      "Root Mean Squared Log Error: 5.456402033405243\n",
      "R Squared: -0.19032286661949205\n",
      "SOIL MOISTURE  VS  TEMPERATURE\n",
      "Mean Absolute Error: 1.0602247772703293\n",
      "Root Mean Squared Error: 1.9051713179670997\n",
      "Root Mean Squared Log Error: 1.3802794347403353\n",
      "R Squared: -0.38795837038252845\n",
      "SOIL MOISTURE  VS  WATER LEVEL\n",
      "Mean Absolute Error: 117.64365347154317\n",
      "Root Mean Squared Error: 22102.11222652826\n",
      "Root Mean Squared Log Error: 148.66779149004756\n",
      "R Squared: -0.16760464314296675\n"
     ]
    }
   ],
   "source": [
    "print(labels[4],\" VS \",labels[0])\n",
    "X_train, X_test, y_train, y_test, regression, y_pred = decisionRegression(parameter[4],parameter[0].ravel())\n",
    "print(labels[4],\" VS \",labels[1])\n",
    "X_train, X_test, y_train, y_test, regression, y_pred = decisionRegression(parameter[4],parameter[1].ravel())\n",
    "print(labels[4],\" VS \",labels[2])\n",
    "X_train, X_test, y_train, y_test, regression, y_pred = decisionRegression(parameter[4],parameter[2].ravel())\n",
    "print(labels[4],\" VS \",labels[3])\n",
    "X_train, X_test, y_train, y_test, regression, y_pred = decisionRegression(parameter[4],parameter[3].ravel())\n",
    "print(labels[4],\" VS \",labels[5])\n",
    "X_train, X_test, y_train, y_test, regression, y_pred = decisionRegression(parameter[4],parameter[5].ravel())"
   ]
  },
  {
   "cell_type": "code",
   "execution_count": null,
   "metadata": {},
   "outputs": [],
   "source": []
  },
  {
   "cell_type": "markdown",
   "metadata": {},
   "source": [
    "### WATERLEVEL VS PARAMATERS"
   ]
  },
  {
   "cell_type": "code",
   "execution_count": 36,
   "metadata": {},
   "outputs": [
    {
     "name": "stdout",
     "output_type": "stream",
     "text": [
      "WATER LEVEL  VS  PH\n",
      "Mean Absolute Error: 0.7400264550264549\n",
      "Root Mean Squared Error: 1.444755224867725\n",
      "Root Mean Squared Log Error: 1.2019797106722412\n",
      "R Squared: 0.15803506843777326\n",
      "WATER LEVEL  VS  SUNLIGHT\n",
      "Mean Absolute Error: 22.803590325018895\n",
      "Root Mean Squared Error: 1843.464502483533\n",
      "Root Mean Squared Log Error: 42.93558550297798\n",
      "R Squared: -0.6168504289799894\n",
      "WATER LEVEL  VS  HUMIDITY\n",
      "Mean Absolute Error: 4.103439153439152\n",
      "Root Mean Squared Error: 32.05610008818342\n",
      "Root Mean Squared Log Error: 5.661810672230521\n",
      "R Squared: 0.045423720350743824\n",
      "WATER LEVEL  VS  TEMPERATURE\n",
      "Mean Absolute Error: 1.0074074074074073\n",
      "Root Mean Squared Error: 2.8656491181657837\n",
      "Root Mean Squared Log Error: 1.6928228253913\n",
      "R Squared: -0.9196545680095867\n",
      "WATER LEVEL  VS  SOIL MOISTURE\n",
      "Mean Absolute Error: 1.1973544973544983\n",
      "Root Mean Squared Error: 2.681966490299826\n",
      "Root Mean Squared Log Error: 1.6376710568059223\n",
      "R Squared: -0.3305906250000008\n"
     ]
    }
   ],
   "source": [
    "print(labels[5],\" VS \",labels[0])\n",
    "X_train, X_test, y_train, y_test, regression, y_pred = decisionRegression(parameter[5],parameter[0].ravel())\n",
    "print(labels[5],\" VS \",labels[1])\n",
    "X_train, X_test, y_train, y_test, regression, y_pred = decisionRegression(parameter[5],parameter[1].ravel())\n",
    "print(labels[5],\" VS \",labels[2])\n",
    "X_train, X_test, y_train, y_test, regression, y_pred = decisionRegression(parameter[5],parameter[2].ravel())\n",
    "print(labels[5],\" VS \",labels[3])\n",
    "X_train, X_test, y_train, y_test, regression, y_pred = decisionRegression(parameter[5],parameter[3].ravel())\n",
    "print(labels[5],\" VS \",labels[4])\n",
    "X_train, X_test, y_train, y_test, regression, y_pred = decisionRegression(parameter[5],parameter[4].ravel())"
   ]
  },
  {
   "cell_type": "markdown",
   "metadata": {},
   "source": [
    "# FULL DATA ANALYSIS"
   ]
  },
  {
   "cell_type": "code",
   "execution_count": 37,
   "metadata": {},
   "outputs": [],
   "source": [
    "# Importing dataset and parameters\n",
    "data = pd.read_csv('../datasets/full_data.csv')\n",
    "ph_value = data.iloc[:,2].values.reshape(-1, 1)\n",
    "luminous_intensity = data.iloc[:,3].values.reshape(-1, 1)\n",
    "humidity = data.iloc[:,4].values.reshape(-1, 1)\n",
    "temperature = data.iloc[:,5].values.reshape(-1, 1)\n",
    "soil_moisture = data.iloc[:,6].values.reshape(-1, 1)\n",
    "water_level = data.iloc[:,7].values.reshape(-1, 1)\n",
    "labels = [\"PH\",\"SUNLIGHT\",\"HUMIDITY\",\"TEMPERATURE\",\"SOIL MOISTURE\",\"WATER LEVEL\"]\n",
    "parameter = [ph_value,luminous_intensity,humidity,temperature,soil_moisture,water_level]"
   ]
  },
  {
   "cell_type": "markdown",
   "metadata": {},
   "source": [
    "### PH VS PARAMETERS"
   ]
  },
  {
   "cell_type": "code",
   "execution_count": 38,
   "metadata": {},
   "outputs": [
    {
     "name": "stdout",
     "output_type": "stream",
     "text": [
      "PH  VS  SUNLIGHT\n",
      "Mean Absolute Error: 23.66779422955956\n",
      "Root Mean Squared Error: 1574.2894108557844\n",
      "Root Mean Squared Log Error: 39.67731607424807\n",
      "R Squared: -0.08713785578949373\n",
      "PH  VS  HUMIDITY\n",
      "Mean Absolute Error: 3.776951756225173\n",
      "Root Mean Squared Error: 26.19726111084853\n",
      "Root Mean Squared Log Error: 5.118326006698727\n",
      "R Squared: 0.007040577421716709\n",
      "PH  VS  TEMPERATURE\n",
      "Mean Absolute Error: 1.1626664985555233\n",
      "Root Mean Squared Error: 3.111755684920546\n",
      "Root Mean Squared Log Error: 1.7640169174133637\n",
      "R Squared: 0.027714584307920287\n",
      "PH  VS  SOIL MOISTURE\n",
      "Mean Absolute Error: 1.3754987517942998\n",
      "Root Mean Squared Error: 3.474494655776652\n",
      "Root Mean Squared Log Error: 1.8639996394250327\n",
      "R Squared: 0.296854714071233\n",
      "PH  VS  WATER LEVEL\n",
      "Mean Absolute Error: 70.1529737575897\n",
      "Root Mean Squared Error: 13362.830295290494\n",
      "Root Mean Squared Log Error: 115.59770886696022\n",
      "R Squared: 0.5899657553052178\n"
     ]
    }
   ],
   "source": [
    "print(labels[0],\" VS \",labels[1])\n",
    "X_train, X_test, y_train, y_test, regression, y_pred = decisionRegression(parameter[0],parameter[1].ravel())\n",
    "print(labels[0],\" VS \",labels[2])\n",
    "X_train, X_test, y_train, y_test, regression, y_pred = decisionRegression(parameter[0],parameter[2].ravel())\n",
    "print(labels[0],\" VS \",labels[3])\n",
    "X_train, X_test, y_train, y_test, regression, y_pred = decisionRegression(parameter[0],parameter[3].ravel())\n",
    "print(labels[0],\" VS \",labels[4])\n",
    "X_train, X_test, y_train, y_test, regression, y_pred = decisionRegression(parameter[0],parameter[4].ravel())\n",
    "print(labels[0],\" VS \",labels[5])\n",
    "X_train, X_test, y_train, y_test, regression, y_pred = decisionRegression(parameter[0],parameter[5].ravel())"
   ]
  },
  {
   "cell_type": "markdown",
   "metadata": {},
   "source": [
    "### SUNLIGHT VS PARAMETERS"
   ]
  },
  {
   "cell_type": "code",
   "execution_count": 39,
   "metadata": {},
   "outputs": [
    {
     "name": "stdout",
     "output_type": "stream",
     "text": [
      "SUNLIGHT  VS  PH\n",
      "Mean Absolute Error: 1.0190745068345088\n",
      "Root Mean Squared Error: 2.469715029717902\n",
      "Root Mean Squared Log Error: 1.5715327008108682\n",
      "R Squared: -0.1476271718131592\n",
      "SUNLIGHT  VS  HUMIDITY\n",
      "Mean Absolute Error: 3.6742410616143775\n",
      "Root Mean Squared Error: 22.972861590012467\n",
      "Root Mean Squared Log Error: 4.79300131337479\n",
      "R Squared: 0.171890377493365\n",
      "SUNLIGHT  VS  TEMPERATURE\n",
      "Mean Absolute Error: 1.0661277165546013\n",
      "Root Mean Squared Error: 2.232411847202807\n",
      "Root Mean Squared Log Error: 1.4941257802483723\n",
      "R Squared: 0.24344616534968688\n",
      "SUNLIGHT  VS  SOIL MOISTURE\n",
      "Mean Absolute Error: 1.8570326439538978\n",
      "Root Mean Squared Error: 5.101722129304042\n",
      "Root Mean Squared Log Error: 2.2586992117818703\n",
      "R Squared: -0.1556900968478674\n",
      "SUNLIGHT  VS  WATER LEVEL\n",
      "Mean Absolute Error: 163.11993584311134\n",
      "Root Mean Squared Error: 34396.27135074054\n",
      "Root Mean Squared Log Error: 185.46231787277043\n",
      "R Squared: -0.06594067523621594\n"
     ]
    }
   ],
   "source": [
    "print(labels[1],\" VS \",labels[0])\n",
    "X_train, X_test, y_train, y_test, regression, y_pred = decisionRegression(parameter[1],parameter[0].ravel())\n",
    "print(labels[1],\" VS \",labels[2])\n",
    "X_train, X_test, y_train, y_test, regression, y_pred = decisionRegression(parameter[1],parameter[2].ravel())\n",
    "print(labels[1],\" VS \",labels[3])\n",
    "X_train, X_test, y_train, y_test, regression, y_pred = decisionRegression(parameter[1],parameter[3].ravel())\n",
    "print(labels[1],\" VS \",labels[4])\n",
    "X_train, X_test, y_train, y_test, regression, y_pred = decisionRegression(parameter[1],parameter[4].ravel())\n",
    "print(labels[1],\" VS \",labels[5])\n",
    "X_train, X_test, y_train, y_test, regression, y_pred = decisionRegression(parameter[1],parameter[5].ravel())"
   ]
  },
  {
   "cell_type": "markdown",
   "metadata": {},
   "source": [
    "### HUMIDITY VS PARAMETERS"
   ]
  },
  {
   "cell_type": "code",
   "execution_count": 40,
   "metadata": {},
   "outputs": [
    {
     "name": "stdout",
     "output_type": "stream",
     "text": [
      "HUMIDITY  VS  PH\n",
      "Mean Absolute Error: 1.0326651207431752\n",
      "Root Mean Squared Error: 1.9561589477647716\n",
      "Root Mean Squared Log Error: 1.3986275228826193\n",
      "R Squared: -0.21965179988490435\n",
      "HUMIDITY  VS  SUNLIGHT\n",
      "Mean Absolute Error: 22.217686722109796\n",
      "Root Mean Squared Error: 1540.6029349453013\n",
      "Root Mean Squared Log Error: 39.25051509146474\n",
      "R Squared: 0.10375255272866934\n",
      "HUMIDITY  VS  TEMPERATURE\n",
      "Mean Absolute Error: 0.9615243226184522\n",
      "Root Mean Squared Error: 1.6201280723400664\n",
      "Root Mean Squared Log Error: 1.2728425167082007\n",
      "R Squared: 0.33786031929191807\n",
      "HUMIDITY  VS  SOIL MOISTURE\n",
      "Mean Absolute Error: 1.9069353480439442\n",
      "Root Mean Squared Error: 5.624045480135855\n",
      "Root Mean Squared Log Error: 2.371507006132568\n",
      "R Squared: -0.15963630606060164\n",
      "HUMIDITY  VS  WATER LEVEL\n",
      "Mean Absolute Error: 162.59874504036267\n",
      "Root Mean Squared Error: 36533.34929670452\n",
      "Root Mean Squared Log Error: 191.13699091673627\n",
      "R Squared: -0.1524267042041938\n"
     ]
    }
   ],
   "source": [
    "print(labels[2],\" VS \",labels[0])\n",
    "X_train, X_test, y_train, y_test, regression, y_pred = decisionRegression(parameter[2],parameter[0].ravel())\n",
    "print(labels[2],\" VS \",labels[1])\n",
    "X_train, X_test, y_train, y_test, regression, y_pred = decisionRegression(parameter[2],parameter[1].ravel())\n",
    "print(labels[2],\" VS \",labels[3])\n",
    "X_train, X_test, y_train, y_test, regression, y_pred = decisionRegression(parameter[2],parameter[3].ravel())\n",
    "print(labels[2],\" VS \",labels[4])\n",
    "X_train, X_test, y_train, y_test, regression, y_pred = decisionRegression(parameter[2],parameter[4].ravel())\n",
    "print(labels[2],\" VS \",labels[5])\n",
    "X_train, X_test, y_train, y_test, regression, y_pred = decisionRegression(parameter[2],parameter[5].ravel())"
   ]
  },
  {
   "cell_type": "markdown",
   "metadata": {},
   "source": [
    "### TEMPERATURE VS PARAMETERS"
   ]
  },
  {
   "cell_type": "code",
   "execution_count": 41,
   "metadata": {},
   "outputs": [
    {
     "name": "stdout",
     "output_type": "stream",
     "text": [
      "TEMPERATURE  VS  PH\n",
      "Mean Absolute Error: 0.9116168337489171\n",
      "Root Mean Squared Error: 1.7038164001017677\n",
      "Root Mean Squared Log Error: 1.3053031832113824\n",
      "R Squared: 0.11710131573886673\n",
      "TEMPERATURE  VS  SUNLIGHT\n",
      "Mean Absolute Error: 17.664711059434964\n",
      "Root Mean Squared Error: 1005.8184457181254\n",
      "Root Mean Squared Log Error: 31.71464087323275\n",
      "R Squared: 0.044009202547396375\n",
      "TEMPERATURE  VS  HUMIDITY\n",
      "Mean Absolute Error: 3.067537814125577\n",
      "Root Mean Squared Error: 16.23807565920054\n",
      "Root Mean Squared Log Error: 4.0296495702728965\n",
      "R Squared: 0.30010544766163405\n",
      "TEMPERATURE  VS  SOIL MOISTURE\n",
      "Mean Absolute Error: 1.6506365393025526\n",
      "Root Mean Squared Error: 4.224111400030435\n",
      "Root Mean Squared Log Error: 2.055264313909633\n",
      "R Squared: 0.058792089384094526\n",
      "TEMPERATURE  VS  WATER LEVEL\n",
      "Mean Absolute Error: 147.26992591976125\n",
      "Root Mean Squared Error: 29019.5748917594\n",
      "Root Mean Squared Log Error: 170.3513278250551\n",
      "R Squared: 0.12997813086700505\n"
     ]
    }
   ],
   "source": [
    "print(labels[3],\" VS \",labels[0])\n",
    "X_train, X_test, y_train, y_test, regression, y_pred = decisionRegression(parameter[3],parameter[0].ravel())\n",
    "print(labels[3],\" VS \",labels[1])\n",
    "X_train, X_test, y_train, y_test, regression, y_pred = decisionRegression(parameter[3],parameter[1].ravel())\n",
    "print(labels[3],\" VS \",labels[2])\n",
    "X_train, X_test, y_train, y_test, regression, y_pred = decisionRegression(parameter[3],parameter[2].ravel())\n",
    "print(labels[3],\" VS \",labels[4])\n",
    "X_train, X_test, y_train, y_test, regression, y_pred = decisionRegression(parameter[3],parameter[4].ravel())\n",
    "print(labels[3],\" VS \",labels[5])\n",
    "X_train, X_test, y_train, y_test, regression, y_pred = decisionRegression(parameter[3],parameter[5].ravel())"
   ]
  },
  {
   "cell_type": "markdown",
   "metadata": {},
   "source": [
    "### SOIL MOISTURE VS PARAMETERS"
   ]
  },
  {
   "cell_type": "code",
   "execution_count": 42,
   "metadata": {},
   "outputs": [
    {
     "name": "stdout",
     "output_type": "stream",
     "text": [
      "SOIL MOISTURE  VS  PH\n",
      "Mean Absolute Error: 0.9751854570610919\n",
      "Root Mean Squared Error: 2.744770381204845\n",
      "Root Mean Squared Log Error: 1.6567348554324692\n",
      "R Squared: 0.08736277305503126\n",
      "SOIL MOISTURE  VS  SUNLIGHT\n",
      "Mean Absolute Error: 20.854167911369345\n",
      "Root Mean Squared Error: 1216.0471095170299\n",
      "Root Mean Squared Log Error: 34.871867020809624\n",
      "R Squared: 0.005874916548122555\n",
      "SOIL MOISTURE  VS  HUMIDITY\n",
      "Mean Absolute Error: 3.995834997055084\n",
      "Root Mean Squared Error: 28.31870224943655\n",
      "Root Mean Squared Log Error: 5.321531945731093\n",
      "R Squared: -0.05537756030457497\n",
      "SOIL MOISTURE  VS  TEMPERATURE\n",
      "Mean Absolute Error: 1.0834687094904785\n",
      "Root Mean Squared Error: 2.619746435981121\n",
      "Root Mean Squared Log Error: 1.6185630775416573\n",
      "R Squared: 0.10941939250452448\n",
      "SOIL MOISTURE  VS  WATER LEVEL\n",
      "Mean Absolute Error: 112.74845375363817\n",
      "Root Mean Squared Error: 20885.928059755184\n",
      "Root Mean Squared Log Error: 144.51964593007824\n",
      "R Squared: 0.35833754410011387\n"
     ]
    }
   ],
   "source": [
    "print(labels[4],\" VS \",labels[0])\n",
    "X_train, X_test, y_train, y_test, regression, y_pred = decisionRegression(parameter[4],parameter[0].ravel())\n",
    "print(labels[4],\" VS \",labels[1])\n",
    "X_train, X_test, y_train, y_test, regression, y_pred = decisionRegression(parameter[4],parameter[1].ravel())\n",
    "print(labels[4],\" VS \",labels[2])\n",
    "X_train, X_test, y_train, y_test, regression, y_pred = decisionRegression(parameter[4],parameter[2].ravel())\n",
    "print(labels[4],\" VS \",labels[3])\n",
    "X_train, X_test, y_train, y_test, regression, y_pred = decisionRegression(parameter[4],parameter[3].ravel())\n",
    "print(labels[4],\" VS \",labels[5])\n",
    "X_train, X_test, y_train, y_test, regression, y_pred = decisionRegression(parameter[4],parameter[5].ravel())"
   ]
  },
  {
   "cell_type": "markdown",
   "metadata": {},
   "source": [
    "### WATERLEVEL VS PARAMATERS"
   ]
  },
  {
   "cell_type": "code",
   "execution_count": 43,
   "metadata": {},
   "outputs": [
    {
     "name": "stdout",
     "output_type": "stream",
     "text": [
      "WATER LEVEL  VS  PH\n",
      "Mean Absolute Error: 0.706436464098205\n",
      "Root Mean Squared Error: 1.3289550250625413\n",
      "Root Mean Squared Log Error: 1.152803116348382\n",
      "R Squared: 0.21033622444567168\n",
      "WATER LEVEL  VS  SUNLIGHT\n",
      "Mean Absolute Error: 23.01986015786843\n",
      "Root Mean Squared Error: 1913.3803945455816\n",
      "Root Mean Squared Log Error: 43.74220381445797\n",
      "R Squared: 0.055329833132880424\n",
      "WATER LEVEL  VS  HUMIDITY\n",
      "Mean Absolute Error: 3.665350120243933\n",
      "Root Mean Squared Error: 25.972566479737292\n",
      "Root Mean Squared Log Error: 5.096328725635474\n",
      "R Squared: 0.07357243492218768\n",
      "WATER LEVEL  VS  TEMPERATURE\n",
      "Mean Absolute Error: 1.136625028744545\n",
      "Root Mean Squared Error: 3.3022440030372042\n",
      "Root Mean Squared Log Error: 1.81720774900318\n",
      "R Squared: -0.24044548752355888\n",
      "WATER LEVEL  VS  SOIL MOISTURE\n",
      "Mean Absolute Error: 1.2531172717835446\n",
      "Root Mean Squared Error: 2.8361514621033943\n",
      "Root Mean Squared Log Error: 1.6840877239928431\n",
      "R Squared: 0.42584282782294447\n"
     ]
    }
   ],
   "source": [
    "print(labels[5],\" VS \",labels[0])\n",
    "X_train, X_test, y_train, y_test, regression, y_pred = decisionRegression(parameter[5],parameter[0].ravel())\n",
    "print(labels[5],\" VS \",labels[1])\n",
    "X_train, X_test, y_train, y_test, regression, y_pred = decisionRegression(parameter[5],parameter[1].ravel())\n",
    "print(labels[5],\" VS \",labels[2])\n",
    "X_train, X_test, y_train, y_test, regression, y_pred = decisionRegression(parameter[5],parameter[2].ravel())\n",
    "print(labels[5],\" VS \",labels[3])\n",
    "X_train, X_test, y_train, y_test, regression, y_pred = decisionRegression(parameter[5],parameter[3].ravel())\n",
    "print(labels[5],\" VS \",labels[4])\n",
    "X_train, X_test, y_train, y_test, regression, y_pred = decisionRegression(parameter[5],parameter[4].ravel())"
   ]
  },
  {
   "cell_type": "code",
   "execution_count": null,
   "metadata": {},
   "outputs": [],
   "source": []
  },
  {
   "cell_type": "code",
   "execution_count": null,
   "metadata": {},
   "outputs": [],
   "source": []
  }
 ],
 "metadata": {
  "interpreter": {
   "hash": "aee8b7b246df8f9039afb4144a1f6fd8d2ca17a180786b69acc140d282b71a49"
  },
  "kernelspec": {
   "display_name": "Python 3.10.0 64-bit",
   "language": "python",
   "name": "python3"
  },
  "language_info": {
   "codemirror_mode": {
    "name": "ipython",
    "version": 3
   },
   "file_extension": ".py",
   "mimetype": "text/x-python",
   "name": "python",
   "nbconvert_exporter": "python",
   "pygments_lexer": "ipython3",
   "version": "3.10.0"
  },
  "orig_nbformat": 4
 },
 "nbformat": 4,
 "nbformat_minor": 2
}
